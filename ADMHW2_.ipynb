{
 "cells": [
  {
   "cell_type": "markdown",
   "id": "q5hSP30BQug1",
   "metadata": {
    "id": "q5hSP30BQug1"
   },
   "source": [
    "# Libraries"
   ]
  },
  {
   "cell_type": "code",
   "execution_count": null,
   "id": "PtGqF1_lFaIa",
   "metadata": {
    "id": "PtGqF1_lFaIa"
   },
   "outputs": [],
   "source": [
    "import pandas as pd\n",
    "from  tqdm import tqdm\n",
    "import math\n",
    "import matplotlib.pyplot as plt\n",
    "import numpy as np\n",
    "from collections import Counter\n",
    "from collections import OrderedDict\n",
    "import seaborn\n",
    "from datetime import datetime\n",
    "import scipy.stats\n",
    "import scipy\n",
    "from scipy import stats\n",
    "from scipy.stats import fisher_exact\n",
    "from scipy.stats import ks_2samp\n",
    "from sklearn.linear_model import LinearRegression\n",
    "import statistics\n",
    "import statsmodels.api as sm\n",
    "from statsmodels.formula.api import ols\n",
    "from scipy.stats import pearsonr\n",
    "from sklearn.model_selection import train_test_split\n",
    "import time\n",
    "import seaborn as sns\n",
    "from sklearn.metrics import mean_squared_error, r2_score\n",
    "from functions_used import extract_year\n",
    "import warnings\n",
    "warnings.filterwarnings('ignore')\n",
    "\n",
    "\n"
   ]
  },
  {
   "cell_type": "markdown",
   "id": "nHXQ2KBsFeFy",
   "metadata": {
    "id": "nHXQ2KBsFeFy"
   },
   "source": [
    "# [RQ1]  \n",
    "Exploratory Data Analysis (EDA)"
   ]
  },
  {
   "cell_type": "markdown",
   "id": "yU1gNXICFg1i",
   "metadata": {
    "id": "yU1gNXICFg1i"
   },
   "source": [
    "The authors file can be read in it's integrity because it is not as demanding as the book one, thus we load the second file using chunks, but here we are processing only 10000 rows and we'll later show how we managed to view it entirely."
   ]
  },
  {
   "cell_type": "code",
   "execution_count": null,
   "id": "DGFuikSUGAhO",
   "metadata": {
    "id": "DGFuikSUGAhO"
   },
   "outputs": [],
   "source": [
    "authors_df = pd.read_json('lighter_authors.json', lines = True)\n",
    "authorsDf = authors_df \n"
   ]
  },
  {
   "cell_type": "code",
   "execution_count": null,
   "id": "bmSq_6CJGBvB",
   "metadata": {
    "id": "bmSq_6CJGBvB"
   },
   "outputs": [],
   "source": [
    "chunk_s = 100000\n",
    "books_df = pd.read_json('lighter_books.json', lines = True, nrows = chunk_s)\n",
    "booksDf = books_df\n",
    "df = books_df\n",
    "booksDf_org = books_df"
   ]
  },
  {
   "cell_type": "markdown",
   "id": "VXkATJTKGD5z",
   "metadata": {
    "id": "VXkATJTKGD5z"
   },
   "source": [
    " The first thing we do is visualizing the first five rows to get an idea of the structure embedded in the data frames"
   ]
  },
  {
   "cell_type": "code",
   "execution_count": null,
   "id": "ZdDjlIsEGHdv",
   "metadata": {
    "id": "ZdDjlIsEGHdv"
   },
   "outputs": [],
   "source": [
    "authors_df.head(5)"
   ]
  },
  {
   "cell_type": "code",
   "execution_count": null,
   "id": "TrWwnBs2GIa8",
   "metadata": {
    "id": "TrWwnBs2GIa8"
   },
   "outputs": [],
   "source": [
    "books_df.head(5)"
   ]
  },
  {
   "cell_type": "markdown",
   "id": "qZveFGJpGJwe",
   "metadata": {
    "id": "qZveFGJpGJwe"
   },
   "source": [
    "We can also have a look at the last 5 rows"
   ]
  },
  {
   "cell_type": "code",
   "execution_count": null,
   "id": "fRhfoRQJGLDH",
   "metadata": {
    "id": "fRhfoRQJGLDH"
   },
   "outputs": [],
   "source": [
    "authors_df.tail(5)"
   ]
  },
  {
   "cell_type": "code",
   "execution_count": null,
   "id": "6YF6qscWGMI7",
   "metadata": {
    "id": "6YF6qscWGMI7"
   },
   "outputs": [],
   "source": [
    "books_df.tail(5)"
   ]
  },
  {
   "cell_type": "markdown",
   "id": "uqJ9gVEIGNyF",
   "metadata": {
    "id": "uqJ9gVEIGNyF"
   },
   "source": [
    "Now we can extract 5 random rows from the dataset"
   ]
  },
  {
   "cell_type": "code",
   "execution_count": null,
   "id": "GuDazMxWGPCe",
   "metadata": {
    "id": "GuDazMxWGPCe"
   },
   "outputs": [],
   "source": [
    "authors_df.sample(5)"
   ]
  },
  {
   "cell_type": "code",
   "execution_count": null,
   "id": "XL7zfdivGRBC",
   "metadata": {
    "id": "XL7zfdivGRBC"
   },
   "outputs": [],
   "source": [
    "books_df.sample(5)"
   ]
  },
  {
   "cell_type": "markdown",
   "id": "8-OA1XaJgKdb",
   "metadata": {
    "id": "8-OA1XaJgKdb"
   },
   "source": [
    "We trimmed the dataset to exclude all the unnecessary columns to make it more readable"
   ]
  },
  {
   "cell_type": "code",
   "execution_count": null,
   "id": "Zy-WKWX4gHDv",
   "metadata": {
    "id": "Zy-WKWX4gHDv"
   },
   "outputs": [],
   "source": [
    "columns_to_keep = ['title','author_name', 'author_id', 'work_id','language', 'average_rating', 'ratings_count', 'text_reviews_count', 'publication_date', 'original_publication_date', 'num_pages', 'series_id']\n",
    "\n",
    "filtered_data = pd.DataFrame(columns=columns_to_keep)\n",
    "\n",
    "for chunk in pd.read_json('lighter_books.json', lines=True, chunksize=10000):\n",
    "    chunk = chunk[columns_to_keep]\n",
    "    filtered_data = pd.concat([filtered_data,chunk], ignore_index=True)\n",
    "\n",
    "filtered_data.to_json('trimmed_books5.json', orient='records', lines=True)"
   ]
  },
  {
   "cell_type": "markdown",
   "id": "vTduDdzoGXHV",
   "metadata": {
    "id": "vTduDdzoGXHV"
   },
   "source": [
    "With the command .shape we get the numbers of rows and columns of the dataframe"
   ]
  },
  {
   "cell_type": "code",
   "execution_count": null,
   "id": "VASz0Yq-GaDI",
   "metadata": {
    "id": "VASz0Yq-GaDI"
   },
   "outputs": [],
   "source": [
    "print(authors_df.shape)\n",
    "print('Number of rows: ', authors_df.shape[0])\n",
    "print('Number of columns: ', authors_df.shape[1])"
   ]
  },
  {
   "cell_type": "code",
   "execution_count": null,
   "id": "JS4wKiUUGiG4",
   "metadata": {
    "id": "JS4wKiUUGiG4"
   },
   "outputs": [],
   "source": [
    "print(books_df.shape)\n",
    "print('Number of rows: ', books_df.shape[0])\n",
    "print('Number of columns: ', books_df.shape[1])"
   ]
  },
  {
   "cell_type": "markdown",
   "id": "mOaSppBYGxvJ",
   "metadata": {
    "id": "mOaSppBYGxvJ"
   },
   "source": [
    "The number of elements contained in the data frames is obtained using .size()"
   ]
  },
  {
   "cell_type": "code",
   "execution_count": null,
   "id": "XwTsRaQKHDxT",
   "metadata": {
    "id": "XwTsRaQKHDxT"
   },
   "outputs": [],
   "source": [
    "print(authors_df.size)"
   ]
  },
  {
   "cell_type": "markdown",
   "id": "P9tkjJ5aHHVk",
   "metadata": {
    "id": "P9tkjJ5aHHVk"
   },
   "source": [
    "We can get the names of the columns with another method compared to one used for the first table"
   ]
  },
  {
   "cell_type": "code",
   "execution_count": null,
   "id": "GhHCwynXHI1-",
   "metadata": {
    "id": "GhHCwynXHI1-"
   },
   "outputs": [],
   "source": [
    "print(authors_df.columns)"
   ]
  },
  {
   "cell_type": "code",
   "execution_count": null,
   "id": "x1tQNPTKHJ2n",
   "metadata": {
    "id": "x1tQNPTKHJ2n"
   },
   "outputs": [],
   "source": [
    "print(books_df.columns)"
   ]
  },
  {
   "cell_type": "markdown",
   "id": "jJEvc57zHMrb",
   "metadata": {
    "id": "jJEvc57zHMrb"
   },
   "source": [
    "We get a summary of the data types in authors_df and we notice that half of the columns contain object as data type ('work_ids', 'book_ids', 'name', 'gender', 'image_url' and 'about'). Whereas the other half is composed mainly by int64 ('ratings_count',text_reviews_count', 'works_count', 'id', 'fans_count') with the exception of one float64 ('average_rating')."
   ]
  },
  {
   "cell_type": "code",
   "execution_count": null,
   "id": "ymTXjsKCHL23",
   "metadata": {
    "id": "ymTXjsKCHL23"
   },
   "outputs": [],
   "source": [
    "authors_df.info()"
   ]
  },
  {
   "cell_type": "markdown",
   "id": "qLfpSrlUHQco",
   "metadata": {
    "id": "qLfpSrlUHQco"
   },
   "source": [
    "In this case we'll see the amount of non null entries only for the 10000 rows imported"
   ]
  },
  {
   "cell_type": "code",
   "execution_count": null,
   "id": "dM5MZnsuHO9_",
   "metadata": {
    "id": "dM5MZnsuHO9_"
   },
   "outputs": [],
   "source": [
    "books_df.info()"
   ]
  },
  {
   "cell_type": "markdown",
   "id": "uDdf-kQYHqVo",
   "metadata": {
    "id": "uDdf-kQYHqVo"
   },
   "source": [
    "Getting overall statistics about the numerical columns from the datasets"
   ]
  },
  {
   "cell_type": "code",
   "execution_count": null,
   "id": "2JrR7qT5HrMi",
   "metadata": {
    "id": "2JrR7qT5HrMi"
   },
   "outputs": [],
   "source": [
    "authors_df.describe()"
   ]
  },
  {
   "cell_type": "code",
   "execution_count": null,
   "id": "LJJdK-_2HsJ4",
   "metadata": {
    "id": "LJJdK-_2HsJ4"
   },
   "outputs": [],
   "source": [
    "books_df.describe()"
   ]
  },
  {
   "cell_type": "markdown",
   "id": "E1hHszy2Htkf",
   "metadata": {
    "id": "E1hHszy2Htkf"
   },
   "source": [
    "## Univariate Analysis"
   ]
  },
  {
   "cell_type": "markdown",
   "id": "7jdGldKsHvbz",
   "metadata": {
    "id": "7jdGldKsHvbz"
   },
   "source": [
    "#### Columns of the author dataset"
   ]
  },
  {
   "cell_type": "markdown",
   "id": "8I350vmFHwgM",
   "metadata": {
    "id": "8I350vmFHwgM"
   },
   "source": [
    "##### gender"
   ]
  },
  {
   "cell_type": "markdown",
   "id": "BiBDeA4YH0YB",
   "metadata": {
    "id": "BiBDeA4YH0YB"
   },
   "source": [
    "Before analyzing the variable gender with plots, is necessary to clean the data in order to make it more meaningful"
   ]
  },
  {
   "cell_type": "code",
   "execution_count": null,
   "id": "2JdMLgP-HyFG",
   "metadata": {
    "id": "2JdMLgP-HyFG"
   },
   "outputs": [],
   "source": [
    "authors_df['gender'] = authors_df['gender'].apply(lambda x: 'other' if x.strip() == ' ' or x.strip() not in ['male', 'female'] else x)"
   ]
  },
  {
   "cell_type": "code",
   "execution_count": null,
   "id": "S3Rn-iWXIFp7",
   "metadata": {
    "id": "S3Rn-iWXIFp7"
   },
   "outputs": [],
   "source": [
    "authors_df['gender'].value_counts()"
   ]
  },
  {
   "cell_type": "code",
   "execution_count": null,
   "id": "51UaGiTVIHEw",
   "metadata": {
    "id": "51UaGiTVIHEw"
   },
   "outputs": [],
   "source": [
    "authors_df['gender'].value_counts().plot(kind = 'pie', autopct = '%1.2f%%')"
   ]
  },
  {
   "cell_type": "code",
   "execution_count": null,
   "id": "IUgFBmvuICdK",
   "metadata": {
    "id": "IUgFBmvuICdK"
   },
   "outputs": [],
   "source": [
    "sns.histplot(authors_df['gender'])"
   ]
  },
  {
   "cell_type": "markdown",
   "id": "ztbfd7sLILCe",
   "metadata": {
    "id": "ztbfd7sLILCe"
   },
   "source": [
    "##### ratings_count"
   ]
  },
  {
   "cell_type": "code",
   "execution_count": null,
   "id": "Igf-7nHjIMOh",
   "metadata": {
    "id": "Igf-7nHjIMOh"
   },
   "outputs": [],
   "source": [
    "authors_df['ratings_count'] = authors_df.loc[authors_df['ratings_count'] >= 0, 'ratings_count']"
   ]
  },
  {
   "cell_type": "code",
   "execution_count": null,
   "id": "HLhUGy6RINX2",
   "metadata": {
    "id": "HLhUGy6RINX2"
   },
   "outputs": [],
   "source": [
    "authors_df[['ratings_count']].describe()"
   ]
  },
  {
   "cell_type": "code",
   "execution_count": null,
   "id": "S_qtAXzhIPst",
   "metadata": {
    "id": "S_qtAXzhIPst"
   },
   "outputs": [],
   "source": [
    "sns.histplot(authors_df['ratings_count'], bins = 15000, stat = 'probability')\n",
    "plt.xlabel('author_ratings_count')\n",
    "plt.ylabel('Probability Density')\n",
    "plt.xlim(0,15000)\n",
    "plt.title('Histogram for author_ratings_count')\n",
    "\n",
    "mean = authors_df['ratings_count'].mean()\n",
    "plt.axvline(x = mean, color = 'red', label = f'Mean: {mean:.2f}')\n",
    "plt.legend()\n",
    "\n",
    "\n",
    "plt.show()"
   ]
  },
  {
   "cell_type": "code",
   "execution_count": null,
   "id": "oejrm8s3IQ8F",
   "metadata": {
    "id": "oejrm8s3IQ8F"
   },
   "outputs": [],
   "source": [
    "sns.boxplot(authors_df['ratings_count'])\n",
    "plt.ylim(0,800)"
   ]
  },
  {
   "cell_type": "markdown",
   "id": "dAHTId9-IRs3",
   "metadata": {
    "id": "dAHTId9-IRs3"
   },
   "source": [
    "##### average_rating"
   ]
  },
  {
   "cell_type": "markdown",
   "id": "srEMMK8OId7i",
   "metadata": {
    "id": "srEMMK8OId7i"
   },
   "source": [
    "For this variable the adjustments needed are to remove the occurencies that don't make sense, like a number of ratings that's negative"
   ]
  },
  {
   "cell_type": "code",
   "execution_count": null,
   "id": "Tj1H41yLITTu",
   "metadata": {
    "id": "Tj1H41yLITTu"
   },
   "outputs": [],
   "source": [
    "authors_df['average_rating'] = authors_df.loc[authors_df['average_rating'] >= 0, 'average_rating']"
   ]
  },
  {
   "cell_type": "code",
   "execution_count": null,
   "id": "niy7z_49ITrb",
   "metadata": {
    "id": "niy7z_49ITrb"
   },
   "outputs": [],
   "source": [
    "authors_df[['average_rating']].describe()"
   ]
  },
  {
   "cell_type": "code",
   "execution_count": null,
   "id": "Tg5qlC6CIULF",
   "metadata": {
    "id": "Tg5qlC6CIULF"
   },
   "outputs": [],
   "source": [
    "sns.histplot(authors_df[['average_rating']], bins= 50)\n",
    "plt.xlabel('author_average_rating')\n",
    "plt.ylabel('Frequency')\n",
    "plt.xlim(0,5)\n",
    "plt.title('Histogram for author_average_rating')\n",
    "\n",
    "mean = authors_df['average_rating'].mean()\n",
    "plt.axvline(x = mean, color = 'red', label = f'Mean: {mean:.2f}')\n",
    "plt.legend()\n",
    "\n",
    "plt.show()"
   ]
  },
  {
   "cell_type": "code",
   "execution_count": null,
   "id": "YDcwc_x1IVEU",
   "metadata": {
    "id": "YDcwc_x1IVEU"
   },
   "outputs": [],
   "source": [
    "sns.distplot(authors_df['average_rating'])\n",
    "plt.xlim(0,5)"
   ]
  },
  {
   "cell_type": "code",
   "execution_count": null,
   "id": "emSyXT2jIVQo",
   "metadata": {
    "id": "emSyXT2jIVQo"
   },
   "outputs": [],
   "source": [
    "authors_df['average_rating'].skew()"
   ]
  },
  {
   "cell_type": "code",
   "execution_count": null,
   "id": "3iMS3w8tIVkg",
   "metadata": {
    "id": "3iMS3w8tIVkg"
   },
   "outputs": [],
   "source": [
    "sns.boxplot(authors_df['average_rating'])\n",
    "plt.ylim(0,5)"
   ]
  },
  {
   "cell_type": "markdown",
   "id": "VMXSlrZEIu_y",
   "metadata": {
    "id": "VMXSlrZEIu_y"
   },
   "source": [
    "##### text_reviews_count"
   ]
  },
  {
   "cell_type": "code",
   "execution_count": null,
   "id": "Ff3TloZuIwsg",
   "metadata": {
    "id": "Ff3TloZuIwsg"
   },
   "outputs": [],
   "source": [
    "authors_df['text_reviews_count'].describe()"
   ]
  },
  {
   "cell_type": "code",
   "execution_count": null,
   "id": "C7g83E83IxlX",
   "metadata": {
    "id": "C7g83E83IxlX"
   },
   "outputs": [],
   "source": [
    "sns.histplot(authors_df['text_reviews_count'], bins= 1000, stat = 'probability')\n",
    "plt.xlabel('text_reviews_count')\n",
    "plt.ylabel('Probability Density')\n",
    "plt.xlim(0,4000)\n",
    "plt.title('Histogram for text_reviews_count')\n",
    "\n",
    "mean = authors_df['text_reviews_count'].mean()\n",
    "plt.axvline(x = mean, color = 'red', label = f'Mean: {mean:.2f}')\n",
    "plt.legend()\n",
    "\n",
    "plt.show()"
   ]
  },
  {
   "cell_type": "code",
   "execution_count": null,
   "id": "2gN1dxecI3x9",
   "metadata": {
    "id": "2gN1dxecI3x9"
   },
   "outputs": [],
   "source": [
    "sns.boxplot(authors_df['text_reviews_count'])\n",
    "plt.ylim(0,150)"
   ]
  },
  {
   "cell_type": "markdown",
   "id": "xwZWfuyjI5xH",
   "metadata": {
    "id": "xwZWfuyjI5xH"
   },
   "source": [
    "##### works_count"
   ]
  },
  {
   "cell_type": "code",
   "execution_count": null,
   "id": "Izm1R7IZI7Dl",
   "metadata": {
    "id": "Izm1R7IZI7Dl"
   },
   "outputs": [],
   "source": [
    "authors_df[['works_count']].describe()"
   ]
  },
  {
   "cell_type": "code",
   "execution_count": null,
   "id": "HBR-HaYCI8pN",
   "metadata": {
    "id": "HBR-HaYCI8pN"
   },
   "outputs": [],
   "source": [
    "sns.histplot(authors_df[['works_count']], bins= 100000, stat = 'probability')\n",
    "plt.xlabel('author_works_count')\n",
    "plt.ylabel('Probability Density')\n",
    "plt.xlim(0,400)\n",
    "plt.title('Histogram for author_works_count')\n",
    "\n",
    "mean = authors_df['works_count'].mean()\n",
    "plt.axvline(x = mean, color = 'red', label = f'Mean: {mean:.2f}')\n",
    "plt.legend()\n",
    "\n",
    "plt.show()"
   ]
  },
  {
   "cell_type": "markdown",
   "id": "yZkk_FXBI_11",
   "metadata": {
    "id": "yZkk_FXBI_11"
   },
   "source": [
    "##### fans_count"
   ]
  },
  {
   "cell_type": "code",
   "execution_count": null,
   "id": "Iy7rUYAcJAoJ",
   "metadata": {
    "id": "Iy7rUYAcJAoJ"
   },
   "outputs": [],
   "source": [
    "authors_df[['fans_count']].describe()"
   ]
  },
  {
   "cell_type": "code",
   "execution_count": null,
   "id": "tV1Be7bTJBsE",
   "metadata": {
    "id": "tV1Be7bTJBsE"
   },
   "outputs": [],
   "source": [
    "sns.histplot(authors_df[['fans_count']], bins= 10000, stat = 'probability')\n",
    "plt.xlabel('author_fans_count')\n",
    "plt.ylabel('Probability Density')\n",
    "plt.xlim(0,2500)\n",
    "plt.title('Histogram for author_fans_count')\n",
    "\n",
    "mean = authors_df['fans_count'].mean()\n",
    "plt.axvline(x = mean, color = 'red', label = f'Mean: {mean:.2f}')\n",
    "plt.legend()\n",
    "\n",
    "plt.show()"
   ]
  },
  {
   "cell_type": "markdown",
   "id": "N59np41-JFEx",
   "metadata": {
    "id": "N59np41-JFEx"
   },
   "source": [
    "reducing the categories on the x-axis by aggregating the number of fans in intervals of 25'000 each"
   ]
  },
  {
   "cell_type": "code",
   "execution_count": null,
   "id": "4H1gw3mCJF7z",
   "metadata": {
    "id": "4H1gw3mCJF7z"
   },
   "outputs": [],
   "source": [
    "agg_count = authors_df['fans_count'].groupby(authors_df['fans_count'].index // 25000).sum()\n",
    "agg_count.plot(kind = 'bar')"
   ]
  },
  {
   "cell_type": "markdown",
   "id": "NwoAhQhtJN8i",
   "metadata": {
    "id": "NwoAhQhtJN8i"
   },
   "source": [
    "#### Univariate analysis of some columns from lighter books"
   ]
  },
  {
   "cell_type": "markdown",
   "id": "wkTT9BZYJXQJ",
   "metadata": {
    "id": "wkTT9BZYJXQJ"
   },
   "source": [
    "##### average_rating"
   ]
  },
  {
   "cell_type": "code",
   "execution_count": null,
   "id": "HhJJxH0AJYXJ",
   "metadata": {
    "id": "HhJJxH0AJYXJ"
   },
   "outputs": [],
   "source": [
    "books_avg_ratings = pd.DataFrame()\n",
    "average_rating = []\n",
    "\n",
    "for chunks in pd.read_json('lighter_books.json', lines = True, chunksize = 10000):\n",
    "    data = chunks[['average_rating']]\n",
    "    average_rating.append(data)\n",
    "\n",
    "books_avg_ratings = pd.concat(average_rating, ignore_index = True)\n",
    "books_avg_ratings.to_json('books_avg_ratings.json', orient= 'records', lines = True)"
   ]
  },
  {
   "cell_type": "code",
   "execution_count": null,
   "id": "GeAmVXOMJZ-8",
   "metadata": {
    "id": "GeAmVXOMJZ-8"
   },
   "outputs": [],
   "source": [
    "books_avg_ratings = pd.read_json('books_avg_ratings.json', lines = True)"
   ]
  },
  {
   "cell_type": "code",
   "execution_count": null,
   "id": "owIJ1jWPJe9Z",
   "metadata": {
    "id": "owIJ1jWPJe9Z"
   },
   "outputs": [],
   "source": [
    "books_avg_ratings.describe()"
   ]
  },
  {
   "cell_type": "code",
   "execution_count": null,
   "id": "8g8lbeBrJbyc",
   "metadata": {
    "id": "8g8lbeBrJbyc"
   },
   "outputs": [],
   "source": [
    "sns.histplot(books_avg_ratings, bins= 50, stat = 'probability')\n",
    "plt.xlabel('books_ratings_avgs')\n",
    "plt.ylabel('Probability Density')\n",
    "plt.title('Histogram for books_ratings_avgs')\n",
    "\n",
    "mean = books_avg_ratings.mean()\n",
    "plt.axvline(x = mean, color = 'red', label = f'Mean: {mean:.2f}')\n",
    "plt.legend()\n",
    "\n",
    "plt.show()"
   ]
  },
  {
   "cell_type": "markdown",
   "id": "7ZE6PRD1Jgwe",
   "metadata": {
    "id": "7ZE6PRD1Jgwe"
   },
   "source": [
    "##### ratings_count"
   ]
  },
  {
   "cell_type": "code",
   "execution_count": null,
   "id": "fpDm4MqhJhTb",
   "metadata": {
    "id": "fpDm4MqhJhTb"
   },
   "outputs": [],
   "source": [
    "books_ratings_count = pd.DataFrame()\n",
    "ratings_count = []\n",
    "\n",
    "for chunks in pd.read_json('lighter_books.json', lines = True, chunksize = 10000):\n",
    "    data = chunks[['ratings_count']]\n",
    "    ratings_count.append(data)\n",
    "\n",
    "books_ratings_count = pd.concat(ratings_count, ignore_index = True)\n",
    "books_ratings_count.to_json('books_ratings_count.json', orient= 'records', lines = True)"
   ]
  },
  {
   "cell_type": "code",
   "execution_count": null,
   "id": "pLrQkOg3Jhhv",
   "metadata": {
    "id": "pLrQkOg3Jhhv"
   },
   "outputs": [],
   "source": [
    "books_ratings_count = pd.read_json('books_ratings_count.json', lines = True)"
   ]
  },
  {
   "cell_type": "code",
   "execution_count": null,
   "id": "AuUNO7xHJrrl",
   "metadata": {
    "id": "AuUNO7xHJrrl"
   },
   "outputs": [],
   "source": [
    "books_ratings_count.describe()"
   ]
  },
  {
   "cell_type": "code",
   "execution_count": null,
   "id": "bfSYMlw6Jhty",
   "metadata": {
    "id": "bfSYMlw6Jhty"
   },
   "outputs": [],
   "source": [
    "sns.histplot(books_ratings_count, bins= 15000, stat = 'probability')\n",
    "plt.xlabel('books_ratings_count')\n",
    "plt.ylabel('Probability Density')\n",
    "plt.xlim(0,15000)\n",
    "plt.title('Histogram for books_ratings_count')\n",
    "\n",
    "mean = books_ratings_count.mean()\n",
    "plt.axvline(x = mean, color = 'red', label = f'Mean: {mean:.2f}')\n",
    "plt.legend()\n",
    "\n",
    "plt.show()"
   ]
  },
  {
   "cell_type": "markdown",
   "id": "7mYYxmfIJsnu",
   "metadata": {
    "id": "7mYYxmfIJsnu"
   },
   "source": [
    "##### num_pages"
   ]
  },
  {
   "cell_type": "code",
   "execution_count": null,
   "id": "4TzglneeJh9Q",
   "metadata": {
    "id": "4TzglneeJh9Q"
   },
   "outputs": [],
   "source": [
    "books_num_pages = pd.DataFrame()\n",
    "number_of_pages = []\n",
    "\n",
    "for chunks in pd.read_json('lighter_books.json', lines = True, chunksize = 10000):\n",
    "    data = chunks[['num_pages']]\n",
    "    data['num_pages'] = pd.to_numeric(data['num_pages'], errors = 'coerce')\n",
    "    data = data.dropna(subset = ['num_pages'])\n",
    "    number_of_pages.append(data)\n",
    "\n",
    "books_num_pages = pd.concat(number_of_pages, ignore_index = True)\n",
    "books_num_pages.to_json('books_num_pages.json', orient= 'records', lines = True)"
   ]
  },
  {
   "cell_type": "code",
   "execution_count": null,
   "id": "T1pi9MtYJiPA",
   "metadata": {
    "id": "T1pi9MtYJiPA"
   },
   "outputs": [],
   "source": [
    "books_num_pages = pd.read_json('books_num_pages.json', lines = True)"
   ]
  },
  {
   "cell_type": "code",
   "execution_count": null,
   "id": "J3Lg6hLmJicW",
   "metadata": {
    "id": "J3Lg6hLmJicW"
   },
   "outputs": [],
   "source": [
    "books_num_pages.describe()"
   ]
  },
  {
   "cell_type": "code",
   "execution_count": null,
   "id": "V3u22GXAJkq5",
   "metadata": {
    "id": "V3u22GXAJkq5"
   },
   "outputs": [],
   "source": [
    "sns.histplot(books_num_pages['num_pages'], bins= 1000000, stat = 'probability', kde = True)\n",
    "plt.xlabel('books_num_pages')\n",
    "plt.ylabel('Probability Density')\n",
    "plt.xlim(0,5000)\n",
    "plt.title('Histogram for books_num_pages')\n",
    "\n",
    "mean = books_num_pages.mean()\n",
    "plt.axvline(x = mean, color = 'red', label = f'Mean: {mean:.2f}')\n",
    "plt.legend()\n",
    "\n",
    "plt.show()"
   ]
  },
  {
   "cell_type": "code",
   "execution_count": null,
   "id": "OeTCS-QHMqcn",
   "metadata": {
    "id": "OeTCS-QHMqcn"
   },
   "outputs": [],
   "source": [
    "agg_count = books_num_pages['num_pages'].groupby(books_num_pages['num_pages'].index // 100000).sum()\n",
    "agg_count.plot(kind = 'bar')"
   ]
  },
  {
   "cell_type": "markdown",
   "id": "1hxfgsUqJ74H",
   "metadata": {
    "id": "1hxfgsUqJ74H"
   },
   "source": [
    "##### text_reviews_count"
   ]
  },
  {
   "cell_type": "code",
   "execution_count": null,
   "id": "9sy2s_MZJlHU",
   "metadata": {
    "id": "9sy2s_MZJlHU"
   },
   "outputs": [],
   "source": [
    "books_text_reviews_count = pd.DataFrame()\n",
    "text_reviews_count = []\n",
    "\n",
    "for chunks in pd.read_json('lighter_books.json', lines = True, chunksize = 10000):\n",
    "    data = chunks[['text_reviews_count']]\n",
    "    text_reviews_count.append(data)\n",
    "\n",
    "books_text_reviews_count = pd.concat(text_reviews_count, ignore_index = True)\n",
    "books_text_reviews_count.to_json('books_text_reviews_count.json', orient= 'records', lines = True)"
   ]
  },
  {
   "cell_type": "code",
   "execution_count": null,
   "id": "L8oUOP_SJluH",
   "metadata": {
    "id": "L8oUOP_SJluH"
   },
   "outputs": [],
   "source": [
    "books_text_reviews_count = pd.read_json('books_text_reviews_count.json', lines = True)"
   ]
  },
  {
   "cell_type": "code",
   "execution_count": null,
   "id": "sAUIQ1PgJl78",
   "metadata": {
    "id": "sAUIQ1PgJl78"
   },
   "outputs": [],
   "source": [
    "books_text_reviews_count.describe()"
   ]
  },
  {
   "cell_type": "code",
   "execution_count": null,
   "id": "gS-RO0-GJmlJ",
   "metadata": {
    "id": "gS-RO0-GJmlJ"
   },
   "outputs": [],
   "source": [
    "sns.histplot(books_text_reviews_count, bins= 100, stat = 'probability')\n",
    "plt.xlabel('books_text_reviews_count')\n",
    "plt.ylabel('Probability Density')\n",
    "plt.xlim(0,50000)\n",
    "plt.title('Histogram for text_reviews_count')\n",
    "\n",
    "mean = books_text_reviews_count.mean()\n",
    "plt.axvline(x = mean, color = 'red', label = f'Mean: {mean:.2f}')\n",
    "plt.legend()\n",
    "\n",
    "plt.show()"
   ]
  },
  {
   "cell_type": "code",
   "execution_count": null,
   "id": "ySIihSTQKDk7",
   "metadata": {
    "id": "ySIihSTQKDk7"
   },
   "outputs": [],
   "source": [
    "sns.distplot(books_text_reviews_count)\n",
    "plt.xlim(0,10000)"
   ]
  },
  {
   "cell_type": "markdown",
   "id": "_GaplAERfvbj",
   "metadata": {
    "id": "_GaplAERfvbj"
   },
   "source": [
    "#[RQ2]\n",
    "\n",
    "Let’s finally dig into this vast dataset, retrieving some vital information:\n",
    "\n",
    "1. Plot the number of books for each author in descending order.\n",
    "2. Which book has the highest number of reviews?\n",
    "3. Which are the top ten and ten worst books concerning the average score?\n",
    "4. Explore the different languages in the book’s dataset, providing a proper chart summarizing how these languages are distributed throughout our virtual library.\n",
    "5. How many books have more than 250 pages?\n",
    "6. Plot the distribution of the fans count for the 50 most prolific authors (the ones who have written more books).\n"
   ]
  },
  {
   "cell_type": "code",
   "execution_count": null,
   "id": "-Buf3ti9fzL8",
   "metadata": {
    "id": "-Buf3ti9fzL8"
   },
   "outputs": [],
   "source": [
    "df = pd.read_json(\"trimmed_books5.json\", lines=True)"
   ]
  },
  {
   "cell_type": "code",
   "execution_count": null,
   "id": "l-FYol8ygZsn",
   "metadata": {
    "id": "l-FYol8ygZsn"
   },
   "outputs": [],
   "source": [
    "authors_list = df['author_id'].tolist()\n",
    "author_frequencies = Counter(authors_list)\n",
    "one = pd.DataFrame(list(author_frequencies.items()), columns=['Author', 'Books'])\n",
    "sorted_one = one.sort_values(by='Books',ascending=False)\n",
    "only100 = sorted_one.head(100)"
   ]
  },
  {
   "cell_type": "code",
   "execution_count": null,
   "id": "8YQ_YC16gcky",
   "metadata": {
    "id": "8YQ_YC16gcky"
   },
   "outputs": [],
   "source": [
    "exaxis = only100['Author'].tolist()\n",
    "ex = [str(number) for number in exaxis]\n",
    "whyaxis = only100['Books'].tolist()\n",
    "\n",
    "plt.figure(figsize=(20,12))\n",
    "plt.bar(ex, whyaxis)\n",
    "plt.xlabel('Author IDs')\n",
    "plt.ylabel('Number of books published')\n",
    "plt.title('NUMBER OF BOOKS PUBLISHED BY EACH AUTHOR (IN DESCENDING ORDER)')\n",
    "plt.xticks(rotation=90)\n",
    "plt.show()"
   ]
  },
  {
   "cell_type": "markdown",
   "id": "604TKBA8jg-t",
   "metadata": {
    "id": "604TKBA8jg-t"
   },
   "source": [
    "###2.2"
   ]
  },
  {
   "cell_type": "code",
   "execution_count": null,
   "id": "am6tQ8xmjfZ8",
   "metadata": {
    "id": "am6tQ8xmjfZ8"
   },
   "outputs": [],
   "source": [
    "highest_reviews = df['text_reviews_count'].max()\n",
    "highest_reviews_book = df.loc[df['text_reviews_count'] == highest_reviews, 'title'].values[0]\n",
    "print(f'The book with the highest number of reviews is {highest_reviews_book} with a review count of {highest_reviews}')"
   ]
  },
  {
   "cell_type": "markdown",
   "id": "N_voilHkjnEd",
   "metadata": {
    "id": "N_voilHkjnEd"
   },
   "source": [
    "###2.3"
   ]
  },
  {
   "cell_type": "code",
   "execution_count": null,
   "id": "NM3sJAyWjmC7",
   "metadata": {
    "id": "NM3sJAyWjmC7"
   },
   "outputs": [],
   "source": [
    "sorted_df = df.sort_values(by='average_rating',ascending=True)\n",
    "\n",
    "top_10 = sorted_df.head(10)\n",
    "bottom_10 = sorted_df.tail(10)\n",
    "\n",
    "print(\"The top 10 books with the lowest average scores are:\")\n",
    "for index,row in top_10.iterrows():\n",
    "    print(row['title'] + \": \" + str(row['average_rating']))\n",
    "\n",
    "print('-----------------------------------------------------------')\n",
    "\n",
    "print(\"The 10 books with the highest average scores are:\")\n",
    "for index, row in bottom_10.iterrows():\n",
    "    print(row['title'] + \": \" + str(row['average_rating']))"
   ]
  },
  {
   "cell_type": "markdown",
   "id": "2jvmitOijrdv",
   "metadata": {
    "id": "2jvmitOijrdv"
   },
   "source": [
    "###2.4"
   ]
  },
  {
   "cell_type": "code",
   "execution_count": null,
   "id": "y8SyGppAjvdM",
   "metadata": {
    "id": "y8SyGppAjvdM"
   },
   "outputs": [],
   "source": [
    "language_clean = df[(df['language'].str.strip() != '')]\n",
    "languages = language_clean['language'].tolist()\n",
    "element_count = Counter(languages)\n",
    "lang = pd.DataFrame(list(element_count.items()), columns=['Language', 'Books'])\n",
    "lang2 = pd.DataFrame(list(element_count.items()), columns=['Language', 'Books'])"
   ]
  },
  {
   "cell_type": "code",
   "execution_count": null,
   "id": "9mpkKd7UkFVr",
   "metadata": {
    "id": "9mpkKd7UkFVr"
   },
   "outputs": [],
   "source": [
    "pattern = r\"en-.{2}\"\n",
    "count=0\n",
    "c1 =0\n",
    "for index, row in lang.iterrows():\n",
    "    if re.match(pattern, row['Language']):\n",
    "        c1+=1\n",
    "        count=count+row['Books']\n",
    "        lang = lang.drop(index)\n",
    "print(c1)\n",
    "print(count)\n",
    "\n",
    "lang.iloc[0,1]+=count\n",
    "\n",
    "for index,rows in lang.iterrows():\n",
    "    if rows['Language'] == '--':\n",
    "        lang = lang.drop(index)"
   ]
  },
  {
   "cell_type": "code",
   "execution_count": null,
   "id": "RrWuqKdTkL13",
   "metadata": {
    "id": "RrWuqKdTkL13"
   },
   "outputs": [],
   "source": [
    "exaxis = lang['Language'].tolist()\n",
    "x1axis = exaxis[:100]\n",
    "whyaxis = lang['Books'].tolist()\n",
    "y1axis = whyaxis[:100]\n",
    "\n",
    "plt.figure(figsize=(20,12))\n",
    "plt.bar(x1axis, y1axis)\n",
    "plt.xlabel('Languages')\n",
    "plt.ylabel('Number of books')\n",
    "plt.title('Distribution of languages across the books')\n",
    "plt.xticks(rotation=90)\n",
    "plt.show()"
   ]
  },
  {
   "cell_type": "markdown",
   "id": "m0-sbXWhkW5C",
   "metadata": {
    "id": "m0-sbXWhkW5C"
   },
   "source": [
    "###2.5"
   ]
  },
  {
   "cell_type": "code",
   "execution_count": null,
   "id": "ePImy_-kkZo5",
   "metadata": {
    "id": "ePImy_-kkZo5"
   },
   "outputs": [],
   "source": [
    "large_books = 0\n",
    "for i in df['num_pages']:\n",
    "    try:\n",
    "        num_pages = int(i)\n",
    "        if num_pages > 250:\n",
    "            large_books += 1\n",
    "    except (ValueError, TypeError):\n",
    "        pass\n",
    "print(\"The number of books containing more than 250 pages are:\", large_books)"
   ]
  },
  {
   "cell_type": "markdown",
   "id": "iROSTMY1kfR2",
   "metadata": {
    "id": "iROSTMY1kfR2"
   },
   "source": [
    "###2.6"
   ]
  },
  {
   "cell_type": "code",
   "execution_count": null,
   "id": "bRavaVcCkiRy",
   "metadata": {
    "id": "bRavaVcCkiRy"
   },
   "outputs": [],
   "source": [
    "authors = pd.read_json(\"lighter_authors.json\", lines=True)"
   ]
  },
  {
   "cell_type": "code",
   "execution_count": null,
   "id": "MOkkEoiSkjpo",
   "metadata": {
    "id": "MOkkEoiSkjpo"
   },
   "outputs": [],
   "source": [
    "fancount=[]\n",
    "p = sorted_one.head(50)\n",
    "prolific50 = p['Author'].tolist()\n",
    "\n",
    "for index, row in authors.iterrows():\n",
    "    if row['id'] in prolific50:\n",
    "        fancount.append(row['fans_count'])\n",
    "\n",
    "print(fancount[:50])"
   ]
  },
  {
   "cell_type": "code",
   "execution_count": null,
   "id": "xavc6uY_komu",
   "metadata": {
    "id": "xavc6uY_komu"
   },
   "outputs": [],
   "source": [
    "p50 = [str(number) for number in prolific50]\n",
    "\n",
    "plt.figure(figsize=(20, 12))\n",
    "plt.bar(p50,fancount)\n",
    "plt.xlabel('Author IDs')\n",
    "plt.ylabel('Fan count')\n",
    "plt.title(\"Fancount of the top 50 most prolific authors\")\n",
    "plt.xticks(rotation=90)\n",
    "plt.show()"
   ]
  },
  {
   "cell_type": "markdown",
   "id": "Iybxeu7UkXpQ",
   "metadata": {
    "id": "Iybxeu7UkXpQ"
   },
   "source": []
  },
  {
   "cell_type": "markdown",
   "id": "aHHnFsKF10Rw",
   "metadata": {
    "id": "aHHnFsKF10Rw"
   },
   "source": [
    "# [RQ3]\n",
    "Let’s have a historical look at the dataset!\n",
    "\n",
    "Write a function that takes as input a year and returns as output the following information:\n",
    "\n",
    "1.   The number of books published that year.\n",
    "2.   The total number of pages written that year.\n",
    "3. The most prolific month of that year.\n",
    "4. The longest book written that year."
   ]
  },
  {
   "cell_type": "code",
   "execution_count": null,
   "id": "f113c86e-2b12-4880-99e0-d8d77c88b189",
   "metadata": {
    "id": "f113c86e-2b12-4880-99e0-d8d77c88b189",
    "tags": []
   },
   "outputs": [],
   "source": [
    "import pandas as pd\n",
    "import warnings\n",
    "warnings.filterwarnings(\"ignore\")"
   ]
  },
  {
   "cell_type": "markdown",
   "id": "3d14eb85-8a57-4ebc-8f75-4853f8c26d3b",
   "metadata": {
    "id": "3d14eb85-8a57-4ebc-8f75-4853f8c26d3b"
   },
   "source": [
    "### Loading a chunck of 10 thousand rows to have information of the data in the dataset"
   ]
  },
  {
   "cell_type": "code",
   "execution_count": null,
   "id": "9986f997-36c8-442c-866a-a490c816df65",
   "metadata": {
    "id": "9986f997-36c8-442c-866a-a490c816df65",
    "tags": []
   },
   "outputs": [],
   "source": [
    "# Define the file path and chunk size\n",
    "file_path = \"/home/ec2-user/\"\n",
    "chunk_size = 10000  # Adjust the chunk size as needed\n",
    "\n",
    "# Iterate through the file in chunks\n",
    "booksDf_org = pd.read_json(file_path+'lighter_books.json', lines=True, nrows=10000)"
   ]
  },
  {
   "cell_type": "code",
   "execution_count": null,
   "id": "d4ea805f-7f23-49b6-a8e7-fb0cbd5fd15d",
   "metadata": {
    "id": "d4ea805f-7f23-49b6-a8e7-fb0cbd5fd15d",
    "outputId": "d59ccc2e-da48-4264-a58b-696f123de618",
    "tags": []
   },
   "outputs": [
    {
     "data": {
      "text/html": [
       "<div>\n",
       "<style scoped>\n",
       "    .dataframe tbody tr th:only-of-type {\n",
       "        vertical-align: middle;\n",
       "    }\n",
       "\n",
       "    .dataframe tbody tr th {\n",
       "        vertical-align: top;\n",
       "    }\n",
       "\n",
       "    .dataframe thead th {\n",
       "        text-align: right;\n",
       "    }\n",
       "</style>\n",
       "<table border=\"1\" class=\"dataframe\">\n",
       "  <thead>\n",
       "    <tr style=\"text-align: right;\">\n",
       "      <th></th>\n",
       "      <th>id</th>\n",
       "      <th>title</th>\n",
       "      <th>authors</th>\n",
       "      <th>author_name</th>\n",
       "      <th>author_id</th>\n",
       "      <th>work_id</th>\n",
       "      <th>isbn</th>\n",
       "      <th>isbn13</th>\n",
       "      <th>asin</th>\n",
       "      <th>language</th>\n",
       "      <th>...</th>\n",
       "      <th>format</th>\n",
       "      <th>edition_information</th>\n",
       "      <th>image_url</th>\n",
       "      <th>publisher</th>\n",
       "      <th>num_pages</th>\n",
       "      <th>series_id</th>\n",
       "      <th>series_name</th>\n",
       "      <th>series_position</th>\n",
       "      <th>shelves</th>\n",
       "      <th>description</th>\n",
       "    </tr>\n",
       "  </thead>\n",
       "  <tbody>\n",
       "    <tr>\n",
       "      <th>0</th>\n",
       "      <td>2</td>\n",
       "      <td>Harry Potter and the Order of the Phoenix (Har...</td>\n",
       "      <td>[{'id': '1077326', 'name': 'J.K. Rowling', 'ro...</td>\n",
       "      <td>J.K. Rowling</td>\n",
       "      <td>1077326</td>\n",
       "      <td>2809203</td>\n",
       "      <td>0439358078</td>\n",
       "      <td>9780439358071</td>\n",
       "      <td></td>\n",
       "      <td>eng</td>\n",
       "      <td>...</td>\n",
       "      <td>Paperback</td>\n",
       "      <td>US Edition</td>\n",
       "      <td>https://i.gr-assets.com/images/S/compressed.ph...</td>\n",
       "      <td>Scholastic Inc.</td>\n",
       "      <td>870</td>\n",
       "      <td>45175</td>\n",
       "      <td>Harry Potter</td>\n",
       "      <td>5</td>\n",
       "      <td>[{'name': 'to-read', 'count': 324191}, {'name'...</td>\n",
       "      <td>There is a door at the end of a silent corrido...</td>\n",
       "    </tr>\n",
       "    <tr>\n",
       "      <th>1</th>\n",
       "      <td>3</td>\n",
       "      <td>Harry Potter and the Sorcerer's Stone (Harry P...</td>\n",
       "      <td>[{'id': '1077326', 'name': 'J.K. Rowling', 'ro...</td>\n",
       "      <td>J.K. Rowling</td>\n",
       "      <td>1077326</td>\n",
       "      <td>4640799</td>\n",
       "      <td></td>\n",
       "      <td></td>\n",
       "      <td></td>\n",
       "      <td>eng</td>\n",
       "      <td>...</td>\n",
       "      <td>Hardcover</td>\n",
       "      <td>Library Edition</td>\n",
       "      <td>https://i.gr-assets.com/images/S/compressed.ph...</td>\n",
       "      <td>Scholastic Inc</td>\n",
       "      <td>309</td>\n",
       "      <td>45175</td>\n",
       "      <td>Harry Potter</td>\n",
       "      <td>1</td>\n",
       "      <td>[{'name': 'fantasy', 'count': 63540}, {'name':...</td>\n",
       "      <td>Harry Potter's life is miserable. His parents ...</td>\n",
       "    </tr>\n",
       "    <tr>\n",
       "      <th>2</th>\n",
       "      <td>4</td>\n",
       "      <td>Harry Potter and the Chamber of Secrets (Harry...</td>\n",
       "      <td>None</td>\n",
       "      <td>J.K. Rowling</td>\n",
       "      <td>1077326</td>\n",
       "      <td>6231171</td>\n",
       "      <td>0439554896</td>\n",
       "      <td>9780439554893</td>\n",
       "      <td></td>\n",
       "      <td>eng</td>\n",
       "      <td>...</td>\n",
       "      <td>Hardcover</td>\n",
       "      <td></td>\n",
       "      <td>https://i.gr-assets.com/images/S/compressed.ph...</td>\n",
       "      <td>Scholastic</td>\n",
       "      <td>352</td>\n",
       "      <td>45175</td>\n",
       "      <td>Harry Potter</td>\n",
       "      <td>2</td>\n",
       "      <td>[{'name': 'to-read', 'count': 282341}, {'name'...</td>\n",
       "      <td>The Dursleys were so mean and hideous that sum...</td>\n",
       "    </tr>\n",
       "    <tr>\n",
       "      <th>3</th>\n",
       "      <td>5</td>\n",
       "      <td>Harry Potter and the Prisoner of Azkaban (Harr...</td>\n",
       "      <td>[{'id': '1077326', 'name': 'J.K. Rowling', 'ro...</td>\n",
       "      <td>J.K. Rowling</td>\n",
       "      <td>1077326</td>\n",
       "      <td>2402163</td>\n",
       "      <td>043965548X</td>\n",
       "      <td>9780439655484</td>\n",
       "      <td></td>\n",
       "      <td>eng</td>\n",
       "      <td>...</td>\n",
       "      <td>Mass Market Paperback</td>\n",
       "      <td></td>\n",
       "      <td>https://i.gr-assets.com/images/S/compressed.ph...</td>\n",
       "      <td>Scholastic Inc.</td>\n",
       "      <td>435</td>\n",
       "      <td>45175</td>\n",
       "      <td>Harry Potter</td>\n",
       "      <td>3</td>\n",
       "      <td>[{'name': 'to-read', 'count': 292815}, {'name'...</td>\n",
       "      <td>For twelve long years, the dread fortress of A...</td>\n",
       "    </tr>\n",
       "    <tr>\n",
       "      <th>4</th>\n",
       "      <td>6</td>\n",
       "      <td>Harry Potter and the Goblet of Fire (Harry Pot...</td>\n",
       "      <td>[{'id': '1077326', 'name': 'J.K. Rowling', 'ro...</td>\n",
       "      <td>J.K. Rowling</td>\n",
       "      <td>1077326</td>\n",
       "      <td>3046572</td>\n",
       "      <td></td>\n",
       "      <td></td>\n",
       "      <td></td>\n",
       "      <td>eng</td>\n",
       "      <td>...</td>\n",
       "      <td>Paperback</td>\n",
       "      <td>First Scholastic Trade Paperback Edition</td>\n",
       "      <td>https://i.gr-assets.com/images/S/compressed.ph...</td>\n",
       "      <td>Scholastic</td>\n",
       "      <td>734</td>\n",
       "      <td>45175</td>\n",
       "      <td>Harry Potter</td>\n",
       "      <td>4</td>\n",
       "      <td>[{'name': 'to-read', 'count': 287086}, {'name'...</td>\n",
       "      <td>Harry Potter is midway through his training as...</td>\n",
       "    </tr>\n",
       "  </tbody>\n",
       "</table>\n",
       "<p>5 rows × 26 columns</p>\n",
       "</div>"
      ],
      "text/plain": [
       "   id                                              title  \\\n",
       "0   2  Harry Potter and the Order of the Phoenix (Har...   \n",
       "1   3  Harry Potter and the Sorcerer's Stone (Harry P...   \n",
       "2   4  Harry Potter and the Chamber of Secrets (Harry...   \n",
       "3   5  Harry Potter and the Prisoner of Azkaban (Harr...   \n",
       "4   6  Harry Potter and the Goblet of Fire (Harry Pot...   \n",
       "\n",
       "                                             authors   author_name  author_id  \\\n",
       "0  [{'id': '1077326', 'name': 'J.K. Rowling', 'ro...  J.K. Rowling    1077326   \n",
       "1  [{'id': '1077326', 'name': 'J.K. Rowling', 'ro...  J.K. Rowling    1077326   \n",
       "2                                               None  J.K. Rowling    1077326   \n",
       "3  [{'id': '1077326', 'name': 'J.K. Rowling', 'ro...  J.K. Rowling    1077326   \n",
       "4  [{'id': '1077326', 'name': 'J.K. Rowling', 'ro...  J.K. Rowling    1077326   \n",
       "\n",
       "   work_id        isbn         isbn13 asin language  ...  \\\n",
       "0  2809203  0439358078  9780439358071           eng  ...   \n",
       "1  4640799                                      eng  ...   \n",
       "2  6231171  0439554896  9780439554893           eng  ...   \n",
       "3  2402163  043965548X  9780439655484           eng  ...   \n",
       "4  3046572                                      eng  ...   \n",
       "\n",
       "                  format                       edition_information  \\\n",
       "0              Paperback                                US Edition   \n",
       "1              Hardcover                           Library Edition   \n",
       "2              Hardcover                                             \n",
       "3  Mass Market Paperback                                             \n",
       "4              Paperback  First Scholastic Trade Paperback Edition   \n",
       "\n",
       "                                           image_url        publisher  \\\n",
       "0  https://i.gr-assets.com/images/S/compressed.ph...  Scholastic Inc.   \n",
       "1  https://i.gr-assets.com/images/S/compressed.ph...   Scholastic Inc   \n",
       "2  https://i.gr-assets.com/images/S/compressed.ph...       Scholastic   \n",
       "3  https://i.gr-assets.com/images/S/compressed.ph...  Scholastic Inc.   \n",
       "4  https://i.gr-assets.com/images/S/compressed.ph...       Scholastic   \n",
       "\n",
       "  num_pages series_id   series_name series_position  \\\n",
       "0       870     45175  Harry Potter               5   \n",
       "1       309     45175  Harry Potter               1   \n",
       "2       352     45175  Harry Potter               2   \n",
       "3       435     45175  Harry Potter               3   \n",
       "4       734     45175  Harry Potter               4   \n",
       "\n",
       "                                             shelves  \\\n",
       "0  [{'name': 'to-read', 'count': 324191}, {'name'...   \n",
       "1  [{'name': 'fantasy', 'count': 63540}, {'name':...   \n",
       "2  [{'name': 'to-read', 'count': 282341}, {'name'...   \n",
       "3  [{'name': 'to-read', 'count': 292815}, {'name'...   \n",
       "4  [{'name': 'to-read', 'count': 287086}, {'name'...   \n",
       "\n",
       "                                         description  \n",
       "0  There is a door at the end of a silent corrido...  \n",
       "1  Harry Potter's life is miserable. His parents ...  \n",
       "2  The Dursleys were so mean and hideous that sum...  \n",
       "3  For twelve long years, the dread fortress of A...  \n",
       "4  Harry Potter is midway through his training as...  \n",
       "\n",
       "[5 rows x 26 columns]"
      ]
     },
     "execution_count": 3,
     "metadata": {},
     "output_type": "execute_result"
    }
   ],
   "source": [
    "booksDf_org.head()"
   ]
  },
  {
   "cell_type": "code",
   "execution_count": null,
   "id": "9f2a4227-2ba7-41ee-a3a4-0e0cc03c9924",
   "metadata": {
    "id": "9f2a4227-2ba7-41ee-a3a4-0e0cc03c9924",
    "outputId": "8add461f-470a-492e-ba0e-0bc2d1b1cda9",
    "tags": []
   },
   "outputs": [
    {
     "name": "stdout",
     "output_type": "stream",
     "text": [
      "<class 'pandas.core.frame.DataFrame'>\n",
      "RangeIndex: 9999 entries, 0 to 9998\n",
      "Data columns (total 26 columns):\n",
      " #   Column                     Non-Null Count  Dtype  \n",
      "---  ------                     --------------  -----  \n",
      " 0   id                         9999 non-null   int64  \n",
      " 1   title                      9999 non-null   object \n",
      " 2   authors                    3742 non-null   object \n",
      " 3   author_name                9999 non-null   object \n",
      " 4   author_id                  9999 non-null   int64  \n",
      " 5   work_id                    9999 non-null   int64  \n",
      " 6   isbn                       9999 non-null   object \n",
      " 7   isbn13                     9999 non-null   object \n",
      " 8   asin                       9999 non-null   object \n",
      " 9   language                   9999 non-null   object \n",
      " 10  average_rating             9999 non-null   float64\n",
      " 11  rating_dist                9999 non-null   object \n",
      " 12  ratings_count              9999 non-null   int64  \n",
      " 13  text_reviews_count         9999 non-null   int64  \n",
      " 14  publication_date           9999 non-null   object \n",
      " 15  original_publication_date  9999 non-null   object \n",
      " 16  format                     9999 non-null   object \n",
      " 17  edition_information        9999 non-null   object \n",
      " 18  image_url                  9999 non-null   object \n",
      " 19  publisher                  9999 non-null   object \n",
      " 20  num_pages                  9999 non-null   object \n",
      " 21  series_id                  9999 non-null   object \n",
      " 22  series_name                9999 non-null   object \n",
      " 23  series_position            9999 non-null   object \n",
      " 24  shelves                    9999 non-null   object \n",
      " 25  description                9999 non-null   object \n",
      "dtypes: float64(1), int64(5), object(20)\n",
      "memory usage: 2.0+ MB\n"
     ]
    }
   ],
   "source": [
    "booksDf_org.info()"
   ]
  },
  {
   "cell_type": "code",
   "execution_count": null,
   "id": "996239b9-30c4-480d-9acd-429305bd31ae",
   "metadata": {
    "id": "996239b9-30c4-480d-9acd-429305bd31ae",
    "tags": []
   },
   "outputs": [],
   "source": [
    "columns = ['title', 'author_name', 'language', 'average_rating', 'publication_date', 'num_pages', 'original_publication_date', 'author_id']\n",
    "booksDfcleaned = booksDf_org[columns]\n",
    "booksDf = booksDfcleaned"
   ]
  },
  {
   "cell_type": "code",
   "execution_count": null,
   "id": "270f0522-1aed-4850-919b-5da64b8c8b3f",
   "metadata": {
    "id": "270f0522-1aed-4850-919b-5da64b8c8b3f",
    "outputId": "95f9498c-37bb-4265-d520-b8063164800a",
    "tags": []
   },
   "outputs": [
    {
     "data": {
      "text/html": [
       "<div>\n",
       "<style scoped>\n",
       "    .dataframe tbody tr th:only-of-type {\n",
       "        vertical-align: middle;\n",
       "    }\n",
       "\n",
       "    .dataframe tbody tr th {\n",
       "        vertical-align: top;\n",
       "    }\n",
       "\n",
       "    .dataframe thead th {\n",
       "        text-align: right;\n",
       "    }\n",
       "</style>\n",
       "<table border=\"1\" class=\"dataframe\">\n",
       "  <thead>\n",
       "    <tr style=\"text-align: right;\">\n",
       "      <th></th>\n",
       "      <th>title</th>\n",
       "      <th>author_name</th>\n",
       "      <th>language</th>\n",
       "      <th>average_rating</th>\n",
       "      <th>publication_date</th>\n",
       "      <th>num_pages</th>\n",
       "      <th>original_publication_date</th>\n",
       "    </tr>\n",
       "  </thead>\n",
       "  <tbody>\n",
       "    <tr>\n",
       "      <th>0</th>\n",
       "      <td>Harry Potter and the Order of the Phoenix (Har...</td>\n",
       "      <td>J.K. Rowling</td>\n",
       "      <td>eng</td>\n",
       "      <td>4.50</td>\n",
       "      <td>2004-09</td>\n",
       "      <td>870</td>\n",
       "      <td>2003-06-21</td>\n",
       "    </tr>\n",
       "    <tr>\n",
       "      <th>1</th>\n",
       "      <td>Harry Potter and the Sorcerer's Stone (Harry P...</td>\n",
       "      <td>J.K. Rowling</td>\n",
       "      <td>eng</td>\n",
       "      <td>4.48</td>\n",
       "      <td>2003-11-01</td>\n",
       "      <td>309</td>\n",
       "      <td>1997-06-26</td>\n",
       "    </tr>\n",
       "    <tr>\n",
       "      <th>2</th>\n",
       "      <td>Harry Potter and the Chamber of Secrets (Harry...</td>\n",
       "      <td>J.K. Rowling</td>\n",
       "      <td>eng</td>\n",
       "      <td>4.43</td>\n",
       "      <td>2003-11-01</td>\n",
       "      <td>352</td>\n",
       "      <td>1998-07-02</td>\n",
       "    </tr>\n",
       "    <tr>\n",
       "      <th>3</th>\n",
       "      <td>Harry Potter and the Prisoner of Azkaban (Harr...</td>\n",
       "      <td>J.K. Rowling</td>\n",
       "      <td>eng</td>\n",
       "      <td>4.57</td>\n",
       "      <td>2004-05-01</td>\n",
       "      <td>435</td>\n",
       "      <td>1999-07-08</td>\n",
       "    </tr>\n",
       "    <tr>\n",
       "      <th>4</th>\n",
       "      <td>Harry Potter and the Goblet of Fire (Harry Pot...</td>\n",
       "      <td>J.K. Rowling</td>\n",
       "      <td>eng</td>\n",
       "      <td>4.56</td>\n",
       "      <td>2002-09-28</td>\n",
       "      <td>734</td>\n",
       "      <td>2000-07-08</td>\n",
       "    </tr>\n",
       "  </tbody>\n",
       "</table>\n",
       "</div>"
      ],
      "text/plain": [
       "                                               title   author_name language  \\\n",
       "0  Harry Potter and the Order of the Phoenix (Har...  J.K. Rowling      eng   \n",
       "1  Harry Potter and the Sorcerer's Stone (Harry P...  J.K. Rowling      eng   \n",
       "2  Harry Potter and the Chamber of Secrets (Harry...  J.K. Rowling      eng   \n",
       "3  Harry Potter and the Prisoner of Azkaban (Harr...  J.K. Rowling      eng   \n",
       "4  Harry Potter and the Goblet of Fire (Harry Pot...  J.K. Rowling      eng   \n",
       "\n",
       "   average_rating publication_date num_pages original_publication_date  \n",
       "0            4.50          2004-09       870                2003-06-21  \n",
       "1            4.48       2003-11-01       309                1997-06-26  \n",
       "2            4.43       2003-11-01       352                1998-07-02  \n",
       "3            4.57       2004-05-01       435                1999-07-08  \n",
       "4            4.56       2002-09-28       734                2000-07-08  "
      ]
     },
     "execution_count": 43,
     "metadata": {},
     "output_type": "execute_result"
    }
   ],
   "source": [
    "booksDf.head()"
   ]
  },
  {
   "cell_type": "code",
   "execution_count": null,
   "id": "5fa7a007-da23-49cc-b660-61a449914795",
   "metadata": {
    "id": "5fa7a007-da23-49cc-b660-61a449914795",
    "tags": []
   },
   "outputs": [],
   "source": [
    "def historical_look(year):\n",
    "    yearDf = booksDf[booksDf['original_publication_date'].str[:4].astype(int) == year]\n",
    "\n",
    "    # The number of books published that year\n",
    "    totalBooks = yearDf.shape[0]\n",
    "\n",
    "    # The total number of pages written that year\n",
    "    # Replace empty strings with a default value (0) and then convert to integers\n",
    "    yearDf.num_pages= yearDf.num_pages.replace('', '0').astype(int)\n",
    "    totalPages = yearDf.num_pages.sum()\n",
    "\n",
    "    # The most prolific month of that year\n",
    "    df_months = yearDf.original_publication_date.str[5:7].astype(int)\n",
    "    monthCount = df_months.value_counts() #counting no. of months\n",
    "    maxOccurance = monthCount.max()\n",
    "    prolificMonth = monthCount[monthCount == maxOccurance]\n",
    "    prolificMonth = prolificMonth.index.values.tolist()\n",
    "\n",
    "    # The longest book written that year\n",
    "    maxPages = yearDf.num_pages.max()\n",
    "    longestBook = yearDf[yearDf['num_pages'] == maxPages]['title'].values[0]\n",
    "\n",
    "    return totalBooks, totalPages, prolificMonth, longestBook"
   ]
  },
  {
   "cell_type": "code",
   "execution_count": null,
   "id": "0f98607a-ae8f-4930-bc55-0a212f075e73",
   "metadata": {
    "id": "0f98607a-ae8f-4930-bc55-0a212f075e73",
    "tags": []
   },
   "outputs": [],
   "source": [
    "date_pattern = r'^\\d{4}-\\d{2}-\\d{2}$'\n",
    "booksDf = booksDf[booksDf['original_publication_date'].str.match(date_pattern, na=False)]\n",
    "booksDf.original_publication_date.replace('', '0', inplace = True)\n",
    "booksDf['publication_year'] = booksDf.original_publication_date.str[:4].astype(int)\n"
   ]
  },
  {
   "cell_type": "code",
   "execution_count": null,
   "id": "1aabe212-6a52-4525-986b-22b4b499a0ec",
   "metadata": {
    "id": "1aabe212-6a52-4525-986b-22b4b499a0ec",
    "outputId": "245d03f6-4c9a-4c38-c2e5-37f7b95db44c",
    "tags": []
   },
   "outputs": [
    {
     "data": {
      "text/html": [
       "<div>\n",
       "<style scoped>\n",
       "    .dataframe tbody tr th:only-of-type {\n",
       "        vertical-align: middle;\n",
       "    }\n",
       "\n",
       "    .dataframe tbody tr th {\n",
       "        vertical-align: top;\n",
       "    }\n",
       "\n",
       "    .dataframe thead th {\n",
       "        text-align: right;\n",
       "    }\n",
       "</style>\n",
       "<table border=\"1\" class=\"dataframe\">\n",
       "  <thead>\n",
       "    <tr style=\"text-align: right;\">\n",
       "      <th></th>\n",
       "      <th>title</th>\n",
       "      <th>author_name</th>\n",
       "      <th>language</th>\n",
       "      <th>average_rating</th>\n",
       "      <th>publication_date</th>\n",
       "      <th>num_pages</th>\n",
       "      <th>original_publication_date</th>\n",
       "      <th>publication_year</th>\n",
       "    </tr>\n",
       "  </thead>\n",
       "  <tbody>\n",
       "    <tr>\n",
       "      <th>0</th>\n",
       "      <td>Harry Potter and the Order of the Phoenix (Har...</td>\n",
       "      <td>J.K. Rowling</td>\n",
       "      <td>eng</td>\n",
       "      <td>4.50</td>\n",
       "      <td>2004-09</td>\n",
       "      <td>870</td>\n",
       "      <td>2003-06-21</td>\n",
       "      <td>2003</td>\n",
       "    </tr>\n",
       "    <tr>\n",
       "      <th>1</th>\n",
       "      <td>Harry Potter and the Sorcerer's Stone (Harry P...</td>\n",
       "      <td>J.K. Rowling</td>\n",
       "      <td>eng</td>\n",
       "      <td>4.48</td>\n",
       "      <td>2003-11-01</td>\n",
       "      <td>309</td>\n",
       "      <td>1997-06-26</td>\n",
       "      <td>1997</td>\n",
       "    </tr>\n",
       "    <tr>\n",
       "      <th>2</th>\n",
       "      <td>Harry Potter and the Chamber of Secrets (Harry...</td>\n",
       "      <td>J.K. Rowling</td>\n",
       "      <td>eng</td>\n",
       "      <td>4.43</td>\n",
       "      <td>2003-11-01</td>\n",
       "      <td>352</td>\n",
       "      <td>1998-07-02</td>\n",
       "      <td>1998</td>\n",
       "    </tr>\n",
       "    <tr>\n",
       "      <th>3</th>\n",
       "      <td>Harry Potter and the Prisoner of Azkaban (Harr...</td>\n",
       "      <td>J.K. Rowling</td>\n",
       "      <td>eng</td>\n",
       "      <td>4.57</td>\n",
       "      <td>2004-05-01</td>\n",
       "      <td>435</td>\n",
       "      <td>1999-07-08</td>\n",
       "      <td>1999</td>\n",
       "    </tr>\n",
       "    <tr>\n",
       "      <th>4</th>\n",
       "      <td>Harry Potter and the Goblet of Fire (Harry Pot...</td>\n",
       "      <td>J.K. Rowling</td>\n",
       "      <td>eng</td>\n",
       "      <td>4.56</td>\n",
       "      <td>2002-09-28</td>\n",
       "      <td>734</td>\n",
       "      <td>2000-07-08</td>\n",
       "      <td>2000</td>\n",
       "    </tr>\n",
       "    <tr>\n",
       "      <th>...</th>\n",
       "      <td>...</td>\n",
       "      <td>...</td>\n",
       "      <td>...</td>\n",
       "      <td>...</td>\n",
       "      <td>...</td>\n",
       "      <td>...</td>\n",
       "      <td>...</td>\n",
       "      <td>...</td>\n",
       "    </tr>\n",
       "    <tr>\n",
       "      <th>9988</th>\n",
       "      <td>Spellbound Xanth (Xanth, #7-9)</td>\n",
       "      <td>Piers Anthony</td>\n",
       "      <td></td>\n",
       "      <td>4.23</td>\n",
       "      <td>1986-10</td>\n",
       "      <td>952</td>\n",
       "      <td>1986-10-01</td>\n",
       "      <td>1986</td>\n",
       "    </tr>\n",
       "    <tr>\n",
       "      <th>9990</th>\n",
       "      <td>Thousandstar</td>\n",
       "      <td>Piers Anthony</td>\n",
       "      <td></td>\n",
       "      <td>3.68</td>\n",
       "      <td></td>\n",
       "      <td></td>\n",
       "      <td>1980-01-01</td>\n",
       "      <td>1980</td>\n",
       "    </tr>\n",
       "    <tr>\n",
       "      <th>9991</th>\n",
       "      <td>Fractal Mode (Mode, #2)</td>\n",
       "      <td>Piers Anthony</td>\n",
       "      <td>eng</td>\n",
       "      <td>3.64</td>\n",
       "      <td>1992-12-01</td>\n",
       "      <td>344</td>\n",
       "      <td>1992-01-09</td>\n",
       "      <td>1992</td>\n",
       "    </tr>\n",
       "    <tr>\n",
       "      <th>9992</th>\n",
       "      <td>Castle Roogna (Xanth, #3)</td>\n",
       "      <td>Piers Anthony</td>\n",
       "      <td></td>\n",
       "      <td>3.89</td>\n",
       "      <td>1986-03-12</td>\n",
       "      <td>329</td>\n",
       "      <td>1979-01-01</td>\n",
       "      <td>1979</td>\n",
       "    </tr>\n",
       "    <tr>\n",
       "      <th>9997</th>\n",
       "      <td>The Magic Fart (Pornucopia, #2)</td>\n",
       "      <td>Piers Anthony</td>\n",
       "      <td></td>\n",
       "      <td>3.40</td>\n",
       "      <td>2003-08-31</td>\n",
       "      <td>188</td>\n",
       "      <td>2003-08-31</td>\n",
       "      <td>2003</td>\n",
       "    </tr>\n",
       "  </tbody>\n",
       "</table>\n",
       "<p>4441 rows × 8 columns</p>\n",
       "</div>"
      ],
      "text/plain": [
       "                                                  title    author_name  \\\n",
       "0     Harry Potter and the Order of the Phoenix (Har...   J.K. Rowling   \n",
       "1     Harry Potter and the Sorcerer's Stone (Harry P...   J.K. Rowling   \n",
       "2     Harry Potter and the Chamber of Secrets (Harry...   J.K. Rowling   \n",
       "3     Harry Potter and the Prisoner of Azkaban (Harr...   J.K. Rowling   \n",
       "4     Harry Potter and the Goblet of Fire (Harry Pot...   J.K. Rowling   \n",
       "...                                                 ...            ...   \n",
       "9988                     Spellbound Xanth (Xanth, #7-9)  Piers Anthony   \n",
       "9990                                       Thousandstar  Piers Anthony   \n",
       "9991                            Fractal Mode (Mode, #2)  Piers Anthony   \n",
       "9992                          Castle Roogna (Xanth, #3)  Piers Anthony   \n",
       "9997                    The Magic Fart (Pornucopia, #2)  Piers Anthony   \n",
       "\n",
       "     language  average_rating publication_date num_pages  \\\n",
       "0         eng            4.50          2004-09       870   \n",
       "1         eng            4.48       2003-11-01       309   \n",
       "2         eng            4.43       2003-11-01       352   \n",
       "3         eng            4.57       2004-05-01       435   \n",
       "4         eng            4.56       2002-09-28       734   \n",
       "...       ...             ...              ...       ...   \n",
       "9988                     4.23          1986-10       952   \n",
       "9990                     3.68                              \n",
       "9991      eng            3.64       1992-12-01       344   \n",
       "9992                     3.89       1986-03-12       329   \n",
       "9997                     3.40       2003-08-31       188   \n",
       "\n",
       "     original_publication_date  publication_year  \n",
       "0                   2003-06-21              2003  \n",
       "1                   1997-06-26              1997  \n",
       "2                   1998-07-02              1998  \n",
       "3                   1999-07-08              1999  \n",
       "4                   2000-07-08              2000  \n",
       "...                        ...               ...  \n",
       "9988                1986-10-01              1986  \n",
       "9990                1980-01-01              1980  \n",
       "9991                1992-01-09              1992  \n",
       "9992                1979-01-01              1979  \n",
       "9997                2003-08-31              2003  \n",
       "\n",
       "[4441 rows x 8 columns]"
      ]
     },
     "execution_count": 50,
     "metadata": {},
     "output_type": "execute_result"
    }
   ],
   "source": [
    "booksDf"
   ]
  },
  {
   "cell_type": "markdown",
   "id": "J9qm6W8j2Rvc",
   "metadata": {
    "id": "J9qm6W8j2Rvc"
   },
   "source": [
    "Use this function to build your data frame: the primary key will be a year, and the required information will be the attributes within the row. Finally, show the head and the tail of this new data frame considering the first ten years registered and the last ten years."
   ]
  },
  {
   "cell_type": "code",
   "execution_count": null,
   "id": "1315e2cb-f11f-44f7-b51c-010e57a33d3b",
   "metadata": {
    "id": "1315e2cb-f11f-44f7-b51c-010e57a33d3b",
    "tags": []
   },
   "outputs": [],
   "source": [
    "# Dataframe with yearwise totalBooks, totalPages, prolificMonth, longestBook\n",
    "columns = ['totalBooks', 'totalPages', 'prolificMonth', 'longestBook']\n",
    "uniqueYears = booksDf.publication_year.unique().tolist()\n",
    "yearwiseList = list(map(historical_look, uniqueYears))\n",
    "yearwiseDf = pd.DataFrame(yearwiseList, columns=columns)\n",
    "yearwiseDf['year'] = uniqueYears"
   ]
  },
  {
   "cell_type": "code",
   "execution_count": null,
   "id": "d87518eb-0a20-4ba3-b8a1-c1faa97c325b",
   "metadata": {
    "id": "d87518eb-0a20-4ba3-b8a1-c1faa97c325b",
    "outputId": "e41a6e04-9d75-42ca-8809-d1d4da3f9a96",
    "tags": []
   },
   "outputs": [
    {
     "name": "stdout",
     "output_type": "stream",
     "text": [
      "Yearwise Dataframe head: \n"
     ]
    },
    {
     "data": {
      "text/html": [
       "<div>\n",
       "<style scoped>\n",
       "    .dataframe tbody tr th:only-of-type {\n",
       "        vertical-align: middle;\n",
       "    }\n",
       "\n",
       "    .dataframe tbody tr th {\n",
       "        vertical-align: top;\n",
       "    }\n",
       "\n",
       "    .dataframe thead th {\n",
       "        text-align: right;\n",
       "    }\n",
       "</style>\n",
       "<table border=\"1\" class=\"dataframe\">\n",
       "  <thead>\n",
       "    <tr style=\"text-align: right;\">\n",
       "      <th></th>\n",
       "      <th>totalBooks</th>\n",
       "      <th>totalPages</th>\n",
       "      <th>prolificMonth</th>\n",
       "      <th>longestBook</th>\n",
       "      <th>year</th>\n",
       "    </tr>\n",
       "  </thead>\n",
       "  <tbody>\n",
       "    <tr>\n",
       "      <th>0</th>\n",
       "      <td>265</td>\n",
       "      <td>70908</td>\n",
       "      <td>[9]</td>\n",
       "      <td>Harry Potter Boxed Set, Books 1-5 (Harry Potte...</td>\n",
       "      <td>2003</td>\n",
       "    </tr>\n",
       "    <tr>\n",
       "      <th>1</th>\n",
       "      <td>141</td>\n",
       "      <td>39033</td>\n",
       "      <td>[1]</td>\n",
       "      <td>Crime Novels: American Noir of the 1950s</td>\n",
       "      <td>1997</td>\n",
       "    </tr>\n",
       "    <tr>\n",
       "      <th>2</th>\n",
       "      <td>154</td>\n",
       "      <td>42756</td>\n",
       "      <td>[1]</td>\n",
       "      <td>A Clash of Kings  (A Song of Ice and Fire, #2)</td>\n",
       "      <td>1998</td>\n",
       "    </tr>\n",
       "    <tr>\n",
       "      <th>3</th>\n",
       "      <td>175</td>\n",
       "      <td>50211</td>\n",
       "      <td>[4]</td>\n",
       "      <td>The Great Book of Amber (The Chronicles of Amb...</td>\n",
       "      <td>1999</td>\n",
       "    </tr>\n",
       "    <tr>\n",
       "      <th>4</th>\n",
       "      <td>182</td>\n",
       "      <td>51800</td>\n",
       "      <td>[1]</td>\n",
       "      <td>The History of the Lord of the Rings (The Hist...</td>\n",
       "      <td>2000</td>\n",
       "    </tr>\n",
       "    <tr>\n",
       "      <th>5</th>\n",
       "      <td>358</td>\n",
       "      <td>90760</td>\n",
       "      <td>[1]</td>\n",
       "      <td>Harry Potter Collection (Harry Potter, #1-6)</td>\n",
       "      <td>2005</td>\n",
       "    </tr>\n",
       "    <tr>\n",
       "      <th>6</th>\n",
       "      <td>22</td>\n",
       "      <td>6049</td>\n",
       "      <td>[10, 1]</td>\n",
       "      <td>The Executioner's Song</td>\n",
       "      <td>1979</td>\n",
       "    </tr>\n",
       "    <tr>\n",
       "      <th>7</th>\n",
       "      <td>104</td>\n",
       "      <td>28636</td>\n",
       "      <td>[1]</td>\n",
       "      <td>The Grapes of Wrath and Other Writings 1936–19...</td>\n",
       "      <td>1996</td>\n",
       "    </tr>\n",
       "    <tr>\n",
       "      <th>8</th>\n",
       "      <td>78</td>\n",
       "      <td>19442</td>\n",
       "      <td>[1]</td>\n",
       "      <td>What to Expect the First Year (What to Expect)</td>\n",
       "      <td>1989</td>\n",
       "    </tr>\n",
       "    <tr>\n",
       "      <th>9</th>\n",
       "      <td>110</td>\n",
       "      <td>28437</td>\n",
       "      <td>[1]</td>\n",
       "      <td>S, M, L, XL</td>\n",
       "      <td>1995</td>\n",
       "    </tr>\n",
       "  </tbody>\n",
       "</table>\n",
       "</div>"
      ],
      "text/plain": [
       "   totalBooks  totalPages prolificMonth  \\\n",
       "0         265       70908           [9]   \n",
       "1         141       39033           [1]   \n",
       "2         154       42756           [1]   \n",
       "3         175       50211           [4]   \n",
       "4         182       51800           [1]   \n",
       "5         358       90760           [1]   \n",
       "6          22        6049       [10, 1]   \n",
       "7         104       28636           [1]   \n",
       "8          78       19442           [1]   \n",
       "9         110       28437           [1]   \n",
       "\n",
       "                                         longestBook  year  \n",
       "0  Harry Potter Boxed Set, Books 1-5 (Harry Potte...  2003  \n",
       "1           Crime Novels: American Noir of the 1950s  1997  \n",
       "2     A Clash of Kings  (A Song of Ice and Fire, #2)  1998  \n",
       "3  The Great Book of Amber (The Chronicles of Amb...  1999  \n",
       "4  The History of the Lord of the Rings (The Hist...  2000  \n",
       "5       Harry Potter Collection (Harry Potter, #1-6)  2005  \n",
       "6                             The Executioner's Song  1979  \n",
       "7  The Grapes of Wrath and Other Writings 1936–19...  1996  \n",
       "8     What to Expect the First Year (What to Expect)  1989  \n",
       "9                                        S, M, L, XL  1995  "
      ]
     },
     "execution_count": 54,
     "metadata": {},
     "output_type": "execute_result"
    }
   ],
   "source": [
    "print('Yearwise Dataframe head: ')\n",
    "yearwiseDf.head(10)"
   ]
  },
  {
   "cell_type": "code",
   "execution_count": null,
   "id": "55e5cc12-bc2c-4f69-9d82-af65c29a2c94",
   "metadata": {
    "id": "55e5cc12-bc2c-4f69-9d82-af65c29a2c94",
    "outputId": "08ce8cb3-7564-4565-aa05-41c6d0daac9a",
    "tags": []
   },
   "outputs": [
    {
     "name": "stdout",
     "output_type": "stream",
     "text": [
      "Yearwise Dataframe tail: \n"
     ]
    },
    {
     "data": {
      "text/html": [
       "<div>\n",
       "<style scoped>\n",
       "    .dataframe tbody tr th:only-of-type {\n",
       "        vertical-align: middle;\n",
       "    }\n",
       "\n",
       "    .dataframe tbody tr th {\n",
       "        vertical-align: top;\n",
       "    }\n",
       "\n",
       "    .dataframe thead th {\n",
       "        text-align: right;\n",
       "    }\n",
       "</style>\n",
       "<table border=\"1\" class=\"dataframe\">\n",
       "  <thead>\n",
       "    <tr style=\"text-align: right;\">\n",
       "      <th></th>\n",
       "      <th>totalBooks</th>\n",
       "      <th>totalPages</th>\n",
       "      <th>prolificMonth</th>\n",
       "      <th>longestBook</th>\n",
       "      <th>year</th>\n",
       "    </tr>\n",
       "  </thead>\n",
       "  <tbody>\n",
       "    <tr>\n",
       "      <th>134</th>\n",
       "      <td>1</td>\n",
       "      <td>0</td>\n",
       "      <td>[2]</td>\n",
       "      <td>Riders to the Sea</td>\n",
       "      <td>1904</td>\n",
       "    </tr>\n",
       "    <tr>\n",
       "      <th>135</th>\n",
       "      <td>9</td>\n",
       "      <td>3218</td>\n",
       "      <td>[3]</td>\n",
       "      <td>The Scarlet Letter and Other Writings</td>\n",
       "      <td>1850</td>\n",
       "    </tr>\n",
       "    <tr>\n",
       "      <th>136</th>\n",
       "      <td>4</td>\n",
       "      <td>384</td>\n",
       "      <td>[1]</td>\n",
       "      <td>En la ardiente oscuridad</td>\n",
       "      <td>1950</td>\n",
       "    </tr>\n",
       "    <tr>\n",
       "      <th>137</th>\n",
       "      <td>1</td>\n",
       "      <td>188</td>\n",
       "      <td>[3]</td>\n",
       "      <td>The Gambler</td>\n",
       "      <td>1866</td>\n",
       "    </tr>\n",
       "    <tr>\n",
       "      <th>138</th>\n",
       "      <td>6</td>\n",
       "      <td>991</td>\n",
       "      <td>[4]</td>\n",
       "      <td>The Turn of the Screw</td>\n",
       "      <td>1898</td>\n",
       "    </tr>\n",
       "    <tr>\n",
       "      <th>139</th>\n",
       "      <td>1</td>\n",
       "      <td>14</td>\n",
       "      <td>[1]</td>\n",
       "      <td>Lewis Carroll's Jabberwocky: A Book of Brillig...</td>\n",
       "      <td>1872</td>\n",
       "    </tr>\n",
       "    <tr>\n",
       "      <th>140</th>\n",
       "      <td>4</td>\n",
       "      <td>2300</td>\n",
       "      <td>[11]</td>\n",
       "      <td>The Red and the Black</td>\n",
       "      <td>1830</td>\n",
       "    </tr>\n",
       "    <tr>\n",
       "      <th>141</th>\n",
       "      <td>1</td>\n",
       "      <td>56</td>\n",
       "      <td>[1]</td>\n",
       "      <td>The Book Of Wonder</td>\n",
       "      <td>1912</td>\n",
       "    </tr>\n",
       "    <tr>\n",
       "      <th>142</th>\n",
       "      <td>1</td>\n",
       "      <td>0</td>\n",
       "      <td>[9]</td>\n",
       "      <td>The Complete Novels Of Jane Austen: Volume 2: ...</td>\n",
       "      <td>1814</td>\n",
       "    </tr>\n",
       "    <tr>\n",
       "      <th>143</th>\n",
       "      <td>5</td>\n",
       "      <td>2112</td>\n",
       "      <td>[10]</td>\n",
       "      <td>Sense and Sensibility</td>\n",
       "      <td>1811</td>\n",
       "    </tr>\n",
       "  </tbody>\n",
       "</table>\n",
       "</div>"
      ],
      "text/plain": [
       "     totalBooks  totalPages prolificMonth  \\\n",
       "134           1           0           [2]   \n",
       "135           9        3218           [3]   \n",
       "136           4         384           [1]   \n",
       "137           1         188           [3]   \n",
       "138           6         991           [4]   \n",
       "139           1          14           [1]   \n",
       "140           4        2300          [11]   \n",
       "141           1          56           [1]   \n",
       "142           1           0           [9]   \n",
       "143           5        2112          [10]   \n",
       "\n",
       "                                           longestBook  year  \n",
       "134                                  Riders to the Sea  1904  \n",
       "135              The Scarlet Letter and Other Writings  1850  \n",
       "136                           En la ardiente oscuridad  1950  \n",
       "137                                        The Gambler  1866  \n",
       "138                              The Turn of the Screw  1898  \n",
       "139  Lewis Carroll's Jabberwocky: A Book of Brillig...  1872  \n",
       "140                              The Red and the Black  1830  \n",
       "141                                 The Book Of Wonder  1912  \n",
       "142  The Complete Novels Of Jane Austen: Volume 2: ...  1814  \n",
       "143                              Sense and Sensibility  1811  "
      ]
     },
     "execution_count": 55,
     "metadata": {},
     "output_type": "execute_result"
    }
   ],
   "source": [
    "print('Yearwise Dataframe tail: ')\n",
    "yearwiseDf.tail(10)"
   ]
  },
  {
   "cell_type": "markdown",
   "id": "d3a805cf-dddc-4773-8c3e-784d9294f5d4",
   "metadata": {
    "id": "d3a805cf-dddc-4773-8c3e-784d9294f5d4"
   },
   "source": [
    "### Using LLM"
   ]
  },
  {
   "cell_type": "code",
   "execution_count": null,
   "id": "beb39f93-6573-420b-ba57-ad7db4fb5cd3",
   "metadata": {
    "id": "beb39f93-6573-420b-ba57-ad7db4fb5cd3",
    "tags": []
   },
   "outputs": [],
   "source": [
    "def historical_look_chatgpt(booksDf, year):\n",
    "    # Convert year to a string for comparison\n",
    "    year_str = str(year)\n",
    "\n",
    "    # Convert the 'publication_date' column to strings\n",
    "    booksDf['publication_date'] = booksDf['publication_date'].astype(str)\n",
    "\n",
    "    # Filter the DataFrame to include only rows from the specified year\n",
    "    year_books = booksDf[booksDf['publication_date'].str.startswith(year_str, na=False)]\n",
    "\n",
    "    # Number of books published that year\n",
    "    num_books = len(year_books)\n",
    "\n",
    "    # Clean the 'num_pages' column - remove non-numeric characters\n",
    "    year_books['num_pages'] = year_books['num_pages'].astype(str).str.replace(r'\\D', '', regex=True)\n",
    "\n",
    "    # Filter out rows with empty or invalid 'num_pages' values\n",
    "    year_books = year_books[year_books['num_pages'].str.isnumeric()]\n",
    "    year_books['num_pages'] = pd.to_numeric(year_books['num_pages'])\n",
    "\n",
    "    # Check if there's data for the year\n",
    "    if year_books.empty:\n",
    "        return {\n",
    "            \"num_books_published\": 0,\n",
    "            \"total_pages_written\": 0,\n",
    "            \"most_prolific_month\": None,\n",
    "            \"longest_book\": None\n",
    "        }\n",
    "\n",
    "    # Total number of pages written that year\n",
    "    total_pages = year_books['num_pages'].sum()\n",
    "\n",
    "    # Find the most prolific month of that year, or None if there's no data\n",
    "    prolific_month = year_books['publication_month'].value_counts().idxmax() if 'publication_month' in year_books else None\n",
    "\n",
    "    # Find the longest book written that year, or None if there's no data\n",
    "    longest_book = year_books.loc[year_books['num_pages'].idxmax()].to_dict() if not year_books.empty else None\n",
    "\n",
    "    return {\n",
    "        \"num_books_published\": num_books,\n",
    "        \"total_pages_written\": total_pages,\n",
    "        \"most_prolific_month\": prolific_month,\n",
    "        \"longest_book\": longest_book['title'] if longest_book else None\n",
    "    }\n"
   ]
  },
  {
   "cell_type": "code",
   "execution_count": null,
   "id": "17d10efc-5f51-4d92-9989-a48fb83a5c25",
   "metadata": {
    "id": "17d10efc-5f51-4d92-9989-a48fb83a5c25",
    "outputId": "92e711fa-0f44-42a3-8152-00ce9d52fbbf",
    "tags": []
   },
   "outputs": [
    {
     "name": "stdout",
     "output_type": "stream",
     "text": [
      "{'num_books_published': 398, 'total_pages_written': 115087, 'most_prolific_month': None, 'longest_book': 'Harry Potter Boxed Set, Books 1-5 (Harry Potter, #1-5)'}\n"
     ]
    }
   ],
   "source": [
    "# Assuming booksDf is your DataFrame\n",
    "year = 2004  # Replace with the desired year\n",
    "result = historical_look_chatgpt(booksDf, year)\n",
    "print(result)"
   ]
  },
  {
   "cell_type": "code",
   "execution_count": null,
   "id": "e371101f-859a-42e6-bbc2-6da7ff8df2cc",
   "metadata": {
    "id": "e371101f-859a-42e6-bbc2-6da7ff8df2cc",
    "tags": []
   },
   "outputs": [],
   "source": [
    "import pandas as pd\n",
    "\n",
    "# Assuming you have the original booksDf DataFrame\n",
    "\n",
    "# Define a list of years for which you want to compute the information\n",
    "years_to_analyze = range(2003, 2023)  # Adjust the range as needed\n",
    "\n",
    "# Initialize an empty list to store the data for each year\n",
    "data_for_each_year = []\n",
    "\n",
    "# Compute the information for each year and store it in the list\n",
    "for year in years_to_analyze:\n",
    "    result = historical_look_chatgpt(booksDf, year)\n",
    "    data_for_each_year.append(result)\n",
    "\n",
    "# Create a new DataFrame from the list\n",
    "yearly_info_df = pd.DataFrame(data_for_each_year, index=years_to_analyze)"
   ]
  },
  {
   "cell_type": "code",
   "execution_count": null,
   "id": "fc8ba34c-4330-4e3c-b9c8-d375cfc77fde",
   "metadata": {
    "id": "fc8ba34c-4330-4e3c-b9c8-d375cfc77fde",
    "outputId": "1e9d4eef-19ac-4c6b-fcab-604da67e583d",
    "tags": []
   },
   "outputs": [
    {
     "name": "stdout",
     "output_type": "stream",
     "text": [
      "Head of the DataFrame (First Ten Years):\n",
      "\n"
     ]
    },
    {
     "data": {
      "text/html": [
       "<div>\n",
       "<style scoped>\n",
       "    .dataframe tbody tr th:only-of-type {\n",
       "        vertical-align: middle;\n",
       "    }\n",
       "\n",
       "    .dataframe tbody tr th {\n",
       "        vertical-align: top;\n",
       "    }\n",
       "\n",
       "    .dataframe thead th {\n",
       "        text-align: right;\n",
       "    }\n",
       "</style>\n",
       "<table border=\"1\" class=\"dataframe\">\n",
       "  <thead>\n",
       "    <tr style=\"text-align: right;\">\n",
       "      <th></th>\n",
       "      <th>num_books_published</th>\n",
       "      <th>total_pages_written</th>\n",
       "      <th>most_prolific_month</th>\n",
       "      <th>longest_book</th>\n",
       "    </tr>\n",
       "  </thead>\n",
       "  <tbody>\n",
       "    <tr>\n",
       "      <th>2003</th>\n",
       "      <td>335</td>\n",
       "      <td>103742</td>\n",
       "      <td>None</td>\n",
       "      <td>The Stand: Das letzte Gefecht</td>\n",
       "    </tr>\n",
       "    <tr>\n",
       "      <th>2004</th>\n",
       "      <td>398</td>\n",
       "      <td>115087</td>\n",
       "      <td>None</td>\n",
       "      <td>Harry Potter Boxed Set, Books 1-5 (Harry Potte...</td>\n",
       "    </tr>\n",
       "    <tr>\n",
       "      <th>2005</th>\n",
       "      <td>516</td>\n",
       "      <td>157751</td>\n",
       "      <td>None</td>\n",
       "      <td>Harry Potter Collection (Harry Potter, #1-6)</td>\n",
       "    </tr>\n",
       "    <tr>\n",
       "      <th>2006</th>\n",
       "      <td>644</td>\n",
       "      <td>201660</td>\n",
       "      <td>None</td>\n",
       "      <td>The Sword of Truth, Boxed Set III: The Pillars...</td>\n",
       "    </tr>\n",
       "    <tr>\n",
       "      <th>2007</th>\n",
       "      <td>132</td>\n",
       "      <td>41156</td>\n",
       "      <td>None</td>\n",
       "      <td>World Without End (Kingsbridge, #2)</td>\n",
       "    </tr>\n",
       "    <tr>\n",
       "      <th>2008</th>\n",
       "      <td>18</td>\n",
       "      <td>4883</td>\n",
       "      <td>None</td>\n",
       "      <td>Henry VIII: The King and His Court</td>\n",
       "    </tr>\n",
       "    <tr>\n",
       "      <th>2009</th>\n",
       "      <td>7</td>\n",
       "      <td>2288</td>\n",
       "      <td>None</td>\n",
       "      <td>Scandalous Risks</td>\n",
       "    </tr>\n",
       "    <tr>\n",
       "      <th>2010</th>\n",
       "      <td>10</td>\n",
       "      <td>3284</td>\n",
       "      <td>None</td>\n",
       "      <td>A Short History of Nearly Everything (Illustra...</td>\n",
       "    </tr>\n",
       "    <tr>\n",
       "      <th>2011</th>\n",
       "      <td>8</td>\n",
       "      <td>3563</td>\n",
       "      <td>None</td>\n",
       "      <td>George Washington's Sacred Fire</td>\n",
       "    </tr>\n",
       "    <tr>\n",
       "      <th>2012</th>\n",
       "      <td>7</td>\n",
       "      <td>2986</td>\n",
       "      <td>None</td>\n",
       "      <td>J.R.R. Tolkien 4-Book Boxed Set: The Hobbit an...</td>\n",
       "    </tr>\n",
       "  </tbody>\n",
       "</table>\n",
       "</div>"
      ],
      "text/plain": [
       "      num_books_published  total_pages_written most_prolific_month  \\\n",
       "2003                  335               103742                None   \n",
       "2004                  398               115087                None   \n",
       "2005                  516               157751                None   \n",
       "2006                  644               201660                None   \n",
       "2007                  132                41156                None   \n",
       "2008                   18                 4883                None   \n",
       "2009                    7                 2288                None   \n",
       "2010                   10                 3284                None   \n",
       "2011                    8                 3563                None   \n",
       "2012                    7                 2986                None   \n",
       "\n",
       "                                           longest_book  \n",
       "2003                      The Stand: Das letzte Gefecht  \n",
       "2004  Harry Potter Boxed Set, Books 1-5 (Harry Potte...  \n",
       "2005       Harry Potter Collection (Harry Potter, #1-6)  \n",
       "2006  The Sword of Truth, Boxed Set III: The Pillars...  \n",
       "2007                World Without End (Kingsbridge, #2)  \n",
       "2008                 Henry VIII: The King and His Court  \n",
       "2009                                   Scandalous Risks  \n",
       "2010  A Short History of Nearly Everything (Illustra...  \n",
       "2011                    George Washington's Sacred Fire  \n",
       "2012  J.R.R. Tolkien 4-Book Boxed Set: The Hobbit an...  "
      ]
     },
     "execution_count": 61,
     "metadata": {},
     "output_type": "execute_result"
    }
   ],
   "source": [
    "print(\"Head of the DataFrame (First Ten Years):\\n\")\n",
    "yearly_info_df.head(10)"
   ]
  },
  {
   "cell_type": "code",
   "execution_count": null,
   "id": "cd24c726-4b8e-4c76-ab81-345b85db4515",
   "metadata": {
    "id": "cd24c726-4b8e-4c76-ab81-345b85db4515"
   },
   "outputs": [],
   "source": [
    "print(\"\\nTail of the DataFrame (Last Ten Years):\\n\")\n",
    "yearly_info_df.tail(10)"
   ]
  },
  {
   "cell_type": "markdown",
   "id": "6fhrIIFBeTqy",
   "metadata": {
    "id": "6fhrIIFBeTqy"
   },
   "source": [
    "# [RQ4]\n",
    "Quirks questions about consistency. In most cases, we will not have a consistent dataset, and the one we are dealing with is no exception. So, let's enhance our analysis."
   ]
  },
  {
   "cell_type": "code",
   "execution_count": null,
   "id": "LwLM5pPOeWiX",
   "metadata": {
    "id": "LwLM5pPOeWiX"
   },
   "outputs": [],
   "source": [
    "authorsDf = pd.read_json('lighter_authors.json', lines=True)"
   ]
  },
  {
   "cell_type": "code",
   "execution_count": null,
   "id": "DTr-v9NNfGQt",
   "metadata": {
    "id": "DTr-v9NNfGQt"
   },
   "outputs": [],
   "source": [
    "authorsDf.head()"
   ]
  },
  {
   "cell_type": "markdown",
   "id": "mqkGB2omfMWd",
   "metadata": {
    "id": "mqkGB2omfMWd"
   },
   "source": [
    "You should be sure there are no eponymous (different authors who have precisely the same name) in the author's dataset. Is it true?\n"
   ]
  },
  {
   "cell_type": "code",
   "execution_count": null,
   "id": "_QscFyWXfHqb",
   "metadata": {
    "id": "_QscFyWXfHqb"
   },
   "outputs": [],
   "source": [
    "epoNum = len(authorsDf.name) - len(authorsDf.name.unique())\n",
    "print(\"Number of eponymous names: \"+ str(epoNum))"
   ]
  },
  {
   "cell_type": "code",
   "execution_count": null,
   "id": "Z9BkQsjzfPtX",
   "metadata": {
    "id": "Z9BkQsjzfPtX"
   },
   "outputs": [],
   "source": [
    "eponymousNames = authorsDf[authorsDf.duplicated(subset='name')]['name'].unique()\n",
    "eNames = []\n",
    "for name in eponymousNames:\n",
    "    eNames.append(name)\n",
    "print(str(dupNum) +' Eponymous author names:\\n')\n",
    "print(eNames)"
   ]
  },
  {
   "cell_type": "markdown",
   "id": "-Iaoq0bvfg_O",
   "metadata": {
    "id": "-Iaoq0bvfg_O"
   },
   "source": [
    "Write a function that, given a list of author_id, outputs a dictionary where each author_id is a key, and the related value is a list with the names of all the books the author has written.\n"
   ]
  },
  {
   "cell_type": "code",
   "execution_count": null,
   "id": "yaflc27LfUgC",
   "metadata": {
    "id": "yaflc27LfUgC"
   },
   "outputs": [],
   "source": [
    "def authorBooks(author_id):\n",
    "    joinedDf = authorsDf.merge(booksDf, left_on='id', right_on='author_id', how='inner')\n",
    "    authorBookdict = {}\n",
    "    for id_ in author_id:\n",
    "        authorBookdict[id_] = list(joinedDf[joinedDf['id'] == id_]['title'])\n",
    "    return authorBookdict"
   ]
  },
  {
   "cell_type": "code",
   "execution_count": null,
   "id": "Zc0jHGWXfi7o",
   "metadata": {
    "id": "Zc0jHGWXfi7o"
   },
   "outputs": [],
   "source": [
    "# checking\n",
    "author_id = [4, 7, 10, 20]\n",
    "authorBooks(author_id)"
   ]
  },
  {
   "cell_type": "markdown",
   "id": "e8GK2eHWf0zW",
   "metadata": {
    "id": "e8GK2eHWf0zW"
   },
   "source": [
    "What is the longest book title among the books of the top 20 authors regarding their average rating? Is it the longest book title overall?\n"
   ]
  },
  {
   "cell_type": "code",
   "execution_count": null,
   "id": "xwPV85GufsyR",
   "metadata": {
    "id": "xwPV85GufsyR"
   },
   "outputs": [],
   "source": [
    "joinedDf = authorsDf.merge(booksDf, left_on='id', right_on='author_id', how='inner', suffixes=('_auth', '_book'))\n",
    "joinedDf.head()"
   ]
  },
  {
   "cell_type": "markdown",
   "id": "1I-5_TbKgAI4",
   "metadata": {
    "id": "1I-5_TbKgAI4"
   },
   "source": [
    "Given the joined dataset has 2 columns that are named as average ratings, I am going with the one that came from the books dataset i.e average_rating_book\n"
   ]
  },
  {
   "cell_type": "code",
   "execution_count": null,
   "id": "biCxZR1wf97x",
   "metadata": {
    "id": "biCxZR1wf97x"
   },
   "outputs": [],
   "source": [
    "joinedDfsort = joinedDf.sort_values(by = 'average_rating_book', ascending = False).reset_index()\n",
    "joinedDfsort.head(20) # Top 20 authors"
   ]
  },
  {
   "cell_type": "code",
   "execution_count": null,
   "id": "KJX_JfiAgFG9",
   "metadata": {
    "id": "KJX_JfiAgFG9"
   },
   "outputs": [],
   "source": [
    "# top 20 authors df\n",
    "top20auth = joinedDfsort[['title', 'name', 'average_rating_book']].head(20)\n",
    "top20auth['title_length'] = list((top20auth.title).str.len())\n",
    "top20auth = top20auth.sort_values(by = 'title_length', ascending = False).reset_index()\n",
    "print('The longest book title is: '+ top20auth.title[0] +\n",
    "      '\\n of length: ' + str(top20auth.title_length[0]) +\n",
    "      ' \\n by author: ' + top20auth.name[0] +\n",
    "      '\\n with average rating: ' + str(top20auth.average_rating_book[0]))\n"
   ]
  },
  {
   "cell_type": "markdown",
   "id": "l0VQne2-gV4f",
   "metadata": {
    "id": "l0VQne2-gV4f"
   },
   "source": [
    "What is the shortest overall book title in the dataset? If you find something strange, provide a comment on what happened and an alternative answer.\n"
   ]
  },
  {
   "cell_type": "code",
   "execution_count": null,
   "id": "5UPD1qzOgK1G",
   "metadata": {
    "id": "5UPD1qzOgK1G"
   },
   "outputs": [],
   "source": [
    "joinedDf['title_length'] = list((joinedDf.title).str.len())\n",
    "joinedDf = joinedDf.sort_values(by = 'title_length').reset_index()\n",
    "print('The longest book title is: '+ joinedDf.title[0] +\n",
    "      '\\n of length: ' + str(joinedDf.title_length[0]) +\n",
    "      ' \\n by author: ' + joinedDf.name[0] +\n",
    "      '\\n with average rating: ' + str(joinedDf.average_rating_book[0]))"
   ]
  },
  {
   "cell_type": "markdown",
   "id": "R7f91Ejol40w",
   "metadata": {
    "id": "R7f91Ejol40w"
   },
   "source": [
    "# RQ5\n",
    "\n"
   ]
  },
  {
   "cell_type": "markdown",
   "id": "61L9cKdsYtV7",
   "metadata": {
    "id": "61L9cKdsYtV7"
   },
   "source": [
    "### We can consider the authors with the most fans to be influential. Let’s have a deeper look."
   ]
  },
  {
   "cell_type": "markdown",
   "id": "xEI7AiMpYtuW",
   "metadata": {
    "id": "xEI7AiMpYtuW"
   },
   "source": [
    "##### Plot the top 10 most influential authors regarding their fan count and number of books. Who is the most influential author?"
   ]
  },
  {
   "cell_type": "code",
   "execution_count": null,
   "id": "5LN9UjapmWsl",
   "metadata": {
    "id": "5LN9UjapmWsl"
   },
   "outputs": [],
   "source": [
    "# Load the \"lighter_authors.json\" dataset into a Pandas DataFrame\n",
    "df_authors_question_five = pd.read_json('/home/ec2-user/lighter_authors.json', lines=True, nrows=1000000)\n",
    "\n",
    "columns = ['name', \"fans_count\", \"works_count\"]\n",
    "authorscleaned = df_authors_question_five[columns]\n"
   ]
  },
  {
   "cell_type": "code",
   "execution_count": null,
   "id": "9CIIrONIszJc",
   "metadata": {
    "id": "9CIIrONIszJc"
   },
   "outputs": [],
   "source": [
    "\n",
    "\n",
    "# Sort the DataFrame by \"fans_count\" in descending order\n",
    "sorted_df = authorscleaned.sort_values(by=\"fans_count\", ascending=False)\n",
    "\n",
    "# Get the top 10 authors based on fan count\n",
    "top_10_authors = sorted_df.head(10)\n",
    "\n",
    "# Create a bar plot for the top 10 authors with fan count and works count\n",
    "fig, ax = plt.subplots(figsize=(10, 6))\n",
    "\n",
    "# Plot fan count\n",
    "ax.barh(top_10_authors['name'], top_10_authors['fans_count'], color='skyblue', label='Fan Count')\n",
    "\n",
    "# Plot works count next to fan count\n",
    "for index, value in enumerate(top_10_authors['works_count']):\n",
    "    ax.text(value, index, str(value), va='center', fontsize=12, color='black')\n",
    "\n",
    "# Set labels and title\n",
    "ax.set_xlabel('Fan Count')\n",
    "ax.set_ylabel('Author')\n",
    "ax.set_title('Top 10 Authors by Fan Count with Works Count')\n",
    "\n",
    "# Show the plot\n",
    "plt.legend(loc='upper right')\n",
    "plt.show()\n"
   ]
  },
  {
   "cell_type": "markdown",
   "id": "EngM638etZL7",
   "metadata": {
    "id": "EngM638etZL7"
   },
   "source": [
    "Most influential author is Stephen King."
   ]
  },
  {
   "cell_type": "markdown",
   "id": "UdJIbH6zw77D",
   "metadata": {
    "id": "UdJIbH6zw77D"
   },
   "source": [
    "#####Have they published any series of books? If any, extract the longest series name among these authors."
   ]
  },
  {
   "cell_type": "code",
   "execution_count": null,
   "id": "LQ-ftGLytwt1",
   "metadata": {
    "id": "LQ-ftGLytwt1"
   },
   "outputs": [],
   "source": [
    "import pandas as pd\n",
    "\n",
    "# Load the \"lighter_books.json\" dataset\n",
    "df_books_question_five = pd.read_json('/home/ec2-user/lighter_books.json', lines=True, nrows=100000)\n",
    "\n",
    "# Sort the DataFrame by \"fans_count\" in descending order and select the top 10 authors\n",
    "top_10_authors = df_authors_question_five.sort_values(by='fans_count', ascending=False).head(10)\n",
    "\n",
    "# Initialize a dictionary to store author names and their longest series names\n",
    "author_longest_series = {}\n",
    "\n",
    "# Iterate through the top 10 authors\n",
    "for index, row in top_10_authors.iterrows():\n",
    "    author_name = row['name']\n",
    "    author_id = row['id']\n",
    "\n",
    "    # Filter the \"df_books_question_five\" to find all series names for the author\n",
    "    series_names = df_books_question_five[df_books_question_five['author_id'] == author_id]['series_name'].values\n",
    "    series_names = [name for name in series_names if name]  # Filter out empty series names\n",
    "\n",
    "    # Find the longest series name for the author\n",
    "    longest_series_name = max(series_names, key=len) if series_names else \"\"\n",
    "\n",
    "    author_longest_series[author_name] = longest_series_name\n",
    "\n",
    "# Create a DataFrame to display the longest series names for each author\n",
    "longest_series_df = pd.DataFrame.from_dict(author_longest_series, orient='index', columns=['Longest Series Name'])\n",
    "\n",
    "# Find the author with the longest series name\n",
    "max_length = 0\n",
    "longest_series_author = None\n",
    "longest_series_name = None\n",
    "\n",
    "for author, series_name in author_longest_series.items():\n",
    "    if len(series_name) > max_length:\n",
    "        max_length = len(series_name)\n",
    "        longest_series_author = author\n",
    "        longest_series_name = series_name\n",
    "\n",
    "# Print the DataFrame and the author with the longest series name\n",
    "print(\"Authors and Their Longest Series Names:\")\n",
    "print(longest_series_df)\n",
    "print(\"\\nAuthor with the Longest Series Name:\")\n",
    "print(f\"Author: {longest_series_author}\")\n",
    "print(f\"Longest Series Name: {longest_series_name}\")\n"
   ]
  },
  {
   "cell_type": "markdown",
   "id": "LkvdJ2RhwYoO",
   "metadata": {
    "id": "LkvdJ2RhwYoO"
   },
   "source": [
    "There are 5 authors in the 'Top 10 Authors' list who have a series. The longest series name among those series is 'Percy Jackson and the Olympians' (by Rick Riordan)."
   ]
  },
  {
   "cell_type": "markdown",
   "id": "aMWUjsGexLP4",
   "metadata": {
    "id": "aMWUjsGexLP4"
   },
   "source": [
    "#####How many of these authors have been published in different formats? Provide a meaningful chart on the distribution of the formats and comment on it."
   ]
  },
  {
   "cell_type": "code",
   "execution_count": null,
   "id": "Qi49f-2txOvj",
   "metadata": {
    "id": "Qi49f-2txOvj"
   },
   "outputs": [],
   "source": [
    "import pandas as pd\n",
    "import matplotlib.pyplot as plt\n",
    "\n",
    "# Load the \"lighter_books.json\" dataset\n",
    "df_books_question_five = pd.read_json('/home/ec2-user/lighter_books.json', lines=True, nrows=100000)\n",
    "\n",
    "# Sort the DataFrame by \"fans_count\" in descending order and select the top 10 authors\n",
    "top_10_authors = df_authors_question_five.sort_values(by='fans_count', ascending=False).head(10)\n",
    "\n",
    "# Extract the author IDs of the top 10 authors\n",
    "author_ids = top_10_authors['id']\n",
    "\n",
    "# Initialize a dictionary to store format counts for each author\n",
    "author_format_counts = {}\n",
    "\n",
    "# Iterate through the top 10 authors\n",
    "for author_id in author_ids:\n",
    "    author_name = top_10_authors[top_10_authors['id'] == author_id]['name'].values[0]\n",
    "\n",
    "    # Filter the \"df_books_question_five\" to find books by the author using author_id\n",
    "    author_books = df_books_question_five[df_books_question_five['author_id'] == author_id]\n",
    "\n",
    "    # Count the book formats for the author\n",
    "    format_counts = author_books['format'].value_counts().to_dict()\n",
    "\n",
    "    # Store the format counts in the dictionary\n",
    "    author_format_counts[author_name] = format_counts\n",
    "\n",
    "# Create a DataFrame from the author_format_counts\n",
    "author_format_df = pd.DataFrame.from_dict(author_format_counts, orient='index').fillna(0)\n",
    "\n",
    "# Plot a bar chart to show the format distribution for each author\n",
    "ax = author_format_df.plot(kind='bar', stacked=True, figsize=(12, 6))\n",
    "plt.xlabel('Authors')\n",
    "plt.ylabel('Number of Books')\n",
    "plt.title('Format Distribution of Books for Top 10 Authors')\n",
    "plt.legend(title='Format', loc='upper right', bbox_to_anchor=(1.2, 1))\n",
    "plt.show()\n"
   ]
  },
  {
   "cell_type": "markdown",
   "id": "o9aqtE4Lxkg1",
   "metadata": {
    "id": "o9aqtE4Lxkg1"
   },
   "source": [
    "All the authors in the 'Top 10 Authors' list have published in different formats as seen in the graph."
   ]
  },
  {
   "cell_type": "markdown",
   "id": "XCGFB0Nox_b6",
   "metadata": {
    "id": "XCGFB0Nox_b6"
   },
   "source": [
    "#####Provide information about the general response from readers (number of fans, average rating, number of reviews, etc.), divide the authors by gender, and comment about anything eventually related to “structural bias.”"
   ]
  },
  {
   "cell_type": "code",
   "execution_count": null,
   "id": "ZlTr-KmlyG5T",
   "metadata": {
    "id": "ZlTr-KmlyG5T"
   },
   "outputs": [],
   "source": [
    "import pandas as pd\n",
    "import matplotlib.pyplot as plt\n",
    "import seaborn as sns\n",
    "\n",
    "\n",
    "\n",
    "# Filter the authors with works_count and text_reviews_count >= 10\n",
    "filtered_authors_df = df_authors_question_five[(df_authors_question_five['works_count'] >= 0) & (df_authors_question_five['text_reviews_count'] >= 0)]\n",
    "\n",
    "# Use .loc to update the 'gender' column to group all other genders as 'other'\n",
    "filtered_authors_df.loc[~filtered_authors_df['gender'].isin(['male', 'female']), 'gender'] = 'other'\n",
    "\n",
    "# Group authors by gender\n",
    "gender_groups = filtered_authors_df.groupby('gender')\n",
    "\n",
    "# Calculate the number of authors for each gender group\n",
    "gender_counts = gender_groups.size().reset_index(name='Number of Authors')\n",
    "\n",
    "# Sort gender groups by the highest number of authors\n",
    "sorted_gender_counts = gender_counts.sort_values(by='Number of Authors', ascending=False)\n",
    "\n",
    "# Plot charts for gender group vs works_count, average_rating, fans_count, and text_reviews_count\n",
    "metrics = ['works_count', 'average_rating', 'fans_count', 'text_reviews_count']\n",
    "for metric in metrics:\n",
    "    plt.figure(figsize=(12, 6))\n",
    "    sns.barplot(x='gender', y=metric, data=filtered_authors_df, order=sorted_gender_counts['gender'])\n",
    "    plt.title(f'{metric} by Gender')\n",
    "    plt.xlabel('Gender')\n",
    "    plt.ylabel(metric)\n",
    "    plt.xticks(rotation=45)\n",
    "    plt.show()\n"
   ]
  },
  {
   "cell_type": "markdown",
   "id": "Flgq61uyyn3Y",
   "metadata": {
    "id": "Flgq61uyyn3Y"
   },
   "source": [
    "#####If we group authors by gender, including male, female, and others, we can observe that the number of works by authors in the \"others\" category is slightly higher than that of both female and male authors. The average ratings for these groups are fairly close to one another. However, despite the greater number of works by authors in the others category compared to female authors, the fan count and text reviews count for female authors are significantly higher than both the others group and the male group."
   ]
  },
  {
   "cell_type": "markdown",
   "id": "s6x-HjGsktmF",
   "metadata": {
    "id": "s6x-HjGsktmF"
   },
   "source": [
    "#[RQ6] For this question, consider the top 10 authors concerning the number of fans again.\n",
    "1. Provide the average time gap between two subsequent publications for a series of books and those not belonging to a series. What do you expect to see, and what is the actual answer to this question?\n",
    "2. For each of the authors, give a convenient plot showing how many books has the given author published UP TO a given year. Are these authors contemporary with each other? Can you notice a range of years where their production rate was higher?\n"
   ]
  },
  {
   "cell_type": "markdown",
   "id": "cddJUGExmdl_",
   "metadata": {
    "id": "cddJUGExmdl_"
   },
   "source": [
    "###6.1"
   ]
  },
  {
   "cell_type": "code",
   "execution_count": null,
   "id": "7bWkeNdRlWSb",
   "metadata": {
    "id": "7bWkeNdRlWSb"
   },
   "outputs": [],
   "source": [
    "df = pd.read_json('lighter_authors.json',lines=True)\n",
    "df = df.sort_values(by='fans_count', ascending=False)\n",
    "first_10 = df['id'].iloc[:10].tolist()\n",
    "\n",
    "df2 = pd.read_json('trimmed_books5.json',lines=True)\n",
    "filtered_df = df2[df2['author_id'].isin(first_10)]\n",
    "\n",
    "df_non_series = pd.DataFrame(columns=filtered_df.columns)\n",
    "df_series = pd.DataFrame(columns=filtered_df.columns)\n",
    "non_series_rows = []\n",
    "series_rows = []\n",
    "\n",
    "for index, row in filtered_df.iterrows():\n",
    "    if pd.isna(row['series_id']) or row['series_id'] == '':\n",
    "        non_series_rows.append(row)\n",
    "    else:\n",
    "        series_rows.append(row)\n",
    "\n",
    "df_series = pd.concat([df_series, pd.DataFrame(non_series_rows)])\n",
    "df_non_series = pd.concat([df_non_series, pd.DataFrame(series_rows)])"
   ]
  },
  {
   "cell_type": "code",
   "execution_count": null,
   "id": "Hpp-EcjFlfU9",
   "metadata": {
    "id": "Hpp-EcjFlfU9"
   },
   "outputs": [],
   "source": [
    "df_series['Publication_year'] = df_series['original_publication_date'].apply(extract_year)\n",
    "df_series = df_series.sort_values(by='Publication_year', ascending=True)"
   ]
  },
  {
   "cell_type": "code",
   "execution_count": null,
   "id": "D3vE4_mLljQh",
   "metadata": {
    "id": "D3vE4_mLljQh"
   },
   "outputs": [],
   "source": [
    "df_non_series['Publication_year'] = df_non_series['original_publication_date'].apply(extract_year)\n",
    "df_non_series = df_non_series.sort_values(by='Publication_year', ascending=True)"
   ]
  },
  {
   "cell_type": "code",
   "execution_count": null,
   "id": "p_1-_K0qlpzZ",
   "metadata": {
    "id": "p_1-_K0qlpzZ"
   },
   "outputs": [],
   "source": [
    "df_series = df_series.sort_values(by='Publication_year')\n",
    "df_series = df_series.reset_index(drop=True)\n",
    "\n",
    "df_non_series = df_non_series.sort_values(by=['Publication_year','series_id'])\n",
    "df_non_series = df_non_series.reset_index(drop=True)"
   ]
  },
  {
   "cell_type": "code",
   "execution_count": null,
   "id": "aIbsWQ97lvVD",
   "metadata": {
    "id": "aIbsWQ97lvVD"
   },
   "outputs": [],
   "source": [
    "sanslanguages1series = df_non_series.drop_duplicates(subset='work_id')\n",
    "sanslanguages2nonseries = df_series.drop_duplicates(subset='work_id')"
   ]
  },
  {
   "cell_type": "code",
   "execution_count": null,
   "id": "RNhh-e2Jl3O3",
   "metadata": {
    "id": "RNhh-e2Jl3O3"
   },
   "outputs": [],
   "source": [
    "grouped = sanslanguages2nonseries.groupby('author_name')\n",
    "\n",
    "with open('final_output2.txt', 'w') as file:\n",
    "    for series, series_books in grouped:\n",
    "        avg_time_diffs = []\n",
    "        series_books = series_books.sort_values('Publication_year')\n",
    "\n",
    "        series_books['Publication_year'] = pd.to_numeric(series_books['Publication_year'])\n",
    "\n",
    "        time_diff = series_books['Publication_year'].diff()\n",
    "\n",
    "        avg_time_diff = time_diff.mean()\n",
    "        avg_time_diffs.append((series, avg_time_diff))\n",
    "\n",
    "        for series, avg_time_diff in avg_time_diffs:\n",
    "            file.write(f\"Author: {series}\\n\")\n",
    "            file.write(f\"Average Time Difference: {avg_time_diff}\\n\")\n",
    "        file.write(\"\\n\")"
   ]
  },
  {
   "cell_type": "code",
   "execution_count": null,
   "id": "eRt102XUmHTe",
   "metadata": {
    "id": "eRt102XUmHTe"
   },
   "outputs": [],
   "source": [
    "sanslanguages1series = sanslanguages1series.sort_values(by=['author_id','series_id'])\n",
    "sanslanguages1series = sanslanguages1series.reset_index(drop=True)"
   ]
  },
  {
   "cell_type": "code",
   "execution_count": null,
   "id": "rl98xHfAmJJY",
   "metadata": {
    "id": "rl98xHfAmJJY"
   },
   "outputs": [],
   "source": [
    "sanslanguages1series['Publication_year'].replace(['', ' '], pd.NA, inplace=True)\n",
    "sanslanguages1series.dropna(subset=['Publication_year'], inplace=True)\n",
    "sanslanguages1series.reset_index(drop=True, inplace=True)"
   ]
  },
  {
   "cell_type": "code",
   "execution_count": null,
   "id": "Jk0Vf3aimLV9",
   "metadata": {
    "id": "Jk0Vf3aimLV9"
   },
   "outputs": [],
   "source": [
    "grouped = sanslanguages1series.groupby('author_name')\n",
    "\n",
    "with open('output.txt', 'w') as file:\n",
    "    for author, books in grouped:\n",
    "        file.write(f\"Author: {author}\\n\")\n",
    "\n",
    "        series_grouped = books.groupby('series_id')\n",
    "\n",
    "        avg_time_diffs = []\n",
    "\n",
    "        for series, series_books in series_grouped:\n",
    "            series_books = series_books.sort_values('Publication_year')\n",
    "\n",
    "            series_books['Publication_year'] = pd.to_numeric(series_books['Publication_year'])\n",
    "\n",
    "            time_diff = series_books['Publication_year'].diff()\n",
    "\n",
    "            avg_time_diff = time_diff.mean()\n",
    "            avg_time_diffs.append((series, avg_time_diff))\n",
    "\n",
    "        for series, avg_time_diff in avg_time_diffs:\n",
    "            file.write(f\"Series: {series}, Average Time Difference: {avg_time_diff}\\n\")\n",
    "        file.write(\"\\n\")"
   ]
  },
  {
   "cell_type": "markdown",
   "id": "ZMk3Cu9smY2H",
   "metadata": {
    "id": "ZMk3Cu9smY2H"
   },
   "source": [
    "###6.2\n"
   ]
  },
  {
   "cell_type": "code",
   "execution_count": null,
   "id": "lFaiWgIpmgW0",
   "metadata": {
    "id": "lFaiWgIpmgW0"
   },
   "outputs": [],
   "source": [
    "import pandas as pd\n",
    "import matplotlib.pyplot as plt\n",
    "\n",
    "# Define the years range\n",
    "years_range = range(1971, 2021)\n",
    "\n",
    "# Create a DataFrame to store cumulative book counts\n",
    "counts_df = pd.DataFrame(index=years_range)\n",
    "\n",
    "# Filter out empty and missing publication dates\n",
    "filtereddf2 = filtered_df[filtered_df['original_publication_date'].str.strip() != '']\n",
    "filtereddf2 = filtereddf2.dropna(subset=['original_publication_date'])\n",
    "\n",
    "# Convert 'original_publication_date' to a 4-digit year\n",
    "filtereddf2['original_publication_date'] = pd.to_datetime(filtereddf2['original_publication_date'], errors='coerce').dt.strftime('%Y')\n",
    "filtereddf2['original_publication_date'] = filtereddf2['original_publication_date'].astype(int)\n",
    "\n",
    "# Calculate cumulative book counts for each author\n",
    "for author_id, author_df in filtereddf2.groupby('author_id'):\n",
    "    authcount = []\n",
    "\n",
    "    for yr in years_range:\n",
    "        count = len(author_df[author_df['original_publication_date'] <= yr])\n",
    "        authcount.append(count)\n",
    "\n",
    "    authorname = filtereddf2[filtereddf2[\"author_id\"] == author_id][\"author_name\"].iloc[0]\n",
    "    counts_df[authorname] = authcount\n",
    "\n",
    "# Create a stacked area plot\n",
    "plt.figure(figsize=(10, 6))\n",
    "for column in counts_df.columns:\n",
    "    plt.fill_between(counts_df.index, counts_df[column], alpha=0.7, label=str(column))\n",
    "\n",
    "plt.title('Cumulative Book Counts by Top Authors up to a Given Year (Stacked Area Plot)')\n",
    "plt.xlabel('Year')\n",
    "plt.ylabel('Cumulative Book Counts')\n",
    "\n",
    "# Move the legend to the upper left and make it slightly smaller\n",
    "plt.legend(loc='upper left', prop={'size': 8})\n",
    "\n",
    "plt.show()\n"
   ]
  },
  {
   "cell_type": "markdown",
   "id": "_o_Z8yOkyK-I",
   "metadata": {
    "id": "_o_Z8yOkyK-I"
   },
   "source": [
    "#RQ7"
   ]
  },
  {
   "cell_type": "markdown",
   "id": "d1duuPIz02F-",
   "metadata": {
    "id": "d1duuPIz02F-"
   },
   "source": [
    "###Estimating probabilities is a core skill for a data scientist: show us your best!"
   ]
  },
  {
   "cell_type": "markdown",
   "id": "VZdiE1iK05oD",
   "metadata": {
    "id": "VZdiE1iK05oD"
   },
   "source": [
    "#####Estimate the probability that a book has over 30% of the ratings above 4."
   ]
  },
  {
   "cell_type": "code",
   "execution_count": null,
   "id": "ru2XkWhK08rH",
   "metadata": {
    "id": "ru2XkWhK08rH"
   },
   "outputs": [],
   "source": [
    "df_books_question_seven = pd.read_json('/home/ec2-user/lighter_books.json', lines=True, nrows=100000)\n",
    "df_books_question_seven.head()"
   ]
  },
  {
   "cell_type": "code",
   "execution_count": null,
   "id": "SkjUYflr1BvY",
   "metadata": {
    "id": "SkjUYflr1BvY"
   },
   "outputs": [],
   "source": [
    "columns = ['title', 'work_id', 'num_pages', 'author_name', 'rating_dist', 'average_rating']\n",
    "booksDfcleaned = df_books_question_seven[columns]"
   ]
  },
  {
   "cell_type": "code",
   "execution_count": null,
   "id": "NLDZl7CE1KYU",
   "metadata": {
    "id": "NLDZl7CE1KYU"
   },
   "outputs": [],
   "source": [
    "rating_dist_series = booksDfcleaned[\"rating_dist\"]\n",
    "def calculate_proportion_4_and_5_star(rating_distribution):\n",
    "\n",
    "    ratings = rating_distribution.split('|')\n",
    "    total_ratings = 0\n",
    "    four_star_ratings = 0\n",
    "    five_star_ratings = 0\n",
    "\n",
    "    for rating in ratings:\n",
    "        key, value = rating.split(':')\n",
    "        if key == 'total':\n",
    "            continue  # Skip the 'total' entry\n",
    "        key = int(key)\n",
    "        value = int(value)\n",
    "        total_ratings += value\n",
    "        if key == 5:\n",
    "            five_star_ratings = value\n",
    "        if key == 4:\n",
    "            four_star_ratings = value\n",
    "\n",
    "    if total_ratings == 0:\n",
    "        return 0.0, 0.0  # Handle the case where there are no ratings\n",
    "\n",
    "    proportion_4_star = four_star_ratings / total_ratings\n",
    "    proportion_5_star = five_star_ratings / total_ratings\n",
    "    return proportion_4_star, proportion_5_star\n",
    "\n",
    "# Apply the function to calculate both 4-star and 5-star proportions\n",
    "proportions = rating_dist_series.apply(calculate_proportion_4_and_5_star)\n",
    "\n",
    "# Unpack the proportions into separate columns\n",
    "booksDfcleaned[['proportion_4_star', 'proportion_5_star']] = pd.DataFrame(proportions.tolist(), index=proportions.index)\n",
    "\n",
    "\n",
    "\n",
    "# Estimate the probability that a book has over 30% of the ratings 4 and above 4\n",
    "probability_over_30_percent = (booksDfcleaned['proportion_4_star'] + booksDfcleaned['proportion_5_star']) > 0.3\n",
    "estimated_probability = probability_over_30_percent.mean()\n",
    "\n",
    "print(\"Estimated Probability of Over 30% 4-Star and 5-Star Ratings:\", estimated_probability)\n"
   ]
  },
  {
   "cell_type": "markdown",
   "id": "F27tLOfm1SRA",
   "metadata": {
    "id": "F27tLOfm1SRA"
   },
   "source": [
    "Estimated Probability of Over 30% 4-Star and 5-Star Ratings is 0.9567530804928789"
   ]
  },
  {
   "cell_type": "markdown",
   "id": "tdtI3VL72LdJ",
   "metadata": {
    "id": "tdtI3VL72LdJ"
   },
   "source": [
    "#####Estimate the probability that an author publishes a new book within two years from its last work."
   ]
  },
  {
   "cell_type": "code",
   "execution_count": null,
   "id": "3zWJ1pz22j6c",
   "metadata": {
    "id": "3zWJ1pz22j6c"
   },
   "outputs": [],
   "source": [
    "\n",
    "grouped = df_books_question_seven.groupby(['author_name', 'author_id'])\n",
    "\n",
    "total_authors = 0\n",
    "authors_with_new_work = 0\n",
    "\n",
    "\n",
    "for (author_name, author_id), works in grouped:\n",
    "    works = works.sort_values(by='original_publication_date')\n",
    "\n",
    "    works['original_publication_date'] = pd.to_datetime(works['original_publication_date'], format=\"%Y\", errors='coerce')\n",
    "\n",
    "    for i in range(1, len(works)):\n",
    "        time_gap = works.iloc[i]['original_publication_date'] - works.iloc[i-1]['original_publication_date']\n",
    "        if not pd.isna(time_gap) and time_gap <= pd.Timedelta(days=730):\n",
    "            authors_with_new_work += 1\n",
    "            break\n",
    "    total_authors += 1\n",
    "\n",
    "# Calculate the probability\n",
    "probability = authors_with_new_work / total_authors\n",
    "\n",
    "print(\"Estimated probability that an author publishes a new book within two years from its last work:\", probability)\n"
   ]
  },
  {
   "cell_type": "markdown",
   "id": "tL5UYodV2n4C",
   "metadata": {
    "id": "tL5UYodV2n4C"
   },
   "source": [
    "Estimated probability that an author publishes a new book within two years from its last work is 0.17965447528027936"
   ]
  },
  {
   "cell_type": "markdown",
   "id": "wIWX4J2w2uO-",
   "metadata": {
    "id": "wIWX4J2w2uO-"
   },
   "source": [
    "#####In the file list.json, you will find a peculiar list named \"The Worst Books of All Time.\" Estimate the probability of a book being included in this list, knowing it has more than 700 pages."
   ]
  },
  {
   "cell_type": "code",
   "execution_count": null,
   "id": "CR-B35JA2420",
   "metadata": {
    "id": "CR-B35JA2420"
   },
   "outputs": [],
   "source": [
    "df_worst_question_seven = pd.read_json('dg.json', lines=True, nrows=100000)\n",
    "df_worst_question_seven.head()"
   ]
  },
  {
   "cell_type": "markdown",
   "id": "Xqh4FIljhJBS",
   "metadata": {
    "id": "Xqh4FIljhJBS"
   },
   "source": [
    "Arranging the list so that we can work on that."
   ]
  },
  {
   "cell_type": "code",
   "execution_count": null,
   "id": "OeAu5d-73Cq5",
   "metadata": {
    "id": "OeAu5d-73Cq5"
   },
   "outputs": [],
   "source": [
    "worst_title = df_worst_question_seven[df_worst_question_seven['title'] == 'The Worst Books of All Time']\n",
    "worst_books_list= worst_title[\"books\"]\n",
    "series_data = worst_books_list[0]\n",
    "\n",
    "# Convert the list of dictionaries to a DataFrame\n",
    "df = pd.concat([pd.DataFrame(d, index=[0]) for d in series_data])\n",
    "\n",
    "# Specify the desired columns\n",
    "columns = ['book_id', 'title',  'author_id', 'author']\n",
    "\n",
    "# Select and arrange the columns\n",
    "result = df[columns]\n",
    "\n",
    "# Reset the DataFrame's index\n",
    "result.reset_index(drop=True, inplace=True)\n",
    "\n",
    "# Print the resulting DataFrame\n",
    "print(result)\n",
    "\n",
    "\n"
   ]
  },
  {
   "cell_type": "code",
   "execution_count": null,
   "id": "jEdmpAFV3IYk",
   "metadata": {
    "id": "jEdmpAFV3IYk"
   },
   "outputs": [],
   "source": [
    "\n",
    "\n",
    "# Convert 'num_pages' column to numeric, converting invalid values to NaN\n",
    "booksDfcleaned['num_pages'] = pd.to_numeric(booksDfcleaned['num_pages'], errors='coerce')\n",
    "\n",
    "# Remove rows with NaN values in 'num_pages'\n",
    "filtered_books = booksDfcleaned.dropna(subset=['num_pages'])\n",
    "\n",
    "# Filter the dataset to include only books with more than 700 pages\n",
    "filtered_books = filtered_books[filtered_books['num_pages'] > 700]\n",
    "\n",
    "# Calculate the total number of books in the filtered_books dataset\n",
    "total_books_in_filtered = len(filtered_books)\n",
    "\n",
    "# Calculate the number of books in the filtered_books dataset that are also in the result dataset\n",
    "common_books = len(set(filtered_books['title']).intersection(result['title']))\n",
    "\n",
    "# Calculate the probability\n",
    "probability = common_books / total_books_in_filtered\n",
    "\n",
    "print(\"Probability of a book with more than 700 pages in booksDfcleaned being included in results: {:.2%}\".format(probability))\n"
   ]
  },
  {
   "cell_type": "markdown",
   "id": "fYnScg-b3KzB",
   "metadata": {
    "id": "fYnScg-b3KzB"
   },
   "source": [
    "Probability of a book with more than 700 pages being included in The Worst Books of All Time is 3.67%"
   ]
  },
  {
   "cell_type": "markdown",
   "id": "aTX18URy3N34",
   "metadata": {
    "id": "aTX18URy3N34"
   },
   "source": [
    "#####Are the events X=’Being Included in The Worst Books of All Time list’ and Y=’Having more than 700 pages’ independent? Explain how you have obtained your answer."
   ]
  },
  {
   "cell_type": "code",
   "execution_count": null,
   "id": "EH4kSkW5SVwc",
   "metadata": {
    "id": "EH4kSkW5SVwc"
   },
   "outputs": [],
   "source": [
    "# Calculate the probability of a book from booksDfcleaned being included in The Worst Books of All Time list (X)\n",
    "total_books = len(booksDfcleaned)\n",
    "books_in_worst_list = len(result)\n",
    "P_X = books_in_worst_list / total_books\n",
    "\n",
    "# Calculate the probability of a book from booksDfcleaned having more than 700 pages (Y)\n",
    "books_with_more_than_700_pages = len(booksDfcleaned[booksDfcleaned['num_pages'].astype(float) > 700])\n",
    "P_Y = books_with_more_than_700_pages / total_books\n",
    "\n",
    "# Calculate the conditional probability of a book from booksDfcleaned being included in the worst list given that it has more than 700 pages (X | Y)\n",
    "common_titles = set(booksDfcleaned[booksDfcleaned['num_pages'].astype(float) > 700]['title']).intersection(result['title'])\n",
    "books_in_worst_list_and_more_than_700_pages = len(common_titles)\n",
    "P_X_given_Y = books_in_worst_list_and_more_than_700_pages / books_with_more_than_700_pages\n",
    "\n",
    "# Check for independence\n",
    "if P_X == P_X_given_Y:\n",
    "    print(\"The events X and Y are independent.\")\n",
    "else:\n",
    "    print(\"The events X and Y are dependent. \")\n"
   ]
  },
  {
   "cell_type": "markdown",
   "id": "E3bQFVM-SX8S",
   "metadata": {
    "id": "E3bQFVM-SX8S"
   },
   "source": [
    "The code calculates the probabilities of two events: X, being included in the worst books list, and Y, having more than 700 pages. It then checks whether these events are independent. If the probability of X (P_X) equals the conditional probability of X given Y (P_X_given_Y), it implies that X and Y are independent, meaning that being on the worst books list is unrelated to the book's page count. As a result  P_X and P_X_given_Y are not equal, it suggests that X and Y are dependent."
   ]
  },
  {
   "cell_type": "markdown",
   "id": "bKADYWBVKlrD",
   "metadata": {
    "id": "bKADYWBVKlrD"
   },
   "source": [
    "# [RQ8]\n",
    "Charts, statistical tests, and analysis methods are splendid tools to illustrate your data-driven decisions to check whether a hypothesis is correct."
   ]
  },
  {
   "cell_type": "markdown",
   "id": "HFskOKsJKuI4",
   "metadata": {
    "id": "HFskOKsJKuI4"
   },
   "source": [
    "##### [RQ8.1] Can you demonstrate that readers usually rate the longest books as the worst?"
   ]
  },
  {
   "cell_type": "markdown",
   "id": "Ay8WYcM6KvRb",
   "metadata": {
    "id": "Ay8WYcM6KvRb"
   },
   "source": [
    "Since the data frame is way too onerous to be read in it's entirety the way we managed to access it is by proccessing chunks.\n",
    "And during this procedure we also apply some conditions to the data in order to make it more meaningful."
   ]
  },
  {
   "cell_type": "code",
   "execution_count": null,
   "id": "aUngm8_TKvxh",
   "metadata": {
    "id": "aUngm8_TKvxh"
   },
   "outputs": [],
   "source": [
    "df = pd.DataFrame()\n",
    "size = 10000\n",
    "chunks = []\n",
    "for chunk in pd.read_json('lighter_books.json', lines = True, chunksize = size):\n",
    "    data = chunk[['language', 'num_pages', 'average_rating', 'rating_dist', 'ratings_count']]\n",
    "\n",
    "    data['num_pages'] = pd.to_numeric(data['num_pages'], errors = 'coerce')\n",
    "    data = data[(data['num_pages'] > 0)]\n",
    "    data = data[(data['num_pages'] < 5000)]\n",
    "    data = data[(data['average_rating'] > 0)]\n",
    "    data = data[(data['average_rating'] <= 5)]\n",
    "    data = data.dropna(subset = ['num_pages', 'average_rating'])\n",
    "    chunks.append(data)\n",
    "df = pd.concat(chunks, ignore_index = True)\n",
    "\n",
    "df.to_json('rq8.json', orient = 'records', lines = True)"
   ]
  },
  {
   "cell_type": "markdown",
   "id": "XQ5odJSUK4ed",
   "metadata": {
    "id": "XQ5odJSUK4ed"
   },
   "source": [
    "Once we have created a data frame containing the desired columns we can start to analyze the data via a scatter plot and applying a linear regression to measure the dependencies of the two variables."
   ]
  },
  {
   "cell_type": "code",
   "execution_count": null,
   "id": "Fkcc5YrNKwX_",
   "metadata": {
    "id": "Fkcc5YrNKwX_"
   },
   "outputs": [],
   "source": [
    "rq8_books = pd.read_json('rq8.json', lines = True)"
   ]
  },
  {
   "cell_type": "code",
   "execution_count": null,
   "id": "pwKROf1yKwm6",
   "metadata": {
    "id": "pwKROf1yKwm6"
   },
   "outputs": [],
   "source": [
    "plt.scatter(rq8_books['num_pages'], rq8_books['average_rating'], 1)\n",
    "plt.xlabel('# Pages')\n",
    "plt.xlim(0,5000)\n",
    "plt.ylabel('Avg Rating')\n",
    "plt.ylim(0,5)\n",
    "\n",
    "z = np.polyfit(rq8_books['num_pages'], rq8_books['average_rating'], 1)\n",
    "p = np.poly1d(z)\n",
    "\n",
    "x_line = np.linspace(rq8_books['num_pages'].min(), rq8_books['num_pages'].max(), 5000)\n",
    "y_line = p(x_line)\n",
    "\n",
    "plt.ylim(0,5)\n",
    "plt.xlabel('# Pages')\n",
    "plt.ylabel('Avg Rating')\n",
    "plt.title('Scatter plot')\n",
    "\n",
    "plt.plot(x_line, y_line, color = 'red')\n",
    "\n",
    "plt.show()"
   ]
  },
  {
   "cell_type": "markdown",
   "id": "rAwwQq-zK9E2",
   "metadata": {
    "id": "rAwwQq-zK9E2"
   },
   "source": [
    "The plot shows that there is a positive correlation between the two variables, this can be seen by the positive angolar coefficient in the regression line.<br/><br/>\n",
    "The junction point between the y-axis and the line represents the intercept.<br/><br/>\n",
    "In order to have a clear numerical number for the correlation between num_pages and average_rating it's used the command .corr()"
   ]
  },
  {
   "cell_type": "code",
   "execution_count": null,
   "id": "QOIFJ2vqKw2O",
   "metadata": {
    "id": "QOIFJ2vqKw2O"
   },
   "outputs": [],
   "source": [
    "rq8_books[['num_pages', 'average_rating']].corr()"
   ]
  },
  {
   "cell_type": "code",
   "execution_count": null,
   "id": "Cb1iAlsjKxHT",
   "metadata": {
    "id": "Cb1iAlsjKxHT"
   },
   "outputs": [],
   "source": [
    "correlation = rq8_books['num_pages'].corr(rq8_books['average_rating'])\n",
    "print(correlation)"
   ]
  },
  {
   "cell_type": "markdown",
   "id": "fC6o81uLLBHT",
   "metadata": {
    "id": "fC6o81uLLBHT"
   },
   "source": [
    "We also plot a heat map to get a better view on the distribution and understand how the data is dislocated.<br/><br/>\n",
    "This type of analysis is done because using a scatter plot we don't really get an appropriate understanding of the data.\n",
    "This plot clearly shows when there data tends to cluster."
   ]
  },
  {
   "cell_type": "code",
   "execution_count": null,
   "id": "3cHWsRKoKxRG",
   "metadata": {
    "id": "3cHWsRKoKxRG"
   },
   "outputs": [],
   "source": [
    "plt.hexbin(rq8_books['num_pages'], rq8_books['average_rating'], bins = 'log', gridsize = 100)\n",
    "\n",
    "#linear regression\n",
    "z = np.polyfit(rq8_books['num_pages'], rq8_books['average_rating'], 1)\n",
    "p = np.poly1d(z)\n",
    "\n",
    "x_line = np.linspace(rq8_books['num_pages'].min(), rq8_books['num_pages'].max(), 5000)\n",
    "y_line = p(x_line)\n",
    "\n",
    "cbar = plt.colorbar()\n",
    "cbar.set_label('Intensity Scale')\n",
    "\n",
    "plt.ylim(0,5)\n",
    "plt.xlabel('# Pages')\n",
    "plt.ylabel('Avg Rating')\n",
    "plt.title('Heat map')\n",
    "\n",
    "plt.plot(x_line, y_line, color = 'red')\n",
    "plt.show()"
   ]
  },
  {
   "cell_type": "markdown",
   "id": "n9-rF2P1LENH",
   "metadata": {
    "id": "n9-rF2P1LENH"
   },
   "source": [
    "The analysis done on the variables num_pages and average_rating shows that there is a slightly positive correlation between the two columns.\n",
    "Therefore we can affirm that it's not true that readers usually rate the longest books as the worst, based on this dataset.<br/><br/>\n",
    "An explanation may be that the amount of books with less than a thousand pages is by far greater in respect to the ones that have more pages, and this can cause a lowering in the intercept of the regression.<br/><br/>\n",
    "This can be immidiately seen from the scale of the color."
   ]
  },
  {
   "cell_type": "markdown",
   "id": "XfrvW4fSLFev",
   "metadata": {
    "id": "XfrvW4fSLFev"
   },
   "source": [
    "##### [RQ8.2] Compare the average rate distribution for English and non-English books with a proper statistical procedure. What can you conclude about those two groups?\n"
   ]
  },
  {
   "cell_type": "markdown",
   "id": "COVOcPK1LGtA",
   "metadata": {
    "id": "COVOcPK1LGtA"
   },
   "source": [
    "We begin by separating the books written in english from the ones written in another language, then extract the variable average_rating of the two groups."
   ]
  },
  {
   "cell_type": "code",
   "execution_count": null,
   "id": "H7hcWsXWKxa6",
   "metadata": {
    "id": "H7hcWsXWKxa6"
   },
   "outputs": [],
   "source": [
    "books_languages = rq8_books[(rq8_books['language'] != ' ')]\n",
    "\n",
    "eng = books_languages[( (books_languages['language'] == \"eng\") | (books_languages['language'] == \"en-US\") | (books_languages['language'] == \"US\") | (books_languages['language'] == \"en-GB\") )] # & (books['average_rating'] >0 )\n",
    "non_eng = books_languages[( (books_languages['language'] != \"eng\") & (books_languages['language'] != \"en-US\") & (books_languages['language'] != \"US\") & (books_languages['language'] != \"en-GB\") )] # & (books['average_rating'] >0 )\n",
    "\n",
    "eng_avg_r = eng['average_rating']\n",
    "non_eng_avg_r = non_eng['average_rating']"
   ]
  },
  {
   "cell_type": "markdown",
   "id": "RqFkZfmNLJDk",
   "metadata": {
    "id": "RqFkZfmNLJDk"
   },
   "source": [
    "We can get a useful summary of the groups with the command .describe()"
   ]
  },
  {
   "cell_type": "code",
   "execution_count": null,
   "id": "BKK1z_vVKxi6",
   "metadata": {
    "id": "BKK1z_vVKxi6"
   },
   "outputs": [],
   "source": [
    "print(eng_avg_r.describe())"
   ]
  },
  {
   "cell_type": "markdown",
   "id": "5Mz1oSZkLLnZ",
   "metadata": {
    "id": "5Mz1oSZkLLnZ"
   },
   "source": [
    "Now we procede by visualizing via histograms the two distributions."
   ]
  },
  {
   "cell_type": "code",
   "execution_count": null,
   "id": "OtU_ssLHKxqu",
   "metadata": {
    "id": "OtU_ssLHKxqu"
   },
   "outputs": [],
   "source": [
    "sns.histplot(eng['average_rating'], bins= 50, stat = 'probability')\n",
    "plt.xlabel('average_rating')\n",
    "plt.ylabel('Probability Density')\n",
    "\n",
    "mean = eng['average_rating'].mean()\n",
    "plt.axvline(x = mean, color = 'red', label = f'Mean: {mean:.2f}')\n",
    "plt.legend()\n",
    "\n",
    "plt.show()"
   ]
  },
  {
   "cell_type": "code",
   "execution_count": null,
   "id": "WMqROXKqKxxu",
   "metadata": {
    "id": "WMqROXKqKxxu"
   },
   "outputs": [],
   "source": [
    "sns.distplot(eng['average_rating'])\n",
    "plt.xlim(0,5)"
   ]
  },
  {
   "cell_type": "code",
   "execution_count": null,
   "id": "PjQHQN57Kx4U",
   "metadata": {
    "id": "PjQHQN57Kx4U"
   },
   "outputs": [],
   "source": [
    "print(non_eng_avg_r.describe())"
   ]
  },
  {
   "cell_type": "code",
   "execution_count": null,
   "id": "WJ00CXPfKx-4",
   "metadata": {
    "id": "WJ00CXPfKx-4"
   },
   "outputs": [],
   "source": [
    "sns.histplot(non_eng['average_rating'], bins= 50, stat = 'probability')\n",
    "plt.xlabel('average_rating')\n",
    "plt.ylabel('Probability Density')\n",
    "plt.title('Histogram of the non english books')\n",
    "\n",
    "mean = non_eng['average_rating'].mean()\n",
    "plt.axvline(x = mean, color = 'red', label = f'Mean: {mean:.2f}')\n",
    "plt.legend()\n",
    "\n",
    "plt.show()"
   ]
  },
  {
   "cell_type": "code",
   "execution_count": null,
   "id": "f7VOqdupKyFu",
   "metadata": {
    "id": "f7VOqdupKyFu"
   },
   "outputs": [],
   "source": [
    "sns.distplot(non_eng['average_rating'])\n",
    "plt.xlim(0,5)"
   ]
  },
  {
   "cell_type": "markdown",
   "id": "rFnlb_wNLiET",
   "metadata": {
    "id": "rFnlb_wNLiET"
   },
   "source": [
    "We can now compare the two groups by visualizing the corrispondent boxplot.<br/><br/>\n"
   ]
  },
  {
   "cell_type": "code",
   "execution_count": null,
   "id": "iAm69C5NKyh6",
   "metadata": {
    "id": "iAm69C5NKyh6"
   },
   "outputs": [],
   "source": [
    "plt.boxplot([eng_avg_r, non_eng_avg_r], labels = ['English', 'Non English'])\n",
    "plt.title('Box Plot')\n",
    "plt.ylabel('Avg Rating')\n",
    "plt.show"
   ]
  },
  {
   "cell_type": "markdown",
   "id": "j3tOXFelLkFv",
   "metadata": {
    "id": "j3tOXFelLkFv"
   },
   "source": [
    "To compare the the average rate distribution we can also implement some statistical test.\n",
    "Firstly we can evaluate if there is normality in the distributions but as shown from these test they are not conclusive.<br/><br/>\n",
    "Then we apply some specific non parametric test but the results obtained weren't enough to satisfy our needs."
   ]
  },
  {
   "cell_type": "code",
   "execution_count": null,
   "id": "CZ31-XrdLlrl",
   "metadata": {
    "id": "CZ31-XrdLlrl"
   },
   "outputs": [],
   "source": [
    "# T-test\n",
    "t_statistic, t_value = stats.ttest_ind(eng['average_rating'], non_eng['average_rating'])\n",
    "print('The test statistic for the t-test is: ', t_statistic)\n",
    "print('The t value is: ', t_value)"
   ]
  },
  {
   "cell_type": "code",
   "execution_count": null,
   "id": "z3sL75CPLms8",
   "metadata": {
    "id": "z3sL75CPLms8"
   },
   "outputs": [],
   "source": [
    "# Kolmogorov-Smirnov test (KS test)\n",
    "ks_statistic, ks_value = ks_2samp(eng['average_rating'], non_eng['average_rating'])\n",
    "print('The test statistic for the Kolmogorov-Smirnov test is: ', ks_statistic)\n",
    "print('The ks value is: ', ks_value)"
   ]
  },
  {
   "cell_type": "code",
   "execution_count": null,
   "id": "RlNclso9Ln58",
   "metadata": {
    "id": "RlNclso9Ln58"
   },
   "outputs": [],
   "source": [
    "# Fisher Test\n",
    "threshold = 4\n",
    "a1 = (eng[(eng['average_rating'] >= threshold)]['average_rating']).sum()\n",
    "a2 = (eng[(eng['average_rating'] < threshold)]['average_rating']).sum()\n",
    "b1 = (non_eng[(non_eng['average_rating'] >= threshold)]['average_rating']).sum()\n",
    "b2 = (non_eng[(non_eng['average_rating'] >= threshold)]['average_rating']).sum()\n",
    "\n",
    "contingency_table = [[a1, a2], [b1, b2]]\n",
    "odds_ratio, f_value = fisher_exact(contingency_table)\n",
    "print(contingency_table)\n",
    "print(odds_ratio)\n",
    "print(f_value)"
   ]
  },
  {
   "cell_type": "code",
   "execution_count": null,
   "id": "UcMhM6KfLp2Y",
   "metadata": {
    "id": "UcMhM6KfLp2Y"
   },
   "outputs": [],
   "source": [
    "_, p_value_avg_rating = stats.shapiro(rq8_books['average_rating'])\n",
    "\n",
    "# Normality test for the group of english books\n",
    "_, p_value_english = stats.shapiro(eng['average_rating'])\n",
    "\n",
    "# Normality test for the group of non english books\n",
    "_, p_value_no_english = stats.shapiro(non_eng['average_rating'])\n",
    "\n",
    "print(f\"Normality test for Average Rating, p-value: {p_value_avg_rating}\\n\")\n",
    "\n",
    "print(f\"Normality test for books in english, p-value: {p_value_english}\\n\")\n",
    "\n",
    "print(f\"Normality test for books that are not in english,p-value: {p_value_no_english}\")"
   ]
  },
  {
   "cell_type": "markdown",
   "id": "fV9mtBE0LsPa",
   "metadata": {
    "id": "fV9mtBE0LsPa"
   },
   "source": [
    "##### [RQ8.3] About the two groups in the previous question, extract helpful statistics like mode, mean, median, and quartiles, explaining their role in a box plot.\n"
   ]
  },
  {
   "cell_type": "markdown",
   "id": "eXJox5m9LwJS",
   "metadata": {
    "id": "eXJox5m9LwJS"
   },
   "source": [
    "A box plot or box-and-whisker plot, is a graphical tool that provides a concise summary of the distribution from a dataset.<br/><br/>\n",
    "Box plots are extraordirary useful when comparing the distributions of multiple datasets or when visualizing non-normally distributed data.\n",
    "It shows clearly the spreadness and the skewness of the data along with outliers.<br/><br/>\n",
    "We are now analyzing each statistic in more detail.\n",
    "- Mode: is the values that occures with highest frequency in the dataset, it helps to identify the most common value.\n",
    "- Mean: it's the sum of all data points divided by the number of data points, it's represented as a point and gives informations about the central location of the data distribution but it's sentitive to outliers.\n",
    "- Median: is the middle value in a dataset when the arrangement of values is in ascending or descending order. In a box plot, it's the central line within the box and it's not affected by outliers.\n",
    "- Quartiles: they divide the dataset into four equal parts, each containing 25% of the data points.\n",
    "    1. Q1: is the lower horizontal line that composes the box.\n",
    "    2. Q2: is the median, the line that separates the dataset in two equal parts.  \n",
    "    3. Q3: is the higher horizontal line that composes the box.<br/><br/>\n",
    "In this specific case we have that:\n",
    "- English books:<br/><br/>\n",
    "mean 3.900390<br/><br/>\n",
    "std 0.453041<br/><br/>\n",
    "Q1 3.670000<br/><br/>\n",
    "Q2 3.920000<br/><br/>\n",
    "Q3 4.140000<br/><br/>\n",
    "\n",
    "- Non english books:<br/><br/>\n",
    "mean 3.847283<br/><br/>\n",
    "std 0.507422<br/><br/>\n",
    "Q1 3.600000<br/><br/>\n",
    "Q2 3.880000<br/><br/>\n",
    "Q3 4.120000<br/><br/>\n",
    "So we can conclude that the are no evident changes in the distributions"
   ]
  },
  {
   "cell_type": "markdown",
   "id": "VFP4WRsLL87O",
   "metadata": {
    "id": "VFP4WRsLL87O"
   },
   "source": [
    "##### [RQ8.4] It seems reasonable to assume that authors with more fans should have more reviews, but maybe their fans are a bit lazy. Confirm or reject this with a convenient statistical test or a predictive model."
   ]
  },
  {
   "cell_type": "markdown",
   "id": "T0bhYCkHL_Gb",
   "metadata": {
    "id": "T0bhYCkHL_Gb"
   },
   "source": [
    "To answer this question we need to create a new data frame from the authors file containing the columns ratings_count and fans_count.<br/><br/>\n",
    "As we did for the books file we process the data by chunks and apply some conditions to filter the meaningful records adn finally save the dataset in a json file."
   ]
  },
  {
   "cell_type": "code",
   "execution_count": null,
   "id": "bdGftnKYL_tW",
   "metadata": {
    "id": "bdGftnKYL_tW"
   },
   "outputs": [],
   "source": [
    "df = pd.DataFrame()\n",
    "size = 10000\n",
    "chunks = []\n",
    "for chunk in pd.read_json('lighter_authors.json', lines = True, chunksize = size):\n",
    "    data = chunk[['ratings_count', 'fans_count']]\n",
    "\n",
    "    data['fans_count'] = pd.to_numeric(data['fans_count'], errors = 'coerce')\n",
    "    data = data[(data['fans_count'] > 0)]\n",
    "    data = data[(data['ratings_count'] > 0)]\n",
    "    data = data.dropna(subset = ['fans_count', 'ratings_count'])\n",
    "    chunks.append(data)\n",
    "df = pd.concat(chunks, ignore_index = True)\n",
    "\n",
    "df.to_json('rq8_4.json', orient = 'records', lines = True)"
   ]
  },
  {
   "cell_type": "code",
   "execution_count": null,
   "id": "3URBxkKiMAjk",
   "metadata": {
    "id": "3URBxkKiMAjk"
   },
   "outputs": [],
   "source": [
    "rq8_4_books = pd.read_json('rq8_4.json', lines = True)\n"
   ]
  },
  {
   "cell_type": "code",
   "execution_count": null,
   "id": "vYeEo2kQMAxF",
   "metadata": {
    "id": "vYeEo2kQMAxF"
   },
   "outputs": [],
   "source": [
    "X = rq8_4_books[['fans_count']]\n",
    "\n",
    "y = rq8_4_books['ratings_count']\n",
    "\n",
    "X_train, X_test, y_train, y_test = train_test_split(X, y, test_size=0.3)\n",
    "\n",
    "model = LinearRegression()\n",
    "model.fit(X_train, y_train)\n",
    "\n",
    "y_pred = model.predict(X_test)\n",
    "\n",
    "mse = mean_squared_error(y_test, y_pred)\n",
    "r2 = r2_score(y_test, y_pred)\n",
    "print(f\"Mean Squared Error: {mse}\")\n",
    "print(f\"R-squared: {r2}\")\n",
    "\n",
    "plt.scatter(X, y, color='blue', label='Data', s = 1)\n",
    "plt.plot(X_test, y_pred, color='red', linewidth=2, label='Linear Regression')\n",
    "plt.xlabel('Fans')\n",
    "plt.ylabel('Reviews')\n",
    "plt.legend()\n",
    "plt.show()\n"
   ]
  },
  {
   "cell_type": "code",
   "execution_count": null,
   "id": "tat9sznSMBXQ",
   "metadata": {
    "id": "tat9sznSMBXQ"
   },
   "outputs": [],
   "source": [
    "# Correlation between \"fans_count\" e \"ratings_count\"\n",
    "correlation, p_value = pearsonr(rq8_4_books['fans_count'], rq8_4_books['ratings_count'])\n",
    "\n",
    "# Print the correlation and the p-value\n",
    "print(f\"Correlation between fans_count and ratings_count: {correlation}\")\n",
    "print(f\"P-value: {p_value}\")\n",
    "\n",
    "# Verify if the correlation is significative\n",
    "if p_value < 0.05:\n",
    "    print(\"The correlation is significative\")\n",
    "else:\n",
    "    print(\"The correlation is not significative\")"
   ]
  },
  {
   "cell_type": "markdown",
   "id": "GXFgQOuNMK-j",
   "metadata": {
    "id": "GXFgQOuNMK-j"
   },
   "source": [
    "As expected the amount of fans has an impact on the amount of reviews on average"
   ]
  },
  {
   "cell_type": "code",
   "execution_count": null,
   "id": "znXDaZVxMBoY",
   "metadata": {
    "id": "znXDaZVxMBoY"
   },
   "outputs": [],
   "source": [
    "t_stat, p_value = stats.ttest_ind(rq8_4_books['fans_count'], rq8_4_books['ratings_count'])\n",
    "\n",
    "if p_value < 0.05:\n",
    "    print('Reject null hypothesis')\n",
    "else:\n",
    "    print('Fail to reject the null hypothesis')"
   ]
  },
  {
   "cell_type": "code",
   "execution_count": null,
   "id": "qD_INBFyMBzd",
   "metadata": {
    "id": "qD_INBFyMBzd"
   },
   "outputs": [],
   "source": [
    "author_regression = rq8_4_books[['ratings_count', 'fans_count']]"
   ]
  },
  {
   "cell_type": "code",
   "execution_count": null,
   "id": "giBxJ-2uMB9f",
   "metadata": {
    "id": "giBxJ-2uMB9f"
   },
   "outputs": [],
   "source": [
    "model = ols('ratings_count ~ fans_count', data=author_regression).fit()\n",
    "print(model.summary())"
   ]
  },
  {
   "cell_type": "code",
   "execution_count": null,
   "id": "44nRzecnMCJA",
   "metadata": {
    "id": "44nRzecnMCJA"
   },
   "outputs": [],
   "source": []
  },
  {
   "cell_type": "markdown",
   "id": "CCKlqrN3Ndy3",
   "metadata": {
    "id": "CCKlqrN3Ndy3"
   },
   "source": [
    "##### [RQ8.5] Provide a short survey about helpful statistical tests in data analysis and mining: focus on hypothesis design and the difference between parametric and nonparametric tests, explaining the reasons behind the choice of one of these two tests."
   ]
  },
  {
   "cell_type": "markdown",
   "id": "ulp8CF6YNayR",
   "metadata": {
    "id": "ulp8CF6YNayR"
   },
   "source": [
    "Statistical tests are essential tools in data analysis and data mining.\n",
    "The nature of the data and the assumptions one can make will determine the choice between using a parametric or nonparametric tests.<br/><br/>\n",
    "Parametric Tests\n",
    "- Linear Regression.<br/><br/>\n",
    "It compares the means of two independent samples and it is used when the data follow a normal distribution and there is the need of comparing means but it's sensitive to small sample sizes.<br/><br/>\n",
    "It's purpose is to explore and model the relationship between a dependent variable, also called target, and one or more independent variables, also known as features.\n",
    "It's usage is mainly to make predictions, understand dependecies and to identify significant factors in data.<br/><br/>\n",
    "Hypothesis design in Linear Regression:<br/><br/>\n",
    "1. Null hypothesis (H<sub>0</sub>): tipically it states that there is no significant relationship between the independent variables and the dependent one.\n",
    "2. Alternative hypothesis (H<sub>1</sub>): it counters the null hypothesis. It suggests that there is a significant relationship between the features and the target.\n",
    "3. Significance level ($\\alpha$): it represents the probability threshold at which it'll determine whether to reject the null hypothesis or not, common values of $\\alpha$ are 0.05 and 0.01.<br/><br/>\n",
    "Once the model is contructed and evaluated, predictions on the target can be made using input values for the independet variables.<br/><br/>\n",
    "Inference can be drawn from the coefficients to understang the direction and the strength of the relationship between variables.\n",
    "- Analysis of Variance (ANOVA).<br/><br/>\n",
    "It's used to compare means between three or more groups. ANOVA assess whether there are statistically significant differences among the group means.<br/><br/>\n",
    "Hypothesis design in the Analysis of Variance.<br/><br/>\n",
    "1. Null hypothesis (H<sub>0</sub>): it affirms that there are no significant differences between the means of the groups taken into account.\n",
    "2. Alternative hypothesis (H<sub>1</sub>): is the opposite to the null hypothesis and states that at least one group's mean is different from the others.<br/><br/>\n",
    "The steps required to make a valuable study are: data collection, data assumptions, the computation of the sample means and variances for each group, the ANOVA tedt statistic tha indicates the ratio of two variances (between and within), comparing the p-value to the level of significance to make a decision whether reject or not the null hypothesis and if necessary post-hoc tests can be used to identify which specifi group means differ from each other.<br/><br/>\n",
    "Nonparametric Tests.<br/><br/>\n",
    "Although we didn't have a chance to study them yet, the reaserch done was essential to answer properly to the question.<br/><br/>\n",
    "- Spearman's Rank-Order correlation.<br/><br/>\n",
    "It's used in data analysis and data mining to assess the strenght and direction of the monotonic relationship between two variables, thus when assumptions of linear correlation aren't met.<br/><br/>\n",
    "Hypothesis design in the Spearman's Rank-Order correlation.<br/><br/>\n",
    "1. Null hypothesis: it declares that there is no significant monotonic relationship between the two variables.\n",
    "2. Alternative Hypothesis (H<sub>1</sub>): The alternative hypothesis suggests the presence of a monotonic relationship between the variables. Depending on your research question, it can take different forms.<br/><br/>\n",
    "The steps in performing Spearman's Rank-Order correlations are: data collection, assign a rank to each data point for both variables, calcualte the differences that will be later on squared and summed to finally compute the Spearman's rank correlation coefficient, $\\rho$, using the formula.\n",
    "After obtaining $\\rho$ we compare it with the critical value from the so called tables of critical values or we can use a software to find the p-value. Lastly, we make a decision based on the p-value and the chosen level of significance.<br/><br/>\n",
    "- Kruskal-Wallis test.<br/><br/>\n",
    "It determines if there are significant differences in the medians of three or more independent groups, it is a powerful tool for comparing multiple groups when assumptions of normality and equal variances are violated.\n",
    "Hypothesis design in the Kruskal-Wallis test.<br/><br/>\n",
    "1. Null hypothesis (H<sub>0</sub>): it states that there are no significant differences among the medians of the groups being compared.\n",
    "2. Alternative hypothesis (H<sub>1</sub>): it claims that at least one group's median is different from the others.<br/><br/>\n",
    "Steps in Performing the Kruskal-Wallis test are: as always data collection, then ranking for each group and rank the data combined across all groups, calculation of the Kruskal-Wallis test statistic (H) using the formula which is pretty complex and it's often used a software to compute it. In this test there are also degrees of freedom, which depend on the number of groups and the sample size, then using the test statistic, degrees of freedom and significance level we can oper in two ways, we can either compare H to a critical value from the chi-squared distribution table to make a decision or again use a software to obtain a p-value.\n",
    "\n",
    "\n",
    "\n",
    "\n"
   ]
  },
  {
   "cell_type": "markdown",
   "id": "nmakiAN8Mwg3",
   "metadata": {
    "id": "nmakiAN8Mwg3"
   },
   "source": [
    "# Algorithmic Question"
   ]
  },
  {
   "cell_type": "code",
   "execution_count": null,
   "id": "JPdyJw5TMCz5",
   "metadata": {
    "id": "JPdyJw5TMCz5"
   },
   "outputs": [],
   "source": [
    "from collections import deque\n",
    "    instructions = list(map(str, input().split()))\n",
    "def process_instructions(instructions):\n",
    "    shelf = deque()\n",
    "    answers = []\n",
    "    for instructions in instructions:\n",
    "        command, b_id =instructions.split()\n",
    "        b_id = int(b_id)\n",
    "        if command == 'L':\n",
    "            shelf.appendleft(b_id)\n",
    "        elif command == 'R':\n",
    "            shelf.append(b_id)\n",
    "        else:\n",
    "            left_count = shelf.index(b_id)\n",
    "            right_count = len(shelf) - left_count -1\n",
    "            answers.append(min(left_count, right_count))\n",
    "    return answers\n",
    "\n",
    "instructions = ['R 1', 'L 2', 'L 3', 'L 4', '? 3', 'R 5', 'R 6', 'L 7', 'L 8', '? 4', 'L 9', 'R 10', 'R 11', 'L 12', 'L 13', '? 11', '? 3']\n",
    "print(process_instructions(instructions))"
   ]
  },
  {
   "cell_type": "markdown",
   "id": "pdxHwMoINTzJ",
   "metadata": {
    "id": "pdxHwMoINTzJ"
   },
   "source": [
    "ChatGPT answer:\n",
    "\n",
    "Let's analyze the time complexity of your code:\n",
    "\n",
    "Initializing shelf as a deque has a constant time complexity and doesn't significantly impact the overall complexity.\n",
    "\n",
    "The main part of the code is the loop that iterates through the instructions. The time complexity of this loop is O(N), where N is the number of instructions.\n",
    "\n",
    "Inside the loop, for 'L' and 'R' commands, both appendleft and append operations on a deque have an average time complexity of O(1). They are efficient operations because deques are designed to perform well at both ends.\n",
    "\n",
    "For the '?' command, the code uses shelf.index(b_id), which has an average time complexity of O(N). This operation searches for the index of b_id in the deque. In the worst case, it might need to iterate through the entire deque to find the index.\n",
    "\n",
    "Calculating right_count and appending the minimum of left_count and right_count to the answers list also have a time complexity of O(1).\n",
    "\n",
    "The overall time complexity of your code is determined by the most time-consuming operation, which is the shelf.index(b_id) operation inside the loop. Therefore, the code's time complexity is O(N^2) because for each '?' command, you may have to perform a linear search through the shelf deque. This can be inefficient for large input sizes.\n",
    "\n",
    "To improve the code's efficiency, you can consider using a different data structure or approach to calculate the left and right counts in O(N) time, avoiding the need to search through the deque for each '?' command.\n",
    "\n",
    "\n",
    "Bard answer:\n",
    "\n",
    "\n",
    "The time complexity of the code you provided is O(n) for the following reasons:\n",
    "\n",
    "The deque class implements all operations in O(1) time, except for the index() method, which takes O(n) time in the worst case.\n",
    "The process_instructions() function iterates over the input instructions and performs the following operations for each instruction:\n",
    "Splits the instruction into two parts: the command and the book ID. This takes O(1) time.\n",
    "Converts the book ID to an integer. This takes O(1) time.\n",
    "If the command is \"L\" or \"R\", appends the book ID to the left or right of the shelf. This takes O(1) time.\n",
    "If the command is \"?\", calculates the minimum number of books to pop from the left or right to have the given book as the leftmost or rightmost book on the shelf. This takes O(n) time in the worst case, since the shelf.index() method is called.\n",
    "Therefore, the time complexity of the process_instructions() function is O(n) in the worst case.\n",
    "However, the average-case time complexity of the process_instructions() function is O(1), since the shelf.index() method is not called for most instructions.\n",
    "\n",
    "In conclusion, the time complexity of the code you provided is O(n) in the worst case and O(1) in the average case."
   ]
  },
  {
   "cell_type": "markdown",
   "id": "3jjHCOGjNWct",
   "metadata": {
    "id": "3jjHCOGjNWct"
   },
   "source": [
    "Another way to calculate the code's time complexity is to do it manually.<br/><br/>\n",
    "At first we analyze each operation, then count the dominant ones and adding up the time complexities taking into consideration also loops or possible nested loops that alterate greatly the complexity."
   ]
  },
  {
   "cell_type": "markdown",
   "id": "uPnERQRCNXJ1",
   "metadata": {
    "id": "uPnERQRCNXJ1"
   },
   "source": [
    "This algorithm may not be the most efficient because for each type 3 instruction it has to compute 'shelf.index(boo_id)' that has a time complexity of O(N).<br/><br/>\n",
    "A more efficient strategy could be just to count the occurencies of 'L' and 'R' instructions and instead of going through the whole shelf every time the instruction is of the type '?N' just answer with the counter for 'L' or 'R' command done after the book with id = N was placed on the shelf."
   ]
  },
  {
   "cell_type": "markdown",
   "id": "xsvP6kokoEGr",
   "metadata": {
    "id": "xsvP6kokoEGr"
   },
   "source": [
    "#Command Line Question\n",
    "Using the command line is a feature that Data Scientists must master. It is relevant since the operations there require less memory to use in comparison to other interfaces. It also uses less CPU processing time than other interfaces. In addition, it can be faster and more efficient and handle repetitive tasks quickly.\n",
    "\n",
    "Note: To answer the question in this section, you must strictly use command line tools. We will reject any other method of response.\n",
    "\n",
    "Looking through the files, you can find series.json, which contains a list of book series. In each series's 'works' field, you'll find a list of books that are part of that series. Report the title of the top 5 series with the highest total 'books_count' among all of their associated books using command line tools.\n",
    "\n",
    "1. Write a script to provide this report. Put your script in a shell script file with the appropriate extension, then run it from the command line. The file should be called commandline_original.[put_the_proper extension]\n",
    "2. Try interacting with ChatGPT or any other LLM chatbot tool to implement a more robust script implementation. Your final script should be at most three lines. Put your script in a shell script file with the appropriate extension, then run it from the command line. The file should be called commandline_LLM.[put_the_proper_ extension]. Add in your homework how you employed the LLM chatbot tools, validate if it is correct, and explain how you check its correctness."
   ]
  },
  {
   "cell_type": "markdown",
   "id": "6Huah-4SotpZ",
   "metadata": {
    "id": "6Huah-4SotpZ"
   },
   "source": [
    "`commandline.sh`\n",
    "\n",
    "```bash\n",
    "echo -e \"id\\ttitle\\ttotal_book_count\"\n",
    "jq -r -s 'group_by(.title) | map({id: .[0].id, title: .[0].title, bookCount: map(.works[].books_count | tonumber) | add}) | sort_by(.bookCount) | reverse | .[:5] | .[] | \"\\(.id)\\t\\(.title)\\t\\(.bookCount)\"' series.json\n",
    "```"
   ]
  },
  {
   "cell_type": "markdown",
   "id": "4_MSlNADoyyM",
   "metadata": {
    "id": "4_MSlNADoyyM"
   },
   "source": [
    "![cmddLLM.jpeg](data:image/jpeg;base64,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)"
   ]
  },
  {
   "cell_type": "markdown",
   "id": "tI09wsGpohNJ",
   "metadata": {
    "id": "tI09wsGpohNJ"
   },
   "source": []
  },
  {
   "cell_type": "markdown",
   "id": "I_TylJA3of0w",
   "metadata": {
    "id": "I_TylJA3of0w"
   },
   "source": [
    "`commandline_LLM.sh`\n",
    "```bash\n",
    "(echo -e \"\\e[1;34m\\e[1mid       title                                     total_book_count\\e[0m\" \\\n",
    "&& jq -r -s 'group_by(.title) | map({id: .[0].id, title: .[0].title, bookCount: (map(.works[].books_count | tonumber) | add // 0)}) | sort_by(.bookCount) | reverse | .[:5] | .[] | \"\\(.id) |\\(.title) |\\(.bookCount) |\"' series.json | column -t -s '|') \\\n",
    "|| echo \"An error occurred\"\n",
    "```"
   ]
  },
  {
   "cell_type": "markdown",
   "id": "a0pST7IxpHVX",
   "metadata": {
    "id": "a0pST7IxpHVX"
   },
   "source": [
    "![cmddd.jpeg](data:image/jpeg;base64,/9j/4AAQSkZJRgABAQAAAQABAAD/2wBDAAMCAgICAgMCAgIDAwMDBAYEBAQEBAgGBgUGCQgKCgkICQkKDA8MCgsOCwkJDRENDg8QEBEQCgwSExIQEw8QEBD/2wBDAQMDAwQDBAgEBAgQCwkLEBAQEBAQEBAQEBAQEBAQEBAQEBAQEBAQEBAQEBAQEBAQEBAQEBAQEBAQEBAQEBAQEBD/wAARCAC2AmIDAREAAhEBAxEB/8QAHwAAAQUBAQEBAQEAAAAAAAAAAAECAwQFBgcICQoL/8QAtRAAAgEDAwIEAwUFBAQAAAF9AQIDAAQRBRIhMUEGE1FhByJxFDKBkaEII0KxwRVS0fAkM2JyggkKFhcYGRolJicoKSo0NTY3ODk6Q0RFRkdISUpTVFVWV1hZWmNkZWZnaGlqc3R1dnd4eXqDhIWGh4iJipKTlJWWl5iZmqKjpKWmp6ipqrKztLW2t7i5usLDxMXGx8jJytLT1NXW19jZ2uHi4+Tl5ufo6erx8vP09fb3+Pn6/8QAHwEAAwEBAQEBAQEBAQAAAAAAAAECAwQFBgcICQoL/8QAtREAAgECBAQDBAcFBAQAAQJ3AAECAxEEBSExBhJBUQdhcRMiMoEIFEKRobHBCSMzUvAVYnLRChYkNOEl8RcYGRomJygpKjU2Nzg5OkNERUZHSElKU1RVVldYWVpjZGVmZ2hpanN0dXZ3eHl6goOEhYaHiImKkpOUlZaXmJmaoqOkpaanqKmqsrO0tba3uLm6wsPExcbHyMnK0tPU1dbX2Nna4uPk5ebn6Onq8vP09fb3+Pn6/9oADAMBAAIRAxEAPwD86qACgAoAKACgAoAKACgAoAKACgAoAKACgAoAKAFCMVLhTtBAJxwCc4H6H8qAEoAKACgAoAKACgAoAKACgAoAKACgAoAKACgAoAKACgAoAKACgAoAKACgAoAKACgAoAKACgAoAKACgAoAKACgAoAKACgAoAKACgAoAKACgAoAKACgAoAKACgAoAKACgAoAKACgAoAKACgD1P4PfB6x+IdjeazrOpXFvZ2832ZEttokeQKGJJYEAAMvbnJ6Y59fLctjjIuc3ZLTQ8rMMwlhJKEFdvXU5j4neBT8PfFD6Gt4bqCSFbm3kYYYxsSMMBxkFWHvjPGcVyY7CfU63s73W6OrBYr63S9paz2O9tPgBosXws0/wCI2ueMNUiXVLOa8jbTtBkvrO1KEgRXEyPmNmIxkqAp6k4ryquIdOo6cVrpu7Xv2ON5nN4l0IQWjtrKzfmkO8Dfs82Xj7wLL4h0jXdfi1KPTp78C48Oyx6aWi3ZgF5v2sxC8MBjnGM0sRiHh220rK3XX5Ly/EWIzSWGr+znFWvb4lf1sQaJoWnXH7OPizUtE8WxzvY3em3OradNoSCSKWScxxCK7LltuAWOF7Y4ycuu3GrSTWjbs7/3bu6/ruVOpJZhCM42umk79Er6o9P8PfDjw7LYaPZat8IfCNroOoDTLfUVOszz+IrI37rFb3Tv8qIGdg3lhenUDkVnUbdSUOZp+9ay0uk3Z99DzamKqXlKNWTkr20Sg+XVr/gnGfE6zgj+A93bXuiaHFqfhj4gv4ZW+sdMitppre3s5B+8ZBliWG4knk4z0ohLnq06n88HJrpdtbHZg2/rqabtKHNZtvVtGb4d/Zz0zWLLw/o1749Wy8aeLNIbW9H0g6ezwNBtd41ln3fIzrGxHynGCOeM3VxDhzuMbqG/+S81f+tzSrmkoSlNQvTi7N31v5LyMhfg94P0Hwfo2vfEf4jy+H9S8SWkl9ptjDo8l2EgUkK0zK4K7yMAAHHU9wKnWlzuFJczST3tvska/XqtWrKGHp8yi7N3tr5ehqeBv2ebLx94Fl8Q6RruvxalHp09+BceHZY9NLRbswC837WYheGAxzjGanEYh4dttKyt11+S8vxMsRmksNX9nOKte3xK/rYPEWo23iT9l2x1268PaHa6jp/jGHSI7qx02K3lktk092CyOgBcljkknkgE9Kqa5cVFp/FGTfa/Mh0oOjmLgpNpwvq29eY7XVPgz4J+IHh74b6RY+IotC8T6h4N+1W1pDpAaO8aJZJWknmVlwWwy5wx4yc8A41a06M6s0rqKi3rt6HHDH1sNUrSceaCna99r6aI43w7+znpmsWXh/Rr3x6tl408WaQ2t6PpB09ngaDa7xrLPu+RnWNiPlOMEc8Z0q4hw53GN1Df/Jeav/W511c0lCUpqF6cXZu+t/JeRHb/ALP2j2/wusfiHr/i7VYf7Ss5rtP7P0GS9tLQxkgRXEyPmN2IxkqApzknFFXEOFT2cVfbd2vfsDzOcsS6FOC0dtZWb80ieX4cfBtP2e7Dx3L4l1KHWp9Rlt2uV05333C22/7Fs84IEDf8tsZPpiirUqxrxhFaNN+utr+XawlisW8c6PKuVLa/S++1/keHV1Hsn1PoHhLwXL+y7e33gvwVF40mkNheeIRDqk6ahp94kd8GkMCHCRQgxlCY2WRXkLZ25RY33Yw5dIq9pdm4xvf/ALeuraaJO+t3WG1k76vt3XMrJeq1v30t0PlimSejz/CfRdD8H6Zr/jT4h2Wiarr+nPquk6T9gnuWltsssTzSRgiHzGRggw3GC20HhVf3cnBatJN/NJpX72d7bbahD31zPRXt927t2/4NkegeIvgn4V8U6b4Nt/D3iTTdH8QXXw9i1z+ylsJT9ukhW4lmllmACI7pGQv3iSnO0FSTEfunVqLVQUG12ThC/wA7u9vPe4Uf3nJF7ybXz5pJfLp+hDYfsn295JZ2UnxU06K/urnT7H7N/Zc7bLm+tPtNtHu6HKhtzdFwPvE7RdeLpOcVq4+0Xa7p6y+Vvx0tbUIPnipPRNRfyk7fn+Gvkc9pv7PEt/Yabp0njexh8Y63oj+IdN8Pm0lbz7QRvIqm5HyLK8cbuqYIxtywJqKz9lGbWvs0nLpbRN77tJptadbXsOC5pKL05nZffb7m9EzqfhR8EvDGm6vpz+OvEGnXWr6x4Q1HX7fw7Jp8sgW3axne3kabGxZflWULjgAfNnALxL9nh8So6yhDXpyt8r+9JpPzel7MKK56tK+zkvmr2f32Z87UCPUdN/Zx+KuqfDmfx/a+B/FMhW9toLayj0G5drq1lhkkN2jAcxLsQZClf3g+YcAuuvYJOenxXvpy8tt/W73ts/kU/wB42l5W87u1kR6f8EbjUPAqfE2PxVYjw1Fp8819deWfMtNQjYKunmPPzTSF4yhyAUZm4CGlW/cq76pcv95vdd/ds3LTRJPqgh+80XS9/Jd/nsvPQ8yoA9Hn+E+i6H4P0zX/ABp8Q7LRNV1/Tn1XSdJ+wT3LS22WWJ5pIwRD5jIwQYbjBbaDwqv7uTgtWkm/mk0r97O9tttQh765nor2+7d27f8ABsjY0v8AZ6k1LT9MsH8bWUHjDXNDfxFpvh82cp860EbyqrXA+RJXjjd1TBGMAsCadb90pta+zScvLRN+rSab+dr2Cn+8cU9OZ2X32+5vQ6Kw/ZPt7ySzspPipp0V/dXOn2P2b+y522XN9afabaPd0OVDbm6LgfeJ2iq8XSc4rVx9ou13T1l8rfjpa2oQfPFSeiai/lJ2/P8ADXyCw/ZPt7ySzspPipp0V/dXOn2P2b+y522XN9afabaPd0OVDbm6LgfeJ2grxdJzitXH2i7XdPWXyt+OlrahB88VJ6JqL+Unb8/w18jkvC/wM/4THwRqfiXQvEtw+p6Rp1zqdzZTaLcJaBLfJliW95jMoQFguMHpuzUVWoU/arWOnlu0tO9m9fm1ccYt1PZPe7XzX+Zo6f8As7QX9jpsP/CxNPTXta8LP4q0/SvsMx326RySMkk33EbbDJtxuyRyFyCXX/cxqSWvs0m/RqL+9c2349ApfvHFbczsvW7X3af8A6T4UfBLwxpur6c/jrxBp11q+seENR1+38OyafLIFt2sZ3t5GmxsWX5VlC44AHzZwCYl+zw+JUdZQhr05W+V/ek0n5vS9mFFc9WlfZyXzV7P77M5LxINJ1r9nPRfE58MaLYarbeKpdHN3Y2awST26WUbgSkffbcxJJ6mnidKtKS05ozbXS6lFL8wp/BNPo4/jzf5Ip2fhm0n+AWs+INK1vSLprHV7A6lby6LtvraSUTrGkd4TkxkRszIABnH4ziFyKk+jk1fbXlu790raebuFL3nPva/y5ktOz1+7Q1dP/Z2gv7HTYf+Fiaemva14WfxVp+lfYZjvt0jkkZJJvuI22GTbjdkjkLkEuv+5jUktfZpN+jUX965tvx6BS/eOK25nZet2vu0/wCAM0f9m/V9U0PTpH8RRweIda0aTXtN0j+z53jltVR3VXugPLjldI2ZEOR93cylgKK/7lTe/Iry6W0Tdu7SabXqldoVL940truy++33X0PHaAPQ/iR4S0Dw/wCBPhrrWk2RhvPEOi3N5qMhldvOlS9miVsMSFwiKMKAOM9aK/uYp047ckH85Jtjgr0ed780l8la35h8SPCWgeH/AAJ8Nda0myMN54h0W5vNRkMrt50qXs0SthiQuERRhQBxnrRX9zFOnHbkg/nJNsIK9Hne/NJfJWt+Z9F6B+zT8J73xd4Qe70GV9Gn8LwQ6vB9tnHm65IlmUfcH3LkX8b7FIX92eMZq8XB0pYlQ2SlyeTi6l/X3aTevdE0pJwpSl1fvf4Xa34ux8ZOjRu0bjDKSCPQis001dFSi4txe6PUb/4JW2ifDbSviB4h8YtZnXbB77T4otHuLi0bDsiwSXaDZHOxQ/JtO3K7iM8Ff9zP2e7sn2umr6d7J69L3VxU/fXN0u193c7XxF8E/CvinTfBtv4e8Sabo/iC6+HsWuf2UthKft0kK3Es0sswARHdIyF+8SU52gqSYj906tRaqCg2uycIX+d3e3nvcKP7zki95Nr580kvl0/Q+eKYBQAUAFABQAUAFABQAUAFABQAUAFABQAUAFABQAUAFABQAUAFABQAUAFABQAUAFABQAUAFABQB1ngX4neKPh6bhNDkt5ILohpLe5jLxlhwGGCCDj0PPGc4FdmEx1bB39ns+jOTFYKli7e03XYyPFHijWPGGsTa5rlwJbmUBflXaqKOiqOwH/1zzWNevPEzdSo9TajRhh4KnTWh6h4C+PXhz4c6AYvDfw4mh117CSynuTr1wbC6d0KmeazIKu3+zuA9MVwV6Dr3i5e6/Lb0fQ87EZbUxVS9Sp7t7/CrryTNrw/+1HpOl2OiHVPhxPe6lo+g/8ACNiaLXZILZrXaV3rbiMqspBwWyen0xFbCur7RRdlPfT8vLyMamTynKXLUsnLm+G7v632Oc8F/GH4eeGPh7qXgHUfhJdamuui2OrXK+I3g+0vBIzxMqCFvLwW5AJzWlejOtJOMrct7aXs2rM6K+Br1a6rxq25b2929r/PU9A0D9pT4YXF0b7xP4b8R2t/qMWjS6pc2ksM0Rn0uRHhWKJtpCSbWDEtlcrgHk1FSjU5nKFrXk0vOSs9fLocNTKcSly05Jpc1r32lvf0PPU+Nmg6lonijw34z8BPrVhrviO48T2vk6o1pJa3cqsh3EI3mKFfpxyPfgWHkoQUZWlGPLe19NOnqdzwFSM4VKU7OMVF6XukaOgftHWmj2Og6pd/D6C98ZeFdIbRNH1s6i6RxW+11jMluFIkZFdgPmGdxPHFOrh3U51GVlPf9fRsiplTnKUVUtTk7tW6+vmZafGTwnrXg7SPD/xF+GS+I9S8O2kljpmorrE1piBiSizIi/vNhPBDDI4Pcmp0HzudJ8raSel9trGn1CrTqynQqcqk7tWT18vU6jw/+1HpOl2OiHVPhxPe6lo+g/8ACNiaLXZILZrXaV3rbiMqspBwWyen0xnWwrq+0UXZT30/Ly8jmqZPKcpctSycub4bu/rfY4Xwh8UPD+lfDq/+G3jDwQ+v6dNqg1m0eHU2s5Le68kw5YhG3rtOccc+ueNq1OVSSnB2aTXfR6/mdtfCVJ4hYilPldrPS+l7m7on7Qv9jeI/BHiD/hEPO/4Q3w/JoXk/2ht+1745E83d5Z8vHmZ24bp15qKmH9pGrG/xpL0tb7zCplfPTqQ5/jlzbbeW5Z0D9o600ex0HVLv4fQXvjLwrpDaJo+tnUXSOK32usZktwpEjIrsB8wzuJ44pVcO6nOoysp7/r6NiqZU5ylFVLU5O7Vuvr5kXgT4+eHvh5oTL4e+HU8evy2ElncXTa/cNY3bupUzzWZBV256bgPTFFfDusnC9ovpbb0fQMRltTEzvUqe7e/wq68kzD8JfFXw3p3w8k+HHjbwC3iKwh1N9WsXh1V7J4Z2iEbB9qNvXAyBxzn140r0pVJKcHaSTV99G77epvWwVSVf6xRnytqz0voea1sege+fDL44eAfht8Ob+50PwZLB4zhurIQB9Vke1upRaXsLXjRGMkbROd0XmhWZ0I2hSpMR+8pKnDZqSfkpKKbXrZ2vfleuulnS92fNLpqvO0k0n6fK6VvM8DoEemal8UfB3irwloel+N/AV/f654b0ptF0/UbHWltIZLYF2h8+EwSF2iLnGx03A/N0oq+/JzjpJpJ9VdJJO3eySevQIe6lF6pNvz11av63+8uaf8ePsHiXw14h/wCEV3/8I94Nk8JeT9ux5++C4i+0bvL+XH2jOzB+7jdzkKqvaRrx/wCfkUvS0YRv5/Dfpv5BT9yVN/yu/r7zl+tjctP2nvsuu2mtf8IPu+y6voeq+V/aeN39nWDWnl58rjzN2/dj5cYw3WtKs/aSlLu6z/8ABqS/8lt8/IUfdgodlFf+Ayv+OxU079oXSrFdI8SP4Fmfxt4f0B/Dmm6muqbbNLfypIYpntjEWeaOKQoCJQp4JXjFZVo+1VS+9RWk/kk2uzklZ7rey1Li1GUXbSLul87pPuk/Rk2k/tEeH7N9H1/U/h1c3vijSfC8vhP7cmteTayWxt3gjmMHkM3nKkm0nzNpC/dBIKvEJ1lW5XZ1VaXXWy1W2/Krr7hUn7Nwb15Hdffe34u36niFMR0Nv461y28DXnw/TyTpt9qMGpyOd/nLJFFJGqKd20IVlbI25yByOhc3zqKf2btf9vct/wD0lW+Y4vlcmuqS+53O40n462Ol+EYvhsPA6S+D5tLlt9T0/wC3ATXupOQw1HzvKOyRGSMIuxgqKUydxalX/fprZK3J/da6+fNd82100tLIKb9m0/v8128rdOz1PJqBHpmpfFHwd4q8JaHpfjfwFf3+ueG9KbRdP1Gx1pbSGS2BdofPhMEhdoi5xsdNwPzdKKvvyc46SaSfVXSSTt3sknr0CHupReqTb89dWr+t/vNzS/2g9M0+HRvEU3geabxx4e8Pt4b07VV1MLZrB5Twxzva+UWaZIpCoIlCngleMUq8fbe0ezqK0vuSbXZtKz362Wo6b5HG+vK7r776+SevTsXLT9p77LrtprX/AAg+77Lq+h6r5X9p43f2dYNaeXnyuPM3b92PlxjDda0qz9pKUu7rP/wakv8AyW3z8iY+7BQ7KK/8Blf8dgtP2nvsuu2mtf8ACD7vsur6Hqvlf2njd/Z1g1p5efK48zdv3Y+XGMN1oqz9pKUu7rP/AMGpL/yW3z8gj7sFDsor/wABlf8AHYltf2mNITT7RbzwPq017b+FJfCLpH4i8uwFu0DRG4jtvs52zndliXZSQTtBbK5117VVUtOe3yty2UV0jeK07XV+pdOXJOEt+Vt+t23r3erV/T0Oe0/48fYPEvhrxD/wiu//AIR7wbJ4S8n7djz98FxF9o3eX8uPtGdmD93G7nIKq9pGvH/n5FL0tGEb+fw36b+RNP3JU3/K7+vvOX62NfSf2iPD9m+j6/qfw6ub3xRpPheXwn9uTWvJtZLY27wRzGDyGbzlSTaT5m0hfugkFTEJ1lW5XZ1VaXXWy1W2/Krr7h0n7Nwb15Hdffe34u36nGaL8QvD8fwuu/hn4n8M6hfRrqr61pt3Y6mlq0F00AhKyq8EoljwqthSjZBG7nIdX94oNfFFSS7Wk09tOq79RQ91u+ztf5X6/PsaPhv4lfD3RfhfrHw7vvAXiG7n16a1u7y/i8SQQqJ7bzfKMcRsnKp++O5S7E44ZaMR+9hGEdOVtrrq48rvtp1to/MdN8km3rdWfpdP79P+AW9P+PH2DxL4a8Q/8Irv/wCEe8GyeEvJ+3Y8/fBcRfaN3l/Lj7RnZg/dxu5yFVXtI14/8/Ipelowjfz+G/TfyFT9yVN/yu/r7zl+ti5P+0LJqfgnS/D+rW3i2HVNF0f+xLW40nxXJY2MsKhhDJPaeS290BAO2RQ4A3dOSsvauUusrXvqtEle3mlrq1e76hT9xJdm9tHq7/ntoc9Z/BqS80+DUR8Ufh3CJoVm8mbX1SVMrnay7eGHQj1p1f3V+tu2t/QI+9Y05fir8ONc8D+F/CvjL4Y6zqF74WsJ7C2vrLxMlokiyTyTbmhNpJyDJj7/ADjtRiP3s3VhpJxjHv8ACrJ9PUdN8seR6q7f32/yCX4q/DjXPA/hfwr4y+GOs6he+FrCewtr6y8TJaJIsk8k25oTaScgyY+/zjtRiP3s3VhpJxjHv8Ksn09QpvljyPVXb++3+RrQ/tSeK7Xxra65Z6d5Xh6HV9L1iTQ/tCkyS2VrFbqPtHl7lDLECQFwDjg4ybc+acpTV7uo15e0Uk/Wylb79rmai1DlT6RX/gNn+aucEfFng6TwLq/h+b4fRP4hvtWW/tNe+3uHtLbHNt5IG1wTn5iR97pwKwUZKFOCfw7v+bS3y11/Dvfac1OpObW+3lrf56aHW+CfjV4b8A+FNQ0rQ/CevNqOraRPpN7DceIvM0a4aWMo1y9l5GWkGchTLtBAPtWle9Wm6S0Tt52s07x7O636XZFP3Jqb3X476PuvzI9P+PH2DxL4a8Q/8Irv/wCEe8GyeEvJ+3Y8/fBcRfaN3l/Lj7RnZg/dxu5yFVXtI14/8/Ipelowjfz+G/TfyCn7kqb/AJXf195y/Wx5PTAKACgAoAKACgAoAKACgAoAKACgAoAKACgAoAKACgAoAKACgAoAKACgAoAKACgAoAKACgAoAKAPQPhj8INT+JEF1frqcenWNrJ5JmaIys8mASoXI6AjJJ7jrXpYHLZ41OV7JHn43MI4NqNrtmB478Fal4C8QSaDqUscxCLNDNHkLLG2cNg8jkEEeoPXrXNi8LPCVPZzOjC4mOKp+0idbB8CNTTwVp/jPXfG3hjQ11m0kvdNs9QuZEluYkznDCMxhjj5VLZOQOK8+pXUJuCTbVm7eZyvMous6UISlZ2bS2/G5F4X+CN74y8NTaz4c8ceGrzVILCXUn0NJ5ftiwx53A5j2B8AkLu5GDmitXVHWSdla79f8uo6uYKhUUKkGle1+n57F/TPA0R+AXiDxXbN4R1OS3urGe5mWac6ppgeUxLFt2CPDnJPzdM9TjCrT5atOOurfo/dv+H5kSxD+vRpvmWj7cr637nfeH/gp8PtS0zRIrr4c+NrfSteFrbx+LLrUbeN4bi5ISF/sC5IgaRgoZm5B4J61nUqVOeUIySavZb3sr2b72WxxVMwrxlJqpFuN/dSey397vY5f4heE/Cdl8E5NWtvBVjo/iLQfGh8K3l1bXU8n2pYbSRpHIkYgFpFzwB0GMU41JSqwkn7s4uVu2qt9yOnC1qrxfK5txlDmV7aXfl5GRoP7Ofi3X9B07UIde0G31fW7CTVNJ0Ce5Zb++tUDHei7dg3BSVBYZAPTBq6mJjTb0bUd2ulzWpmlKnUcXF8qdnLomUdL+B2qXXhKw8Wa9418LeG01mKWfSrTV714ZryKP7zjCMEU4wpYjccdMg06ldU5OKTbSu7eexc8xiqrpQhKVt2lsHhf4I3vjLw1NrPhzxx4avNUgsJdSfQ0nl+2LDHncDmPYHwCQu7kYOaK1dUdZJ2Vrv1/wAuoquYKhUUKkGle1+n57Gt4i0zwVq/7Olj430nwRZ6NrVr4oh0Ke5gup5DcxLYtIzssjlQzPgnAHTiiXNHEKN9JRbt295IzpSrU8e6M5uUXHm6aa2Op1r9niw8UeFvAt34I1Xw/putap4WGoS6Zc3cwutSnQPJJIi7WVflGASVBIxwBkZTxDpVKjkm4xSenTT/ADOanmcqNSqqybipWvZWS6HHaD+zn4t1/QdO1CHXtBt9X1uwk1TSdAnuWW/vrVAx3ou3YNwUlQWGQD0wa0qYmNNvRtR3a6XOupmlKnUcXF8qdnLomVoPgRqaeCtP8Z67428MaGus2kl7ptnqFzIktzEmc4YRmMMcfKpbJyBxTqV1Cbgk21Zu3mN5lF1nShCUrOzaW343Nd/gZ4XHwRs/iX/wsnR4tRnunVopZ5PIKrb+Z9lVRCXN1ngjOz0Pepq15QrKmotq1/XW115evUzWY1Prjw/s3Zffva++x41XSesfSMXwp+HWgfszHxpqtjr2sya1LYXTaxpX2Zo9Pudl6v2YqyFwqFYxMC6bjJEVxtAZYv8Ad8kIb62fR3jF29E7xW7TUnbWxVD37yl811Vmvxa17W08z5upkhQB6J8JvDuim08RfEXxfp8d7oXhWxO21lJCXuozho7S3OOSN26Vsfwwt60qvuUW1vL3Y+r3f/bsbv15e44LmqJdFq/RdPm7L5vsVrb4OeIn8IW3jHVNb8OaNDqNvNd6ZZ6pqiW93qEEeQ0kSHjaWVlXeV3EELniiq/ZPle9k7Lez2fz3tvboEFz6ra9r9L9v8+i7l3T/gH441Lw7b63Bc6Kt5e6ZJrVnokl+q6ndWCBi1xHDjldqOwBIZlQkKRTq/uk5PXlSbt9lO1m/k032TV7Cp/vGkursvN/8Pp6m5Z/sqfEe9S22av4Vjmuntokt5NXUTCa5g8+2iK4yHlTJVfYltowS6ydFyT1cefbvD4l8lr26XvoEPfSa2dvulon9+n/AANQs/2VPiPepbbNX8KxzXT20SW8mrqJhNcwefbRFcZDypkqvsS20YJKydFyT1cefbvD4l8lr26XvoEPfSa2dvulon9+n/A1OV0j4Qa74g8L3fiLQ/EHh29ubCxl1K50aK//AOJjFbRE+bIYioX5QCxUNu284pTtCPPutLtdL2S/FpeTeoJNy5Nnrp6GpZ/s8+Ob3SLbVItR8PCe/wBDbxFY6a2pp9turJUZ3dIsZBVUc4bbnadu4g4K37mMpS+yk3bomk7/APkyv18rBT/eNJddF63at+Hp5nR/Cj9n19WubTU/Hd3pEVpqXhzUdbs9JOpiPUZIUtZnguREOdhkjBAzkqCdu3JpV2qWHrSWsowvprZuzV/k/ldXsx0l7SrTj0ckvXWzt/XTQ5/xHoHgu9+BGj+PdF8MHSdXHiKTQ7uRb6WZLlEtI5fMKucIxZzwvFPEe5Vp8uimpu3a0opfmFPWEr7rl/Hm/wAinD4Gx8FNQ8ZQ2Ph6/aLU7RZr6LU5jf6esglVYHt+I8OULbjlht9+FX/d+z821ddfdvZ9ra/N2Cn73P5L7tUr/O6LNn+zz45vdIttUi1Hw8J7/Q28RWOmtqafbbqyVGd3SLGQVVHOG252nbuIOHW/cxlKX2Um7dE0nf8A8mV+vlYVP940l10Xrdq34enmVNN+BfjXU9At9ahuNHjur7TpdXsdHlv1XUbyxjDF54oe64jkIBIZghKhhRV/cpt62Sbt0TtZv5NPyTu7BT/eNJdXZeb/AOH09dDzygDt/HngXS/C3g7wF4isbq6luPFWk3F/dpKylI3ju5YQI8AEDbGCcknJPPair+7xDorZRhL5yTb/AOAOK5qXP15pL7rf5h488C6X4W8HeAvEVjdXUtx4q0m4v7tJWUpG8d3LCBHgAgbYwTkk5J57UVf3eIdFbKMJfOSbf/ACK5qXP15pL7rf5nueifsj+DdS8W+E9Nn8Qa2uk6v4Vj1LUpUeHzYdVZbfECEx4CE3luQCC2Cee9ViouhLERj9hNx82nNWf/gub0tokTTalGnJ/adn5Kyaf4pHyqQVJVgQRwQe1TuU007M7yX4Oa9Z+ErPxZq/iDw3pf8AaVg+qWGnXupLFeXdqrMvmRoRt+YowVWYM2OAcjKqP2T5Xq1ZtLpfVfg09NbCh7+q21XzW52vib9nyS/0Twtqfgi90eO6vvBMPiC60251QfbbyVBM9xJDEckKEQEA7QdrbckGnX/cyqSfwxUX6Jwhdv8A7eb87dLWCl+8UUt22vnzNJfcl5Hh1ABQAUAFABQAUAFABQAUAFABQAUAFABQAUAFABQAUAFABQAUAFABQAUAFABQAUAFABQAUAFABQAUAFABQAUAFABQAUAd/wDDH4v6n8N4bqwTTI9Rsbp/OMLSmJkkwBuDYPUAZBHYdK9LA5lPBJxtdM8/G5fHGNSvZowfHfjXUvHviCTXtSijhJRYYYY8lYo1zhcnk8kkn1J6dK5sXip4up7SZ0YXDRwtP2cT1/4ffG/4eeCPAbaFc3HjXWRNp0ttc+G9QFrPpEty6n50dv3kMe47sKuc+vJPl4mhOs3a3Sz1uv8APy/Q8vE5fXxFfnXLHW/MrqVvybOh8HftL/DjQ/Dmh6Xcp4wsIrHw+2iXej6bBa/2fJOylXvSS6vJI2c4IHOeT/FGJw06vtOWz5tr308l/n2MK+U4ipUlJcrvK6bve3baxw3gPxz8END+FeveBPETeOTeeKfsUmoy2VpaNFC9tKzoIS8oJB3YO4Z9K1xMKtSUXTt7t2r33atqdmIw+MqYmNaHLaN7Xb699D1Hw/8AGf4MatfSanqPjC90e81iLw7PdQXGmSNb2LaTLG7Qq8ZYuZQH2EKAMc8kCs6kKkZuUVdc0peb5o2t8up5tTAYunHljC6XOlrq+Zb/AC6nmVz8Vfhv4q8MeL/CnjSDxHbQ6p4wuvFmnXGlxQSMzyo8YilWRl2gBwcjPfpjkVGrCFNxtzRjy67dH+Z6SweIo1KdWjbSCi736a3VjX8OfHv4d2D+EvHWr6L4gfxr4J0D+wbG3g8n+zroJHIkMkjlvMXCytuAU84xwKqrRqS9pGDVqm9909Ltfd/W5jVy3ES56MWvZzlzPe62uuxg3/xF+E/j7wX4dsviTaeLINe8Lae+mW7aN9m+z3kQJMRcy8xkE4bCnIyR1wHKlOE3OjbVJa9LaG8MLisNWm8O48snfW9132O88HftL/DjQ/Dmh6Xcp4wsIrHw+2iXej6bBa/2fJOylXvSS6vJI2c4IHOeT/FnicNOr7Tls+ba99PJf59jir5TiKlSUlyu8rpu97dtrHl/hDxz8PZPhJf/AAw8exeIINuuDX7G60iKGTfL9mMHlyCVlwvO7IyT7Y53rQnKcalO10mtfN3/ADPRr4eusUsRQt8PK73736HU+Hfj34P0jxZ8OtdudN1lrfwj4Xl0S+VIYi8k7RSoGiBkAKZkHLFT14rOrQlUjWS+2kl8rbnNVy2rOnVgmrzlzLfa/XQs+HPj38O7B/CXjrV9F8QP418E6B/YNjbweT/Z10EjkSGSRy3mLhZW3AKecY4FFWjUl7SMGrVN77p6Xa+7+tyauW4iXPRi17OcuZ73W112E8BfHP4f+DvA8mj3t1411o3OnzQXfhzUFtJ9ImupAcyI7fvIY9x3YVc59eSViMPKreMbdLPW6/z8v0DEZdXr1udKMbPSSupW/Js5Pwr48+G138Jf+FZ/EOHxJB9h1qTWbO50aOCTzS8IjMcglYbcHnIzkfTnWvCcpxq0rXUXHXbe9zqrYbERxX1ihbVWd79/I8prc9M+lPgx8Tvhb8LfhbrmuWWo+I59VnnsoL/w/OLcW+oTNZ38ZXeJAzWhMgZwYiyFIx8xYMpivfoKjHVS5l6XUdX6NXjtd9rauj7tTne6s/W0k7L1Wj30u/I+a6BHUWcvw1/4Vzfw31tr58cHUo2sZomi/s4WW0b1kB+fzN27oMfd56gqbfucnd81+1tLed/wv5WI7vm7aet9b/I2vHfiXQ7XwH4V+G3hO/S7tLWL+29auY1ZRcarcKPkwwBIghCRA9Nxl9aKnvVrr4Yqy872cpfN2Sur2ighpDXdu7+WiX5v/t7yNXxH4z+F/j/wj4ZbxTc+JtL8ReFtBGgpBYafBc2l8kTSNbSGV50aEjeQ42PngjHNOrrOVSnu1HR90lG9+zSWllZhT0ShLZN6+Td7fe2dRo/xx+H1nd+GviNd2+vjxj4W8LHw3b6ZHaxNp9xKlvLbw3LXBlDoojky0YiOWHDYJNTiV7X27jvVVn5XSi2u+iuk9n10Q6T5eRS2i7+urkl5a6N66dDSsf2kvA1t4ksdYk0rXTDba74c1R1EEO4xafprWswA83G4uwKjOCvJKnitq01UlOS6uu//AAako/dbX8Lkx92modowX/gMrv8ADYLH9pLwNbeJLHWJNK10w22u+HNUdRBDuMWn6a1rMAPNxuLsCozgrySp4orTVSU5Lq67/wDBqSj91tfwuEfdpqHaMF/4DK7/AA2HaL+0D8NdJ0CPT7Z/E2nQXHhG48PXmi2Oj2a2r30sDxvqDz+erzF2YMVZARk/NgAHHER9pCpCC0klyp7Rtyu3nqvi3s22mzSnLlqRqS6Nt93dv7tHttoc1pfxv8KWPi7wjr8un6sbfQPAMvhW5VYo973bW11EHQeZgxbp0OSQ2A3y9AXW/eQxEV/y8ikvlGC1+cX36EUvclSb+zK7/wDAm/yZsaT8cPhaNQ0HxxrMXihfEOl+C5fCUun2tlbvaO4s5LaK5EzTBtpV13R+XkHJDHGGMTeqsTyb1lrfo7Rv8rx06q/UdF8jp832Hf1XM39+vz8jgNG8YeC734M3Pw38TXms6ff2euSa9p89lp8V3Fcs9ssPkS754jFyitvG/gn5cgZda9RU5LeCkrdGpOL317Pp2FDRyT2dvwv/AJ9zR8K+KvhPpvwd8ReBdW1/xamr+I7mwvna38P20ttbSWvn7Yw7XqtIr+cMvsUrg/K1GJ/eU4Rp/YblrpduNrdbJPrr6DpPlk3Lqrf+TJ3/AA2/E1tL+N/hSx8XeEdfl0/Vjb6B4Bl8K3KrFHve7a2uog6DzMGLdOhySGwG+XoCq37yGIiv+XkUl8owWvzi+/QVL3JUm/syu/8AwJv8max/aKsLnwZoKW3iXXvD3iHw/wCH10Jbey8O6ddwXRjjeOKUXcrrNCChAdQjd9vU4eI/fSnLfnSutuiT1W6aV9tL2vZIKT5FFdm3ffrdaeT8zz6z/Z8+MOoafBqtn4MlktLiFbiKQXluA0bLuDYMmehoq/ub8+lt/kEXz2t1N/UfF/wY8YfD3wXoHinVfGum6v4U0y4sGGn6NaXNtMz3MsysHe6jYDEgB+TsetGJ9+q61PdxirPvFW89Gx03aHs5bczf32/yDUfF/wAGPGHw98F6B4p1Xxrpur+FNMuLBhp+jWlzbTM9zLMrB3uo2AxIAfk7HrRiffqutT3cYqz7xVvPRsKbtD2ctuZv77f5HXWv7WUWn+NrI2mk3B8JQ6zpGpyF4F/tFYrW0t4JYUAk8va7WyPgnkouSOg0lNVZzlPZuq1/2+pqN/RTfzb3M1GUYKK3tFf+AtPT1a+48fe6+F8/gfWDNaeIR4yl1cSabKrRCwGnkfMsozv8zOenH3eeoPOlKNOnFbr4vu0t8+/S/lbepJTqzn0e339fl+J6F4T+LfgXQvhxP4V8Qa74n8TWsukXFrF4Y1LR7WSytL+RDtuLe9aYywIjneBHErEjnqTWmJvVg0tXZJN7xtb71uknpZ2fnnS9ySb2vquj3+7prv2I9L+N/hSx8XeEdfl0/Vjb6B4Bm8LXKrFHve7a2uog6DzMGLdOhySGwG+XoCqy9pDERX/LyKS9VGC1+cX36BS9yVJv7Mrv/wACb/JniNMAoAKACgAoAKACgAoAKACgAoAKACgAoAKACgAoAKACgAoAKACgAoAKACgAoAKACgAoAKACgAoAKACgAoAKACgAoAKACgAoA7yLwHPB8Kr7xhd+HXlY3ED2+oxanCUghZthR4AxfczdMj34wc+3Vy2VHLFiZ09XJe9zJrla0Vk73vqcX1lPEqkpdHpZ7+ptfC34Hav4quLXVfEtjJbaFd2lxcROt3FHPIFRtrrGSXKb9oztxz6c12ZZw9UrU5V8VG0ORyjqr+TtvZmOLzCNL3KbvJNLbQ8pr5g9MKACgAoAKACgAoA9Gk+CPiJfh3b+Pkv7EiZmka1a6gXZbiPeJN5k5Y9PLxuFfQYjh7EYfBRxbkndNtXWiXZ395vslpscCzCm67o2frrv934lWLwHPB8Kr7xhd+HXlY3ED2+oxanCUghZthR4AxfczdMj34wc5VctlRyxYmdPVyXvcya5WtFZO976lfWU8SqSl0elnv6lqT4I+Il+Hdv4+S/sSJmaRrVrqBdluI94k3mTlj08vG4VriOHsRh8FHFuSd021daJdnf3m+yWmxKzCm67o2frrv8Ad+JFrvhbwU/wnsvHXh2DVoL7+2E0m6S7uI5I2P2cyM6BUBALAYyTxmpx+DwccBSxmFUlzSafM09l5JBSrVvrLo1LWtfT1MzTvhN491bw8PE9jofmWbxSTxKZ41nmiT77xxFt7qPUA57ZrmWS414f61ye7bm3V+X+a29vP57GssbRhU9m3r+F/U5GvKOoKACgAoAKACgAoAKACgAoAKACgAoAKACgAoAKACgAoAKACgAoAKACgAoAKACgAoAKACgAoAKACgAoAKACgAoA9Gk+CPiJfh3b+Pkv7EiZmka1a6gXZbiPeJN5k5Y9PLxuFfQYjh7EYfBRxbkndNtXWiXZ395vslpscCzCm67o2frrv934mVp/wi+IGq+HB4osdC8yyeF7mJTPGJ5oU+9IkRbeyj1A57Zrl/sTHfV/rXJ7tubdX5f5rb2/4fY0ljaEans29dvK/qasnwR8RL8O7fx8l/YkTM0jWrXUC7LcR7xJvMnLHp5eNwrqxHD2Iw+Cji3JO6bautEuzv7zfZLTYzWYU3XdGz9dd/u/EyLP4UeN9Q8Ot4osdOtrizW2a8KRX0DT+Qud0nlB9+Bg54z7VyPJcYsN9a5U4pczs02k+rSd7fl1NXjKKqeyb1vbZ2v6mlrvhbwU/wAJ7Lx14dg1aC+/thNJuku7iOSNj9nMjOgVAQCwGMk8Zrpx+DwccBSxmFUlzSafM09l5JGVKtW+sujUta19PU8+rwTvPWNc+BOtXHhrw74i8GWEl4l/oceoXkcl3F5jTclxFGSGYBdpwAfxNfTY/h6rClTr4WN4ulCb1V7tXlZb2WnT7zzKWYQU5Qqu1pNLTp0uzmNP+EXxA1Xw4PFFjoXmWTwvcxKZ4xPNCn3pEiLb2UeoHPbNef8A2Jjvq/1rk923Nur8v81t7f8AD7HRLG0I1PZt67eV/UNP+EXxA1Xw4PFFjoXmWTwvcxKZ4xPNCn3pEiLb2UeoHPbNH9iY76v9a5Pdtzbq/L/Nbe3/AA+wSxtCNT2beu3lf1NnWfhFd3Nr4XPg60nuZtT8PDWNRe4njSGDDNuYu21UXAH3jXXjMllzU1hVp7KFSTbSScr31dkttFuZU8alz+1e0rI82ZSjFTjIODggj8x1r549A67RPhL498QaGviPTdGQ2ModoGmuoYWnCZ3mNXYM4XByQO3Ga9WGS42ph/rKh7tm9Wk2lu0r3sv+GOWeNo05+zk9fRjtP+EXxA1Xw4PFFjoXmWTwvcxKZ4xPNCn3pEiLb2UeoHPbNP8AsTHfV/rXJ7tubdX5f5rb2/4fYUsbQjU9m3rt5X9StbfDPxpeXul6dbaQr3Gs6edUsk+0RDzbYKzFslsLwp4OD7Vmspxbmqajq4Kpuvgez3/Dcp4ulGLk3onZ+po2vwT+JF7osOv2uhRyWlzZ/brfF7B5k0ONxKR795IHJGM/jxW7yDHxofWHD3eVT3V+Vq97Xvs/6ZDx+HU+Ry1vbZ7l2T4I+Il+Hdv4+S/sSJmaRrVrqBdluI94k3mTlj08vG4VviOHsRh8FHFuSd021daJdnf3m+yWmxCzCm67o2frrv8Ad+J5zXz53hQAUAFABQAUAFABQAUAFAHrng2b4c23ws17wzq3xJt7LUPEbWczRHSrqT7K0EjMUZlQhsgjkHAr6mlPARymWEeIXPJqXwy0dvh2tvpfY8ussQ8TGpGndRv1WtzqvDnj/wCGc2peGPG2q+Mjpt3o3hr+w5tKbT55CZVjdA6uilQp35/LOOcemszy+dSWNdW0pUuTk5XpK3e1rdjmqYbEKMqMYXTlzXuj55r4M90KACgAoAKACgAoA9O0TVfBWv8Awmi8Fa94tGg32m6vLqKGSxluFuEeLaFXywcHPrivo/bYPGZZSoVKvJOlz6NN813dWa+7X1POnCtSxLqwjzJpLdK33l7wbN8Obb4Wa94Z1b4k29lqHiNrOZojpV1J9laCRmKMyoQ2QRyDgVtSngI5TLCPELnk1L4ZaO3w7W30vsRWWIeJjUjTuo36rW5R0TVfBWv/AAmi8Fa94tGg32m6vLqKGSxluFuEeLaFXywcHPrisfbYPGZZSoVKvJOlz6NN813dWa+7X1LnCtSxLqwjzJpLdK33kXh3VfB+r/CS58D674pXRL621v8AteFpbOWdLhPs5j2Dywdrbj34x+OJhXwmJymOGqVOScJSkk03zXWlmttdNfUdSFWGK9tCPMmrbpW1v1O80j4veFF8M+HtStdZ0LSda0DSRpzRXvh6W8umdEZV8mZGCqjgnIJGMnOc17M87w0qEa9KUIzVNRs6bcrpWspJ2UX03st+xxywVT2kotNxk76Ssvmu6PnqvhT3AoAKACgAoAKACgAoAKACgAoAKACgAoAKACgAoAKACgAoAKACgAoAKACgAoAKACgAoAKACgAoAKACgAoAKACgD07RNV8Fa/8ACaLwVr3i0aDfabq8uooZLGW4W4R4toVfLBwc+uK+j9tg8ZllKhUq8k6XPo03zXd1Zr7tfU86cK1LEurCPMmkt0rfedboPxG+H0V74V+IV94kmttR8L+H/wCyX0IWcjNcypHIiskgHlhW35OTxgZr1Fm2B9p/aPP7/suT2dn8Vrb7cvX/AIOhyzwtdxnQUdJSvzX9Om5yej6v4L8RfCiPwZr3itNAvtP1iXUk32Es6To8W0Knlg7SD644rylVweLyulh6lXknS5tGm+a7urNfdr62OqcK1LEurCPMmkt0rfed34K8efCPQdIsFs9b0vSVm0F7C+gOhySXz3zoQ8j3QU5jyRgA9+np7UMwyqnQnCjOMVOk425HzczWrlK2v32b9DirYfFVJtyTdpXWulvJdzz7w7qvg/V/hJc+B9d8Urol9ba3/a8LS2cs6XCfZzHsHlg7W3Hvxj8ceJCvhMTlMcNUqck4SlJJpvmutLNba6a+p3VIVYYr20I8yatulbW/U52D4X/Em5gjubfwD4hlilUOjppsxVlIyCDt5BFcH9jZj/z4n/4C/wDI6HjMOnZzX3o9e0fxx8OdJufBvi6+8YSJqPg/w+dPn0VdPnEs1z5brsEhUIOXIOTjjrzx9RDM8vpTp45VbyhQjT5OV6yUbb2ta7/C55c8PiJqpRUNJSve62uVdB+I3w+ivfCvxCvvEk1tqPhfw/8A2S+hCzkZrmVI5EVkkA8sK2/JyeMDNQs2wPtP7R5/f9lyezs/itbfbl6/8HQc8LXcZ0FHSUr81/TpuGg/Eb4fRXvhX4hX3iSa21Hwv4f/ALJfQhZyM1zKkciKySAeWFbfk5PGBmhZtgfaf2jz+/7Lk9nZ/Fa2+3L1/wCDoE8LXcZ0FHSUr81/TpuSS/FbwJrngTSvhnq2rvZWVxoMMVzqNtbzBrK+iZmWORQuZYjxkLkDPHqFiM2wONwkMuqT5YqnT96z0nFNOMla7W2qTSevmmsHWpVpYiKu+Z6aap9uzPKh8K/iNKPMs/A+vXUD/NFPDps5jlQ9HXKA4IwRkA4PSvm/7GzD/nxP/wABf+R6P1zDrea+9HYa7f8AgHxx4S8Nw634zm8O6p4Y01tLn0+TTJrgzMhJVkK4UFsYO4jB69OfTx1TA5lQpV3W5Zwpxhy8rd3FO1ntaX4HLSjXw9SajDmUne90tzodB+I3w+ivfCvxCvvEk1tqPhfw/wD2S+hCzkZrmVI5EVkkA8sK2/JyeMDNeks2wPtP7R5/f9lyezs/itbfbl6/8HQ554Wu4zoKOkpX5r+nTcteFvH/AMNBN4S8U6t4xGn3eheHpdGm03+zp3YylXUMHRSoX5+Op6dOcVSzHL0o4mVb3lQVLl5ZX5kt72tYVXD4hqdKMLpy5r3WxnaD8S/BVl4o8Cajc63sttG8KPpt8/2eY+VcmORQmAuW5ZeVyPesIZthFiFNz0+rRp7P40tVt+O3maVMJVlSqRS1c7rbbQ5nRNV8Fa/8JovBWveLRoN9pury6ihksZbhbhHi2hV8sHBz64rg9tg8ZllKhUq8k6XPo03zXd1Zr7tfU3nCtSxLqwjzJpLdK33nmNfOHohQAUAFABQAUAFABQAUAFAHf6T8HtQ17w3da3ofjPwtf39jpT61caJBdTNfR2iDdIx/deQWVfmaMSlwAflyMUVH7OLlula9ul2kt7dWk7Xswh77Uervbztf/LS+5oaT+zz421nwwmv2eo6Mb+bRZvEcGhGaU6jLpkbbWuQqxmJVOCVVpFdgPlU8ZVZqim5fZSb8k7Wv8mm7Xsmm7BTXtGkuraXm1/VtdLlPT/gvqeseG7rXNE8aeE9Sv7HSW1u50S1vZZL6GzUAuxxF5G5VO5oxKZFGcrninV/dJy3StdrpeyXqrtJtXSfUIe+0urvbzt/w2l9yPSfg9qGveG7rW9D8Z+Fr+/sdKfWrjRILqZr6O0QbpGP7ryCyr8zRiUuAD8uRiio/Zxct0rXt0u0lvbq0na9mEPfaj1d7edr/AOWl9y3p3wF8Uajo9nepr+gRatqWjy6/Y6DLPN9vubCMOxmXERgGVjdgjSq5CnC0qr9kpN/ZScvJOzTfyael2kx017RpLq7Lze356a2VyXSf2efG2s+GE1+z1HRjfzaLN4jg0IzSnUZdMjba1yFWMxKpwSqtIrsB8qnjJWaopuX2Um/JO1r/ACabteyabsKmvaNJdW0vNr+ra6XPMKYBQAUAeiy/BiWw8JaR4u174i+EdHTXdPk1KxsbuS9a6lhWR4/uxWzoGLRsAN/p0orfupOG7STsv7yut7BD31zbK7V/Tc4dND1uSaG3j0e+aW4gN1DGLdy0kOCfMUYyUwrHcOMA+lD0Tb6b+XqC126m/P8ACn4g23gm1+IUvha/Gh3ksscVwIGPyxojtKwA+WMiQYc8HBweKU37NpS6q/42/PZBH303Hp/X6amVaeDvF2oGAWHhbV7k3UD3UHk2Mr+bCmN0i4X5kGRlhwMinJ8t+bSyu/Tv6AtbW66fPsMbwp4oTQx4mfw3qq6OSFGoGzkFtknAHm425zx160S92ylpcFrsMi8NeI59Gk8Rw6BqUmkwv5cl+trIbdG6bTIBtB5HBPeiXu25tL7AtdETWng7xdqBgFh4W1e5N1A91B5NjK/mwpjdIuF+ZBkZYcDIok+W/NpZXfp39AWtrddPn2Og+G/wm8R/EW9ZILe7sdOFnfXI1N7KR7YvbW0kxi3jC7mEZHXjOcUVP3dGpWf2Y83rZpafeOC56kYLq0vS5nDwesXgKXxfff2xb3DXsUFnE2kSfY7iBlbfL9rJCBgyhQmCTzzwcKpeDiurvfppZNNd76/JXFH3r+X+f4f0jNj8K+KJtPm1aLw3qj2NvEs81ytnIYo42+67PjAU9iTg05e6ry0/4O35r7wWuwN4U8UJoY8TP4b1VdHJCjUDZyC2yTgDzcbc5469aJe7ZS0uC12H2ng7xdqBgFh4W1e5N1A91B5NjK/mwpjdIuF+ZBkZYcDIok+W/NpZXfp39AWtrddPn2Ko0TWWvIdOXSL03VzGssMAt38yRGXcrKuMkFeQRxjmh6Np9N/Lrr8tQ7eZSoA9A/4Uj4vb4h6L8N4brS5b7xBZ22oWV4kz/ZGtZoPOExcpuCqgbd8vBRuuKJWhOrCTt7Pmv/26ubT1Wq73QfZhJfatb5u1vvOSHhjxC+lT+ILbRNQuNIt5DE+pRWkptQ2cYMhXAzkcHB5HFK9knLS/f+vyHbVpa2IRomsteQ6cukXpurmNZYYBbv5kiMu5WVcZIK8gjjHNN6Np9N/Lrr8tRdvMnbwp4oTQx4mfw3qq6OSFGoGzkFtknAHm425zx160S92ylpcFrsXvDvw3+IXi63F34V8C+INXtyxXz7HTZpogR1y6qVGO+Tx3ol7keeWiBauyM2Hw74guNIm8QW+h6hLpdu4jlvUtXa3jY/wtIBtB56E0S91Jy0vsC10RJb+FfE91o0viK18N6pNpMBIlv47ORrdCOoaQDaPxNEvdSctLgtdEZdABQAUAFABQAUAFABQAUAFABQAUAFABQAUAFABQAUAFABQAUAeh6f8ABfU9Y8N3WuaJ408J6lf2OktrdzolreyyX0NmoBdjiLyNyqdzRiUyKM5XPFFX90nLdK12ul7Jequ0m1dJ9Qh77S6u9vO3/DaX3Lmk/s8+NtZ8MJr9nqOjG/m0WbxHBoRmlOoy6ZG21rkKsZiVTglVaRXYD5VPGVWaopuX2Um/JO1r/Jpu17JpuwU17RpLq2l5tf1bXS5lN8GvF8PwzuPirdTaVBpUD2wFs16rXskc7skcohXJRCyOAXKk7TtBAp1f3Lipfadv/JeZX9V8/LUIe/drp/mk7fNkuk/B7UNe8N3Wt6H4z8LX9/Y6U+tXGiQXUzX0dog3SMf3XkFlX5mjEpcAH5cjFFR+zi5bpWvbpdpLe3VpO17MIe+1Hq7287X/AMtL7lvTvgL4o1HR7O9TX9Ai1bUtHl1+x0GWeb7fc2EYdjMuIjAMrG7BGlVyFOFpVX7JSb+yk5eSdmm/k09LtJjpr2jSXV2Xm9vz01srnGR+MfF0MaxReKdXREAVVW+lAUDoAN3Ars/tDF/8/Zf+BP8AzMfYUn9lfcjJZmdi7sWZjkknJJ9a5DUSgAoAKANePxj4uhjWKLxTq6IgCqq30oCgdABu4Fdf9oYv/n7L/wACf+Zl7Ck/sr7kZLMzsXdizMckk5JPrXIaiUAFABQAUAFABQAUAFABQAUAFABQAUAFAHv3wtsLHwj4J8SjxZ4i8Djw3r/hy6cXtjq1sdcF08KmKzjjRxdKPNWMSRPH5RG4kkYNLEq1Gcftacttm7p6/wB22rvZppNa2CjrVjJ7dfJap28+1tz0zw18RPBljovhH4i2PijSLe303wkLDxDby6jAl609nYy21rYRWpfznEs0rTFwmwgISfkNTjvfeIcdqkbq3WUoqFn2UEpa6Xu+lisP9hPRxevlFSc7+fNotNU15s8v0TwkngT4QX+r+GPF3gy/8SeL9IdNRc+KdOjk0rTGAeS0jt3mEsl1KFCuNnyr8i5ZiRWIbgvZfZ0ba1u07pK3ROzb6tLoruaS5nzPfVJfg27+Wi8nfsSfC2wsfCPgnxKPFniLwOPDev8Ahy6cXtjq1sdcF08KmKzjjRxdKPNWMSRPH5RG4kkYNGJVqM4/a05bbN3T1/u21d7NNJrWwUdasZPbr5LVO3n2tud94a8SeHF8J+HtNude8JP4Ej8EzWGp6vc6tAniSwu5IpHmtbdfMF0B52ESFUaJoyeoZjSxnve2t1S5LbyslyqVr3974lKyikrNWV3QfK4ervfpd6tf9u6q2rZe8NfETwZY6L4R+Itj4o0i3t9N8JCw8Q28uowJetPZ2Mtta2EVqX85xLNK0xcJsICEn5DSx3vvEOO1SN1brKUVCz7KCUtdL3fSw8P9hPRxevlFSc7+fNotNU15s+NaskKACgD6V8RXL+JPgp4E0jw43wuv2tPDM9pfyavrWmwapYzG6nbZEJ7hJEO1lYfKeWoxmteU/s8tPVat2irrTXTa3qh0P4aj15paPbW1mSeHPEegx/BFfhbd+PNGTxnqOhXlzp2pvdweTp+nSSJI+iyXJbakk4jkfBI2FhGceYwoxnvL3dXBR5v76TbUU93yXT0upW5fsoKGj97aTdv7ratzPtzbeXxdTl7TVNY8Yfs36b4Z0bxxYw3ug63qM2o6ff8AiGCxdrB7eARBEnlTzk3RuoRNxDEDHNGKtJ0qm6UGn3vzXWm702dulugUXZTh1bjb0s09dvU2ZPiF438Efs5eBz4O+IGk2t9aapqNxf2tvrllNepbSrElsklt5jSGPmYmMoQpAZgpCmjF+/OEHrF03F9dW5b27Qdk/s3aTT0ChZRlLqpJr5W/VLTra+x1ngSXwX4a8GyWFj4y0i703W/h/e2813qnjGNXXVJrZybBNOMgESpJgBpEIzgh8sAVjPgrQWtuXl6uVnGV/K1mkviVra3DD/xKcn3d+iSd1876NvbW/QTw34u0iJ/B3jBfHmkQfD/SPAEuj6zoT6vEk0l99mnjlt/sBcSSPLO6yCQRlSPmLfLSxjclibaqaSh1t7sVFf3eWSbbenVbhQ0dO2jjK7/8Cbb87x0svQ5ST4heN/BH7OXgc+DviBpNrfWmqajcX9rb65ZTXqW0qxJbJJbeY0hj5mJjKEKQGYKQpqsX784QesXTcX11blvbtB2T+zdpNPQKFlGUuqkmvlb9UtOtr7HbeGvFVl9s8KeItO+Jmh6d4NtvhpcaLPpcviGGB01IWMySwPZmQOXedhIHKbWyvzbioKxuscWrXU4rk66JQsvJqzX5XuPD2UqPTllr0+09fRpr9dEebeENN1a+/Zw8WaFe+MfDYl1HUNKvdJ0288XadHMIIPtJnKwSXAaI5dPkZVZsjANPGfw6XVxk5O2vuuFltv2stV2FQ+KS2vG3bXmi/wBHrsdjofxM0+LxN4C0ibx9apoNv8KrmwvLZtUUWkd69peDyZE3bBMW8kbWG4nYPSliv3lPFrduEVH5Rp7ejT263Ch7k6L2967/APA5b/L8C94El8F+GvBslhY+MtIu9N1v4f3tvNd6p4xjV11Sa2cmwTTjIBEqSYAaRCM4IfLAExnwVoLW3Ly9XKzjK/lazSXxK1tbhh/4lOT7u/RJO6+d9G3trfocnJ8QvG/gj9nLwOfB3xA0m1vrTVNRuL+1t9cspr1LaVYktkktvMaQx8zExlCFIDMFIU08X784QesXTcX11blvbtB2T+zdpNPQKFlGUuqkmvlb9UtOtr7F/wAPeJNNPwQt/jNJfQr4j8IaHd+AYE3YmM1wwFpOo/2LSa7XP/TEUsVpF8v/AC+UYvt7nx/fCMF6yY6G9v8An23L7/h+6d2fM1Mk+jPD/j3wtH8DU8bXWv2KeNvDmiX3gexsWmUXc1vdSo0Vyi53FIoJryPd0B2jvSxfvR93/l6oRkui5G22/wDFGMI366joe7LX7Dcl53VkvlK8jqfDfi7SIn8HeMF8eaRB8P8ASPAEuj6zoT6vEk0l99mnjlt/sBcSSPLO6yCQRlSPmLfLSxjclibaqaSh1t7sVFf3eWSbbenVbhQ0dO2jjK7/APAm2/O8dLL0MPw94k00/BC3+M0l9CviPwhod34BgTdiYzXDAWk6j/YtJrtc/wDTEU8VpF8v/L5Ri+3ufH98IwXrJjob2/59ty+/4fundm74El8F+GvBslhY+MtIu9N1v4f3tvNd6p4xjV11Sa2cmwTTjIBEqSYAaRCM4IfLAExnwVoLW3Ly9XKzjK/lazSXxK1tbiw/8SnJ93fokndfO+jb21v0H6JqK+JPAGg3HhCa01/xM/gObwy/hf8A4SC2toV4lBl+wzYlmlEWJ8Jw74ZTxy8Za1VrVSUW3vy8qi3ZLa3K15avVBQduTum9Nr3btf1v81ZaDbT4h+H7LwJ4U1/wrb6TqFlpXguTR9T0678cQaciXBilS5ifTJBvnaVmMiugbeSvI28LF++6q+zNJLrbRLRbpxav/5MnqFD3eR9VJvt1b321Wn4GH4f1SPxD8JLbT/HfiXSNDstF8MXUGk6zofjKKK5JId0sLrShIXmZ2cq22NCVbljijF+8pVPtWjpupW5Ul/dst3smr2FQ0cY9Lt32cd7vz8l22PmSmAUAFABQAUAFABQAUAFABQAUAFABQAUAFABQAUAFABQAUAFAHvWieEk8CfCC/1fwx4u8GX/AIk8X6Q6ai58U6dHJpWmMA8lpHbvMJZLqUKFcbPlX5FyzEhYhuC9l9nRtrW7TukrdE7Nvq0uiuykuZ8z31SX4Nu/lovJ37HqHhr4ieDLHRfCPxFsfFGkW9vpvhIWHiG3l1GBL1p7OxltrWwitS/nOJZpWmLhNhAQk/IanHe+8Q47VI3VuspRULPsoJS10vd9LFYf7Ceji9fKKk538+bRaaprzZ5L8P8AwvI/wC8d2cnibwhb3niGbSbrT7O58U6dBcyJbSzmXdFJOHRgGXCuAWyMA1eK0pU1vyycnbXRwa6bu7SstfIVLWb81b580f8AJ67F74W2Fj4R8E+JR4s8ReBx4b1/w5dOL2x1a2OuC6eFTFZxxo4ulHmrGJInj8ojcSSMGliVajOP2tOW2zd09f7ttXezTSa1sKjrVjJ7dfJap28+1tzvvDXiTw4vhPw9ptzr3hJ/Akfgmaw1PV7nVoE8SWF3JFI81rbr5gugPOwiQqjRNGT1DMaWM9721uqXJbeVkuVSte/vfEpWUUlZqyu6D5XD1d79LvVr/t3VW1bPkOqEFABQAUAFABQAUAFABQAUAFABQAUAFABQAUAFABQAUAFABQB20HwW+Jlx4XHi+Hw2Dp5sW1NUN7bi7eyU4a5W1MnntCME+YIyuATnHNFR+y1l5fK+17bX6XsEP3jtHz+dt7d/kc4PDOuHwyfGP2Bho4vxpn2ouoBufLMnlhc7iQgySBgZGSMjI3y2T63t8rX/ADX9XBa3t0t+N7fkzpH+C3xKTwu/i8+Hozp8diuqSIuoWzXcdmxGLhrUSeesRyDvMYXBznHNFT918fRpPyb2T7N+YR9/bz/De3cZZ/Br4k3/AIS/4Te18Ob9KNrLfITeQLcSWsTbZLhLYuJ3iU5BkVCowcng0VP3SvPy+V9Fftfpe1wh77tH+mt0u79B0HwW+Jlx4XHi+Hw2Dp5sW1NUN7bi7eyU4a5W1MnntCME+YIyuATnHNFR+y1l5fK+17bX6XsEP3jtHz+dt7d/kcTQAUAFABQB0Vr8PPGd54GvPiTbaFK/huwvFsLi/wDMQKk7BcLtLbz99OQCAWAJyaJ/u1Fy+1ovPd/o/uYR95tLpq/yL2v/AAx1bQfBGm/EEa1ouo6VqV39gBsbppJILgRLKYpVKjawVhnBPNFT91UVN9U2n0aTSf5hH3ouS6W/G/8AkzEh0KCbwxc+I28Q6XHNb3kdoumPI/2yZXVmMyLt2mNduCSwOSOKUvd5et7/ACtbf1voC1v5fj6GVTAKAN638Fazc+B734gxtbf2XYalBpUoMmJfPljeRMLjldsbZOaJ+4oN/abS/wC3bN/mhxXO5JfZSf3uxg0CCgDorX4eeM7zwNefEm20KV/DdheLYXF/5iBUnYLhdpbefvpyAQCwBOTRP92ouX2tF57v9H9zCPvNpdNX+RH4K8F6z491ttA0I24uks7q+PnuUXy7eF5pOQDztRsDucdKJe7SnVe0Fd+l0v1HFc04wW7dvvMGgQUAbeqeNPEus+H9M8KX2oj+yNHLtaWcMEcMau33pHEar5khHBkfc+OM4ol78lN7pW9F5dr9e71d2C91cq9f6/Tt0KUuhazBolv4km024TS7q4ktILtkIjkmjVWdFPcgOhP1FD91pPqrrzV7X+/QFqm10KNABQBt6p408S6z4f0zwpfaiP7I0cu1pZwwRwxq7fekcRqvmSEcGR9z44ziiXvyU3ulb0Xl2v17vV3YL3Vyr1/r9O3QxKAO/s/jv8T7CytrO01uxSWzsRptvqH9jWJ1GG1CFBEl6YftKgISoxJwOBxRU/fc3P8Aa36X6a23v1vv1CPuWt028uunzOVh0KCbwxc+I28Q6XHNb3kdoumPI/2yZXVmMyLt2mNduCSwOSOKUvd5et7/ACtbf1voC1v5fj6GVTAKAOrvPhV8Q7DxE3hW68KXq6imoW+lMqhXiW7nCmGIzKTEGYMpHzdDmnBOo+WO92vnHRr5dfv2E2ox5ntZP5PVM5u/sbrTL65029jEdxaSvBMgYNtdSQwyCQeQeQcVnTnGrBTjs9UXKLhJxluiCrJN7wV4L1nx7rbaBoRtxdJZ3V8fPcovl28LzScgHnajYHc46US92lOq9oK79LpfqOK5pxgt27feYNAgoA7DX/hjq2g+CNN+II1rRdR0rUrv7ADY3TSSQXAiWUxSqVG1grDOCeaKn7qoqb6ptPo0mk/zCPvRcl0t+N/8mcfQAUAb3grwXrPj3W20DQjbi6Szur4+e5RfLt4Xmk5APO1GwO5x0ol7tKdV7QV36XS/UcVzTjBbt2+8waBBQAUAFABQAUAFABQAUAFAHTj4Y+Pv+EGl+JT+F72LwzFNHbnUZQI43dyQvlhiGkGQQWQEA8Eiip+65efTm2+6/wCSeuwR9+/L03/L9TLHhnXD4ZPjH7Aw0cX40z7UXUA3PlmTywudxIQZJAwMjJGRkb5bJ9b2+Vr/AJr+rgtb26W/G9vyZ0j/AAW+JSeF38Xnw9GdPjsV1SRF1C2a7js2IxcNaiTz1iOQd5jC4Oc45oqfuvj6NJ+TeyfZvzCPv7ef4b27jbL4M/EjUPDieKbTw/G1nLZy6jFE1/bJeTWkZIe4jtGkFxJENrZdYyuATnApTfs03LpZvyT2b7J3Wrtuggud2j6er7Lu/JCWfwa+JN/4S/4Te18Ob9KNrLfITeQLcSWsTbZLhLYuJ3iU5BkVCowcng06n7pXn5fK+iv2v0va4Q992j/TW6Xd+hxdABQAUAFABQAUAFABQAUAFABQAUAFABQAUAFABQAUAFABQAUAfV3gLxfon9jWfxs8deD9T0aTQvB8/huyv59SSKx1l0tJLWFLa2aPzJpCGCvtcxpsZiQeKMbrTrtaSrK1ut3yq67Rsua79FdtNOg/fp32g738ruVvXW1uvpcz/D+jfB/x78L08OweNoxD4N8E3eqz2kmnXayQazNcQme7Z1wsgUeXCq8/KM9OixvuxnXg7qPJGPo5K++zk3LyV12Chq1Tl1cm/lF2+5JP7+5j+EvhX8Rvhl8I9W+Ilv4H13UtT8Z6BPa2bWthLLa6Zo8ygz3lxKo2h3jUiNM/KpLtj5QTEP2cXQlpezk30Saajr1bSv2Stu3ZUlzyVSPS6Xdva/yu7d35LX17whcWun6b4N+J2mQtN4fk8A/2brupeUTa6da2dlLHJYtIRtE095Ih8vO4iNCBhjUZhp9ZX2ZxuvNyhGEIr/C03JbaLrErDaunbeMrelpuTk+3u2s+za6nE+AvF+if2NZ/Gzx14P1PRpNC8Hz+G7K/n1JIrHWXS0ktYUtrZo/MmkIYK+1zGmxmJB4rTG6067Wkqytbrd8quu0bLmu/RXbTSoP36d9oO9/K7lb11tbr6XPlGgQUAFABQB9l+GdD8HWumaF+zzqPjhbbWNW8Hz2NzojafIQdY1DZfQu0+diuhS0QAjPy4708ZCVR1qdPVwSsv71K8pWfW7dRfPyChNU1CctFJtv/AAyXKvws/wATx+z8M+I9f/Zhl0/QtA1HUrrQfG91dapDZ2zzPZQfYIx5syoCUTKON5wuVPNRiJxkqFZfCozV+msoNa+a1KhFxlUpP4rx066c6N3wt4U+Knij9lnxRDN4L17ULG01HSp9CdNGdgbYG6NzJC6x5dAdu9gSBxkiqx3uwozno1J38o+z0b8uzDD6ynGPWOnrzR/Hcta1Z/Em0+Evg9Pgp4fN34QvPDEs3iW5stKhukbUt0ovBeyOjbGVPLCByMKAU55pYpe/L2mkOWNu3wq7T/m5r36qy2JoXaXL8V3676L0tby3udnp8eg6R8L/AAzd6P4P8UeIPBdz4NkfW4NJ0O0uNPa/McouJbq6ZvMiuIpdrLnBUIgTgnJjfe9pHZWXI3olorNNaX5r83W909LDw+jjLrd3XV6vRrs42t06rU+RU1fVI9Kl0OPUbldOnnS6ltBKfKeZFZVkKdCwV2APXDGm9bX6Xt87X++y+4S0vbqfUXhjTfFPif4HxaLHoOveBrHTvC93dvqr6Xb3Hh3W4wHk3zzOgaK6fIRWDOwITCrSxtuV1H0UfdfXZe411fxWtq7pseH1korq3r9/xeStb06HylTEfZfhnQ/B1rpmhfs86j44W21jVvB89jc6I2nyEHWNQ2X0LtPnYroUtEAIz8uO9PGQlUdanT1cErL+9SvKVn1u3UXz8goTVNQnLRSbb/wyXKvws/xNHwdp3jLRp/DNh4X0Xyfh6fhteyXlzHYxeS2rmwuBciScrkXQnypTdvCKQBt3VnjZxlSxd37vIvZ+cbQaa9feb899kaYeLjVpJb8/veqk1r8rW/DU888Ptok/wu0/9oKS1svtnhLw5d+E5YSikSavlYbGZkP3j9muS5PrbZqsUuSM2v8Al8oxXk9qmvR8kL+syKGrUX9htv03j/5O7eiOs0+PQdI+F/hm70fwf4o8QeC7nwbI+twaTodpcae1+Y5RcS3V0zeZFcRS7WXOCoRAnBOTG+97SOysuRvRLRWaa0vzX5ut7p6WDD6OMut3ddXq9Guzja3TqtSv4f1af+1vBHw++yaf/YOs/CWe81C0+wQ/6VcLaXjrLI+zezK0UZUlvlK5GMnJi3zUsXf7MINeT5KTv667hh9J0fOVn6Oclb08jkINb+K3i79lXSNK8Hx6prMOmaxqVjrENhYi4a108WtuYvN2ITGmFkw5xnB5p4xK9Kb+Hkd30up3V30drOwUNFOK+K6sutmnf8TrPCngW91LXPAXjG08L+f4cj+FN5Fc6iLYG0N6lreqyNJjaZwxX5c7+M4wCQsW/Z0sXzaXhHl/8Ap3t9zv8wwy550bdJ6/+Bvf5NGPb+LfiP8ADP8AZz8AeONM8DxSyPe6pZ3GqahohkQaayxCCEy7RtikZ2ZWDAsYgASAQTG6zjTlop07Pu23NL5qPvJddG07IMP8Mpr7Mk1+F/x0fbVdTo9Pj0HSPhf4Zu9H8H+KPEHgu58GyPrcGk6HaXGntfmOUXEt1dM3mRXEUu1lzgqEQJwTkxvve0jsrLkb0S0VmmtL81+bre6elgw+jjLrd3XV6vRrs42t06rUx/DGm+KfE/wPi0WPQde8DWOneF7u7fVX0u3uPDutxgPJvnmdA0V0+QisGdgQmFWjG25XUfRR919dl7jXV/Fa2rumww+slFdW9fv+LyVrenQ+UqYj6I8LeFPip4o/ZZ8UQzeC9e1CxtNR0qfQnTRnYG2BujcyQuseXQHbvYEgcZIox3uwozno1J38o+z0b8uzKw+spxj1jp680fx3O18P6tP/AGt4I+H32TT/AOwdZ+Es95qFp9gh/wBKuFtLx1lkfZvZlaKMqS3ylcjGTlYt81LF3+zCDXk+Sk7+uu4sPpOj5ys/RzkrenkfIVMR+ifh66sL5NAnuZYz/beiWPxLlzjO/T4NNiyff91c/marHVFTlXlT+xzTX/cWNZfnKH4Bh4c8acX9u1P/AMAaf5XR5toFvqF7a+F8aTbS/B++8Cz3via++xRtaf2mYJzcPLcbSVu1uvLCKWDjCBRjNY4qKpwrwXwxivZfKMeXl7ycrqS9b7GlKTqVITW7k+b/AMCd7+XLa34FLw/q0/8Aa3gj4ffZNP8A7B1n4Sz3moWn2CH/AEq4W0vHWWR9m9mVooypLfKVyMZObxb5qWLv9mEGvJ8lJ39ddyMPpOj5ys/Rzkrenkbnge18WWB8Kw+D9KVfhxP8NLu4ubyGyiMEmqtp9x9oLzlc/afOypUNvCAgDbuox7Sp4yM9lBcnnG0NvX3nLzvfZDwqvOi4783vevM9/la34amXp8eg6R8L/DN3o/g/xR4g8F3Pg2R9bg0nQ7S409r8xyi4lurpm8yK4il2sucFQiBOCcmN972kdlZcjeiWis01pfmvzdb3T0sLD6OMut3ddXq9Guzja3TqtTnLfxb8R/hn+zn4A8caZ4Hilke91SzuNU1DRDIg01liEEJl2jbFIzsysGBYxAAkAgmN1nGnLRTp2fdtuaXzUfeS66Np2QYf4ZTX2ZJr8L/jo+2q6nCaX4f13xT+y0YPDOi3+rS6P41uL7UI7G2edrS2Onx4mlCAlI/kf5zhflPNPFPWhUfwqM030T5oO1/QKWvPBbvlsv8AwI9i8DeCNXtPhnJ4V1RNc8TaHq/w/vNWtZv7Pt10WC7aB5oYIZNhklu43XqHVwVPy4FGObhCqpbw5bPvZxbcf7vK3d7NJ3DDLmqU+0m01961872t2urFPw/q0/8Aa3gj4ffZNP8A7B1n4Sz3moWn2CH/AEq4W0vHWWR9m9mVooypLfKVyMZOVi3zUsXf7MINeT5KTv667hh9J0fOVn6Oclb08jc8D2viywPhWHwfpSr8OJ/hpd3FzeQ2URgk1VtPuPtBecrn7T52VKht4QEAbd1GPaVPGRnsoLk842ht6+85ed77IeFV50XHfm9715nv8rW/DU+JqZIUAFABQAUAFABQAUAFABQB9B+AvAvxU179m7x9dDwn4n1G1u30NtJf7HPKktrBNcmXyOCDGmSTt4GaMZ7lKk56NTu7/wAvs2k35WtZ7bDo+9OSj/K18+aOnrubfh/Rvg/49+F6eHYPG0Yh8G+CbvVZ7STTrtZINZmuITPds64WQKPLhVeflGenRY33Yzrwd1HkjH0clffZybl5K67BQ1apy6uTfyi7fckn9/cx/CXwr+I3wy+EerfES38D67qWp+M9AntbNrWwlltdM0eZQZ7y4lUbQ7xqRGmflUl2x8oJiH7OLoS0vZyb6JNNR16tpX7JW3bsqS55KpHpdLu3tf5Xdu78lr6T4X0iWfQvCiSeGbuazHw8nhHxPiYpBo6SQTM9q4x5BEW5rch8T/OxDA7QFjdFiFsuWNv+niSjZW/vWUVy66a31Hh3Z0+vvP8A7d1evy+LXTXQ1fCFxa6fpvg34naZC03h+TwD/Zuu6l5RNrp1rZ2Uscli0hG0TT3kiHy87iI0IGGNTmGn1lfZnG683KEYQiv8LTcltousR4bV07bxlb0tNycn2921n2bXU+G60JCgAoAKACgAoAKACgAoAKACgAoAKACgAoAKACgAoAKACgAoA338CePR4aXxhJ4N1/8A4R8DC6o2nTfYwC3abbs+8fXqaJ/u7c2l/wAQj71+XWxmw6HrVxpNxr9vo99LplpKkNxepbu0EMjfdR5ANqsewJyaH7qTfXReu/5Atb26BDoetXGk3Gv2+j30umWkqQ3F6lu7QQyN91HkA2qx7AnJofupN9dF67/kC1vboaJ8CePE8M/8Jc3g3X18PMQf7UOnTCyJzgHztuzqcde9E/3dufS+1wj71+XWxl/2fqj6b/axsrptPimFr9p8tjCkrAuI9+NoYgM23OcAmi1red/wtf7rq/qgNK38CeOLvw5L4xtPBuuTaBCSJNVj06ZrNCDg7pguwYPByaJPkSctL7BH3m0uhh0AFABQBqQeFPFFzfWOmW3hvVZbzVIBdWNulnI0t1CQxEkSgZdMI/zKCPlPoaHpe/Tfy0vr8tfTUV1v/Xb89DMDMoYKxAYYYA9RnOD+IFAzpNe+G/jTwz4d0/xbrWimDSNUcR2l2txFKkjlA+07GJVtpBwwB5on+7n7OW+v4aP8wj70eZbf5/8ADHN7mClAx2kgkZ4JHT+Z/OgDS1nw9r3h2LTzrNjJax6xZR6nZhmBE9uzOqSAAnglXAzg8H1oeknF7q34pNfg0wTurr+tbfmZlAGvpXh3XNa0XV9UsPJNhocUd1e+beRRFQ7iNSiOwaRizAYQEjvRL3Y872ul83f/ACf6gtZcvXf7jIoAKAL8eh6/PokviCLR9Qk0e2nFvLfLbubaKZgCEaTG1XIxwTkjFDfLa/XbzBa3t0KFAChmClAx2kgkZ4JHQ/qfzoASgDU8OeHNe8Vag+keHLCS8uvs01y8UbBSYYUMsjHJAIVULY9uOaHpCVR7RV35Lb9QWslFbt2XqZm5ioQsdoJIGeAT1/kPyoA1IfC+sXHhi58YRRW50uzvI7GVzdRCQTSKzKBEW8xhhT8wUgetKT5OW/2rpfKzf5gveul01/QywzBSgY7SQSM8Ejof1P50wOm174eeOfDPhnT/ABPrWkvBomqyhbS4W5iljkkMYfBCMSrbCDhgDg0T/dzVOW+v4WT/ADQR96PMtv8Ah/8AJnMUAWrvStUsLa0vb7Tbq2t9QjM1pLLCyJcIGKlo2Iw4DAgkZGQR2oekuV76P5Pb7+gbq/Qtw+F9YuPDFz4wiitzpdneR2Mrm6iEgmkVmUCIt5jDCn5gpA9aUnyct/tXS+Vm/wAwXvXS6a/oZpgnEAujDIIWcxiTadpYAErnpkAg49xTv0AZQAvmSeX5W9thO7bnjPrigBKAJDFc/ZlnaOX7OXZFcg7N+ASAemcbc/hRfoAwMwUoGO0kEjPBI6H9T+dACUAKGZQwViAwwwB6jOcH8QKADcxUIWO0EkDPAJ//AFCgDutJ+Eevan8N7/4iix154Ld9ttHa+HryeCRVYCSWW72CCJFG7o7tlSCqjBoq/uYxb699LL57vtbTXfoEPfbS6HC7mKhCx2gkgZ4BPX+Q/KgDUh8L6xceGLnxhFFbnS7O8jsZXN1EJBNIrMoERbzGGFPzBSB60pPk5b/aul8rN/mC966XTX9DKpgPME4gF0YZBCzmMSbTtLAAlc9MgEHHuKL9AGUAFABQBq6V4Y1fWtK1fWrCO3NpocMc960t1FEyo8gjXYjsGkJZgMICR3ol7seZ7XS+bvb8n6dQWr5fn9xlUAFABQBdh0PWrjSbjX7fR76XTLSVIbi9S3doIZG+6jyAbVY9gTk0P3Um+ui9d/yBa3t0NBvAPjpPDY8Yv4L15dAOMaqdOmFn1x/rtuzrx160T/d259L7XCPvX5dbFy1+FPxRvdITxBZfDbxTcaXJD9pS+i0e4e3aHGfMEgTaVxzuzjFE/wB2rz0669gj77tHUda/C74q3uiLrVl8OvFk+jyRfa1u4tIuWtmjCk+aHCbSuM/NnGKJ/u1eenXXsEffdo6nOrp+pnTH1VbK6/s4TrbvciNvJExUsqF8bd+0MQM5wCfWh6Wv1v8Aha/3XV/VAVqACgAoAKACgAoAKACgAoAKACgAoAKACgAoAKACgAoAKACgAoA98+B66ldad4z0O/fxFb+JbnwVfrZzakWfS4tJFur4kjbDrlFYRSZMYLJ8h4NTiE1hqr/l5XJdXaUbJf3treV0rbjpa1qa73t6tPV+Xfz112KnhnxR4p179mT4gaNqup3Vxpui3Ogw6dbEbYbdDPcFyqgAbicbm+8cDJOBVYv3oUZvfnt8lTlZf1113Cl7spRW3K3/AOTRDwz4o8U69+zJ8QNG1XU7q403RbnQYdOtiNsNuhnuC5VQANxONzfeOBknAoxfvQoze/Pb5KnKy/rrruFL3ZSituVv/wAmiW/geupXWneM9Dv38RW/iW58FX62c2pFn0uLSRbq+JI2w65RWEUmTGCyfIeDU4hNYaq/5eVyXV2lGyX97a3ldK24Uta1Nd729Wnq/Lv5667HRad8M/Dfi/4O2HhnR/Hnh02ugeGbvxbfrDrEUcza3NJEoW4jKkrFFAEizwdzHGM8mMXs+arHVQUYrz5pLmenV7Lr7sQoe9aD+0238k+X/N+TZ0/hmKwkm8FeE5G1CPx5P8M7iDS76Fd+hCznt55FW4jJ3FhCzhpVOwSlSUO0kmM2xSj0jFS81GMW+V9LpJJvRu7Vm0PD+66LfWTt6uTWvfXV7Plte58dVRIUAFAH2BrsP274Q6TYeAWMXxBPw30yWTIzNc6CJLn7VFZ4+7LnDSDlmiBC4+bKxn22vgThz+ns6fK/8KfxLvZt2Vgw1ly/ze9y+vNK/wA2tvn1szG8P+CfBjaj4O+GE3gTSJ9D8R+An8Q6j4ieBjew3RtZpmuEuN2ESKSNI/Lxt4IYEtSxb5frKWnsknFrr7sWm+6m2113VrWHQWtNvXmlZ/8AgTVl2slf8zzC5BP7KlgRyF8f3IYjsTp8WM/kfyqsS054e38tT/0qAU9qnrD/ANvPTf8AhFvgv4U8H+FNM8SDRTYeI/Bx1a7uP7GvbjVZL2SOQ+dBdRqY41hkVFMeQoCPvB3Zoxe9WnDeKXLbTVxTTd91Jtrsk7LVBQ+zOWzbv6JtNLzS1738i14n8L6BefC3QfF1npdt4k8WaR8OdNWDRrkZSzsGmuRNqQj/AOXgxkhdnRNwdgwAAWMlySnbq4JvrFeyp2/8CenN023aYsOlJRv/AHrLu+aWny3t1+TOB8XwaX8PvAPgnSvDvw10LXE8XeGW1e/1i+s5Lm4kumeVJUhkVwYRbqicJjnl85xRXV6sqWySi/PWKblf1bVttNgpfApvVttfc7Wt+N99dNih8JbjSPEngPx54c1fwf4fmbQvCd5qlnqX2EfbluBcQhWM2ckASsAMdMelFdWw0qi0alBffJJ/gOl/FUXs1L8It/mj0Dwh8OdCHgi88G+NdJ8N3GqT+ArrxXZjT9Fk+226+S09tPLqG4fNwAYwGQg7Tzmni24Qq2+Knyp9EneN153T189U9BUFzTpp7TbXn1+7VafitT5doA+yvCXgcN8L9M+Bsnibw9DP4k8I3eqzaRLe7b99auGS7smEOO0NvAnXOJHox6dqkVr7JRa7pxvKovunKP8A26h4dpOMnpztp32s/dj90lf5nnGneIPAXgb4MeBvGOsfCHw/r2rajfavpNy9zGYw1tAsWGI5Uz75VIkZWwqsAAWyFivelGENOem3fs7yjFr7rvq7LVahSTSlKX2ZrT1SbT/Jdr7Gb4vg0v4feAfBOleHfhroWuJ4u8Mtq9/rF9ZyXNxJdM8qSpDIrgwi3VE4THPL5ziiur1ZUtklF+esU3K/q2rbabCpfApvVttfc7Wt+N99dNja0TwX4IvPBmjfHCTw5ZNo2jeEb611WzZP3E+vQOLa33gd5ftNtMR32MfWjEfu1Ua+2ocnk5e7Ky/uqE5eV0OjaXKn9lu/oveX335TtfAGnaV4P8SeGvCXh3wPpUlrqXwwvNfutdNq73slxPp05lcTBsLGrEQ7MbR3G4ggxjXssbSvZQikrdV7jv58zbfyVth4dfvKEt+aX5Sat8kl+p5z4fuNN8JfAifXvGvw28MXdzrVvNYeF9+mH7dN8xE2ozTbsiOLJVOBucf3UJLxWqVJaTdnp0j39ZdPK8tdBUdG5vVL8X29F1+SMDRo9I139nPxXe3XhbRo9R8OatpFvaalBaBLp0nNyZBJJn587EHsAKMVpCjNaNzafooXX46hRWs4v+W/z5or8melf8It8F/Cng/wppniQaKbDxH4OOrXdx/Y17carJeyRyHzoLqNTHGsMiopjyFAR94O7NGL3q04bxS5baauKabvupNtdknZaoKH2Zy2bd/RNppeaWve/kcXPceGrT9j6zigsJtSvrrxpOkk1wGhXTp/skZzEEc+bujUDMgAG5/lOA1GLfNOgo9Iz167xurfNedl0uFHRVG/7un/AIFZ/n/wTw6gR7H8WdO1C8+FnwdltLC4nRPDl6GaOJmAP9o3HUgUYrTGyb/590v/AEllU9cOl/fl/wC2lfRo9I139nPxXe3XhbRo9R8OatpFvaalBaBLp0nNyZBJJn587EHsAKMVpCjNaNzafooXX46iorWcX/Lf580V+TOh1vxhMf2UfC1nH4U8PSK+vapprz/2cDJFttbYiYNn5ZmGSX6nb7UYtXqUF3g3909l5d/UKPuwqPzX4p/0jqf+EW+C/hTwf4U0zxINFNh4j8HHVru4/sa9uNVkvZI5D50F1GpjjWGRUUx5CgI+8HdmjF71acN4pcttNXFNN33Um2uyTstUFD7M5bNu/om00vNLXvfyOc0zxF4A8E/BbwL4z1b4ReHvEGq6lfavpVxJcoUD20KxbWIGVM++VSJGVsKrAAFshYrWUacdOem3fs+aUU19131dlqtQor3XN68sl800m0/yXa+x0HhD4c6EPBF54N8a6T4buNUn8BXXiuzGn6LJ9tt18lp7aeXUNw+bgAxgMhB2nnNPFtwhVt8VPlT6JO8brzunr56p6CoLmnTT2m2vPr92q0/FanM634wmP7KPhazj8KeHpFfXtU015/7OBki22tsRMGz8szDJL9Tt9qMWr1KC7wb+6ey8u/qOj7sKj81+Kf8ASNnQPht4WvfG3ge2PhOCaxvfhVca3eqISY5LtbW8/wBIc/3hIsXPqFpYhqFPFtaOMIuPk3Gnqvm3+IUFzyo36ys/P3pafdb5GZpniLwB4J+C3gXxnq3wi8PeINV1K+1fSriS5QoHtoVi2sQMqZ98qkSMrYVWAALZBitZRpx056bd+z5pRTX3XfV2Wq1Civdc3ryyXzTSbT/Jdr7FnRPBfgi88GaN8cJPDlk2jaN4RvrXVbNk/cT69A4trfeB3l+020xHfYx9aMR+7VRr7ahyeTl7srL+6oTl5XQUbS5U/st39F7y++/KfOlMR9L+FbhPjPJ4e+H2r23jDwR420jwsbDTdSspWGm3VhDbu6Nc27BXhR4wQZUco27JXmpxKtGtWW6V5Rez5Ulby20TVr6LcdJ2cIPZvRrfV7+dn10f3HcaJ8A/hdr9/pfi59BSJNTbSvElvZxuVthpEVrYm+Qx5wQ01y+T22MK0xLjhpVJLVQdST/wuNSVP7nBeqaRFJOrGK6yUYr/ABKSUvw1PErR9D8Tfs/+M9Wk8IaJaXug61pUVjfW1mI7kRXLXTSI8mfmHyIB6ACsq0XCjh5X1cnF+aUP89X5m0XGVSpZaWbXl70f0dj0Dwh8OdCHgi88G+NdJ8N3GqT+ArrxXZjT9Fk+226+S09tPLqG4fNwAYwGQg7TzmrxbcIVbfFT5U+iTvG687p6+eqehnQXNOmntNtefX7tVp+K1OZ1vxhMf2UfC1nH4U8PSK+vapprz/2cDJFttbYiYNn5ZmGSX6nb7UYtXqUF3g3909l5d/UdH3YVH5r8U/6R1fh/wT4MbUfB3wwm8CaRPofiPwE/iHUfETwMb2G6NrNM1wlxuwiRSRpH5eNvBDAlqnFvl+spaeyScWuvuxab7qbbXXdWtYKC1pt680rP/wACasu1kr/mdRonwD+F2v3+l+Ln0FIk1NtK8SW9nG5W2GkRWtib5DHnBDTXL5PbYwrTEuOGlUktVB1JP/C41JU/ucF6ppEUk6sYrrJRiv8AEpJS/DU5q88O/BTw74a8NWniC20KHTvFHhN9auXTRb241P7ZKkreZb3UamONIJAiGPIUKjbwc5rKvFwVSjF3lCMeV7XfLFpyvupNvySdlqjWm1KUarVlKTv6czVl6L538meb/CW40jxJ4D8eeHNX8H+H5m0LwneapZ6l9hH25bgXEIVjNnJAErADHTHpVV1bDSqLRqUF98kn+BNL+KovZqX4Rb/NHjtMQUAFAHuPhnxR4p179mT4gaNqup3Vxpui3Ogw6dbEbYbdDPcFyqgAbicbm+8cDJOBRi/ehRm9+e3yVOVl/XXXcdL3ZSituVv/AMmiW/geupXWneM9Dv38RW/iW58FX62c2pFn0uLSRbq+JI2w65RWEUmTGCyfIeDU4hNYaq/5eVyXV2lGyX97a3ldK24Uta1Nd729Wnq/Lv5667GH4EvtS8B/BzxL8Qp7+4S71/d4S8PxtK2FV1DX06rnjbCViDDoZz6VWI/hRovepq/8EWv/AEqVl6RkhUvjc19n/wBKe33K79bB4EvtS8B/BzxL8Qp7+4S71/d4S8PxtK2FV1DX06rnjbCViDDoZz6UYj+FGi96mr/wRa/9KlZekZIKXxua+z/6U9vuV362O+074Z+G/F/wdsPDOj+PPDptdA8M3fi2/WHWIo5m1uaSJQtxGVJWKKAJFng7mOMZ5nGL2fNVjqoKMV580lzPTq9l192I6HvWg/tNt/JPl/zfk2fMNUIKACgAoAKACgAoAKACgAoAKACgAoAKACgAoAKACgAoAKACgDo5viT8RLjw0vgyfx54ik8PogjXSm1Oc2gQYIXyd2zAIBAxgUS9+3NrYI+78OhZ034u/FfRdHj8O6P8T/FtjpUUbQx2NtrVzFbojZyojVwoBycjGOTRU/eq1TXS2uum1vS2gR9x3joGm/F34r6Lo8fh3R/if4tsdKijaGOxttauYrdEbOVEauFAOTkYxyaKn71Wqa6W1102t6W0CPuO8dCtN8SfiJceGl8GT+PPEUnh9EEa6U2pzm0CDBC+Tu2YBAIGMCiXv25tbBH3fh0Max1bVdLS6j0zU7u0S+gNrdLBM0YnhJBMbhSNyEqpKnIyB6UPWPK9tPw2+7oC0d0bVv8AEv4i2nhh/BVr488QQ+H5FZH0uPUpltWRvvKYg23ac5K4wT1FE/3lufW3fy2+7oCXLqjm6ACgAoA17fxh4ttNR07V7XxTq8N9o8K22nXUd9Ks1nCu7bHC4bdGo3thVIA3H1NF9W++/wB1vy09NBWVrf1vf89fUtR/EX4gQ+G5vB0PjfXk0G4Znm0xdRmFrIWO5t0W7acscnI5PJ5pOKcVFrRbeRSbTcur38yHQvHHjTwxp+oaT4b8W6zpVjqqeVfW1lfSwxXSYxiRUYBxgkc9iR0Jpy9+PJLVdugl7suZbk+n/Ef4haR4dm8IaV468QWeh3G4S6bb6lNHauGzuBiVgpDZ5GOe+aJe+uWWqCPuu8dGVLbxj4usr6x1Sz8VaxBe6XbfY7G4ivpVltbfDDyonDZRMO/yqQPmbjk0N3vfqrPzVrWfdWSXohWWnl/w/wCZb0r4j/ELQtBn8LaJ468Qafo11u8/T7XUporaTcMNujVgpyDzkc96J+/Hllqhx9180dGa9p8SNP0DwLfeEPCHhVdPvddtktdc1i4vDcXF1Csgk8mFQqJBEWVSww7HaAXxSqr2iUNo3Tt3a2u+yd2krdL3sOD5HzddV6J/rbS/raxm2vxT+JtjpFv4fsviJ4mt9Ms1ZLezi1adIIlYFSqoG2gEMwwBjDN6mnP958eulte21vS2go+58On9XOYoA1G8VeKH16PxU3iTVDrULxyR6kbyT7UjRqFRhLneCqqoBzwAAOlNSabknq73877/AH3d+9xNJqz2/wAi9qPxH+Ier6CvhXVvHniK90VCpXTbjVJ5LVSDkERMxQYPI461Lina6228rKyt2009NCrvXz38+v56hpXxH+IWhaDP4W0Tx14g0/Rrrd5+n2upTRW0m4YbdGrBTkHnI5705+/HllqhR9180dGal78SnX4X2/ws0DTJ7DT5r4arq8st805v7tVKIVTaqwxqp+6AzEgFnOFAVRe0lHtG9l5tJNt/Ky2sr7t3HB8il3lo/RO6X+f6bGdZfE34kabocXhnTvH/AIjtdIg8wRWEGqTx26CQEOBGrBQGDMCMc7m9Tlz/AHitPXS2vbt6Cj7jvHQmt/i38VrPQx4YtPib4sg0Zbc2g06PWrlbYQEYMXlB9mwgkbcYwaJ/vFaevqEfcd46C6d8XPivpGjJ4c0n4neLLLSYomgSwt9auY7dY2zuQRq4UKcnIxjk0VP3qtU10trrptb0toEfcd46FXT/AIj/ABC0jw7N4Q0rx14gs9DuNwl0231KaO1cNncDErBSGzyMc980S99cstUEfdd46Mg0Lxx408MafqGk+G/Fus6VY6qnlX1tZX0sMV0mMYkVGAcYJHPYkdCaJe/Hklqu3QF7suZbmJQB1mkfFz4r6BpEXh/Qvid4s03S4VZI7G01q5ht0ViSwWNXCgEkkgDnJoqfvVapqrW1102t6WCPuu8dA074ufFfSNGTw5pPxO8WWWkxRNAlhb61cx26xtncgjVwoU5ORjHJoqfvVaprpbXXTa3pbQI+47x0KOgePvHXhXTr3R/DHjPXNIsdSUreW1jqEsEVwCMHeiMA3HHI6EjoaJLnjyS1XboC92XMtyTT/iP8QtI8OzeENK8deILPQ7jcJdNt9SmjtXDZ3AxKwUhs8jHPfNEvfXLLVBH3XeOjGXfxB8fah4bi8HX/AI31+50CAIItKm1OZ7OMKcqFhLbBg9MDiif7xpy1a28tLflp6aBH3U1HS/8Aw/5li1+KfxNsdIt/D9l8RPE1vplmrJb2cWrTpBErAqVVA20AhmGAMYZvU0T/AHnx66W17bW9LaBH3Ph0/q5W0Dx9468K6de6P4Y8Z65pFjqSlby2sdQlgiuARg70RgG445HQkdDRJc8eSWq7dAXuy5luT2fxN+JGnaJD4Z0/4geI7XSLcSCKwh1SdLdA4IcCMMFAYMwIxg7m9Tkn+8Vp66W17dvQI+5rHTqQ3fxB8fah4bi8HX/jfX7nQIAgi0qbU5ns4wpyoWEtsGD0wOKJ/vGnLVrby0t+WnpoEfdTUdL/APD/AJmve/Ep1+F9v8LNA0yew0+a+Gq6vLLfNOb+7VSiFU2qsMaqfugMxIBZzhQFUXtJR7RvZebSTbfystrK+7dxwfIpd5aP0Tul/n+mxxNMR1A+KfxNHhn/AIQsfELxINA8vyP7M/tSf7L5WMeX5W7bs/2cY9qJe/8AFr/Wn3BH3fhK0HxB8e2sUEFt431+KO1sZNMgRNSmVYrOQgvbqA3yxNgZQfKccilJKd+bW6Sfmlsn5Lohxbjbl6O68n39S7p3xc+K+kaMnhzSfid4sstJiiaBLC31q5jt1jbO5BGrhQpycjGOTTqfvVaprpbXXTa3pbQUfcd46EVr8U/ibY6Rb+H7L4ieJrfTLNWS3s4tWnSCJWBUqqBtoBDMMAYwzepon+8+PXS2vba3pbQI+58On9XK2gePvHXhXTr3R/DHjPXNIsdSUreW1jqEsEVwCMHeiMA3HHI6EjoaJLnjyS1XboC92XMtxbf4hePLTwvJ4JtPGmuQ+HpSxk0qPUJVtG3HLZiDbSCeSMYJ560S99JS1sEfdbceoQfEHx7axQQW3jfX4o7Wxk0yBE1KZVis5CC9uoDfLE2BlB8pxyKUkp35tbpJ+aWyfkuiHFuNuXo7ryff1H6f8R/iFpHh2bwhpXjrxBZ6HcbhLptvqU0dq4bO4GJWCkNnkY575py99cstUKPuu8dGa9p8SNP0DwLfeEPCHhVdPvddtktdc1i4vDcXF1Csgk8mFQqJBEWVSww7HaAXxSqr2iUNo3Tt3a2u+yd2krdL3sOD5HzddV6J/rbS/raxw1MQUAFAHWab8Xfivoujx+HdH+J/i2x0qKNoY7G21q5it0Rs5URq4UA5ORjHJoqfvVaprpbXXTa3pbQI+47x0K03xJ+Ilx4aXwZP488RSeH0QRrpTanObQIMEL5O7ZgEAgYwKJe/bm1sEfd+HQxrjVtVu7C00q71O7mstP8AMNpbSTM0Vv5hDP5aE4TcQCcAZI5o3d/l8tX+r+9hsFxq2q3dhaaVd6ndzWWn+YbS2kmZorfzCGfy0Jwm4gE4AyRzRu7/AC+Wr/V/ew2Cx1bVdLS6j0zU7u0S+gNrdLBM0YnhJBMbhSNyEqpKnIyB6UPWPK9tPw2+7oC0d0VaACgAoAKACgAoAKACgAoAKACgAoAKACgAoAKACgAoAKACgAoA+nE+A/inWPgfpGgaHZt5K6NcePNRvIljlW6vHKRWtkDvBQpbFnJ5AaRuCaWMvRk5PamkvVzced/JWWm/K+4UP3mi3k38lFOy+bv967HKeHPFN3rP7MPj7QH03SrS00W80HyjaWSRyzyPNPvlmk+/I5CqOTgBQABzkxfvQoz/AL9vLSnL8Xu3+lkOl7spr+6//So/kdWnwH8U6x8D9I0DQ7NvJXRrjx5qN5Escq3V45SK1sgd4KFLYs5PIDSNwTRjL0ZOT2ppL1c3HnfyVlpvyvuKh+80W8m/kop2Xzd/vXYr+FvGDfFPwHo3wq8F/Ejxf4b1bRvCd9FcaWLZV0nUmhNxcSh5UuN4Lwtsy0WPkAPB4eL9+NTEbxjGLafaKjF2366ra/kx0PdcKWzcnZ+r0/rodd8O9f8AD/i7TbLSdN8d6fF4D074fXUWveEXgnDR3sNpIZbp18vydxn2SLcF92Sqjniljleliam6svZ/3X7qitdnzXWl+a99Vdow9lOlHZ83veau2/ly99rff8e0xBQAUAFAH2Ho2qX1h8Z/AfwJs5h/wrzVvCtkl7pQUfZb1bnTzPPduuMNL5hZxL95fLGCAKMSlOri6c9oc6j/AHeSN4tdm2r363dwg3Tp0Zw3lZvzvKzT8raWPJ/DWh/C60+DmreMPG3gGVZoxLpmh6hHrEyS6vqOfvpBjYsMKkM7cjO1RkscTXl+7jyaTlay3sl8Un5X0Xd6bJlwilUkm7xju+/ZL138lr2PFKogKACgAoAKACgAoAKACgAoAKACgAoAKACgAoAKACgAoAKACgAoAKACgAoAKACgAoAKACgAoAKACgAoAKACgAoAKACgAoA9x8OeKbvWf2YfH2gPpulWlpot5oPlG0skjlnkeaffLNJ9+RyFUcnACgADnKxfvQoz/v28tKcvxe7f6WQ6Xuymv7r/APSo/kHhzxTd6z+zD4+0B9N0q0tNFvNB8o2lkkcs8jzT75ZpPvyOQqjk4AUAAc5MX70KM/79vLSnL8Xu3+lkFL3ZTX91/wDpUfyOj8LeMG+KfgPRvhV4L+JHi/w3q2jeE76K40sWyrpOpNCbi4lDypcbwXhbZlosfIAeDw8X78amI3jGMW0+0VGLtv11W1/JhQ91wpbNydn6vT+uhznhzxTd6z+zD4+0B9N0q0tNFvNB8o2lkkcs8jzT75ZpPvyOQqjk4AUAAc5WL96FGf8Aft5aU5fi92/0sgpe7Ka/uv8A9Kj+R6j8O9f8P+LtNstJ03x3p8XgPTvh9dRa94ReCcNHew2khlunXy/J3GfZItwX3ZKqOeKMcr0sTU3Vl7P+6/dUVrs+a60vzXvqrtGHsp0o7Pm97zV238uXvtb7/j2mIKACgAoAKACgAoAKACgAoAKACgAoAKACgAoAKACgAoAKACgDV0LxTrvhqHVbfRL77NHrVg+mXw8pH862ZlZk+YHblkU5XB469aJe/B03s2n807r7mCfLLmW+v4qz/BnS6L8avH3h7wpN4J0uXQE0a5RUuLeXwzpkzXG0sVMsklu0kjKXbazMSueCKKv75cstvu6WurbO3XfzCHuO6/rr93lsc1oXinXfDUOq2+iX32aPWrB9Mvh5SP51szKzJ8wO3LIpyuDx160S9+DpvZtP5p3X3ME+WXMt9fxVn+DOhtfjN8QbHw23hey1Kwt7ZrFtLa6i0m0S/aybrbG8EX2jyj0278Y46cUqi9rpLy8r2ta9t9lv2HB8jvH/AIa/btuZh+Ini4eD18BW2ppZ6GW33FtZ20Vu14wYsDcyRqHuNpPyiRmC4GAMU5/vLc3Tbt622v57+Yo+7e3X+vu8tjnKACgAoAKAO7s/jj8TNP8ADUXhW11+FbW3spNNguTp9s19BZyZ320d2YzPHEcn5FcDBx04oqJVU1Pqkn5pWsn3St1CH7t3j01Xk+67P0HN8cfiLJ4UsvBNzeaJdaRp1m+n2kVz4c02eW3gfO5UmeAyqSWJ3Bt2TnOeaKv753nvZLs7LRbdgh7m3e/zZwVABQAUAFABQAUAFABQAu1ipYKdoIBOOM/5BoASgAoAKACgAoAKACgAoAKACgAoAKACgAoAKACgAoAKACgAoAKACgAoAKACgAoAKACgAoAKACgDutF+NXj7w94Um8E6XLoCaNcoqXFvL4Z0yZrjaWKmWSS3aSRlLttZmJXPBFFX98uWW33dLXVtnbrv5hD3Hdf11+7y2DRfjV4+8PeFJvBOly6AmjXKKlxby+GdMma42liplkkt2kkZS7bWZiVzwRRV/fLllt93S11bZ267+YQ9x3X9dfu8tiO1+M3xBsfDbeF7LUrC3tmsW0trqLSbRL9rJutsbwRfaPKPTbvxjjpxSqL2ukvLyva1r232W/YcHyO8f+Gv27bkmi/Grx94e8KTeCdLl0BNGuUVLi3l8M6ZM1xtLFTLJJbtJIyl22szErnginV/fLllt93S11bZ267+Yoe47r+uv3eWxkH4ieLh4PXwFbamlnoZbfcW1nbRW7XjBiwNzJGoe42k/KJGYLgYAxRP95bm6bdvW21/PfzCPu3t1/r7vLY5ygAoAKACgAoAKACgAoAKACgAoAKACgAoAKACgAoAKACgAoAKAPojS4dF8bfDjRvC/wAML74ft4gs/C93LrOmX3hhW1S6nieeSZ4ryW1K7xb7CuJgfkOMEcmL+3VXwRUW7aWsoqT6fa38tdR0Psw+027X1vd+6jndDfwhrP7OPjM2vgLSrPVdAutGB1hi017cSTzTCQh24iTaiAIgA4JYsTwsVpClOOl52t/3Dbd+93rbZdurKW8k9fdb/wDJo2t8mGhv4Q1n9nHxmbXwFpVnqugXWjA6wxaa9uJJ5phIQ7cRJtRAEQAcEsWJ4MVpClOOl52t/wBw23fvd622XbqylvJPX3W//Jo2t8maXwsex8Z/DzxXpmo+G/BV2mk+HLsWWmWemwx69LdRorrfrcMvmOifM0i+acqrBYsdFiG/YyqdnHVacqvFNu26aune+rWy1Cl/EjDvf53Tsl53tby7s7rw14I8NT+A9Dsk8O+FZRd+BrvULvw3cWNv/wAJLf3xWUxXttcMDIIjhJVRZVPlRt+6bIyYv3I1rfZjG1vsP3W3Lut297JpNR6GH1lC/WTvfqr7Lt2W2qerPk2qEFABQAUAfXfhv4QeCL7x58PdRnufBi21z8PYru60CaNvtV5cnTZ2NwYvKMbtu2vuZ92Uz1Ap4xKisao/Zi7W+z7kfu76d7jo+/7G/WWvn77/AE0/A43Rf2WYb7wrpE19L4gj1bXvD7a/b6jHBCNItcxvJDbTMzeYWdUALjAVpFGG5NLFfuFUtvBXd+uibS9E7Lu09hUf3jjfaTt6a2u/n+BhaB8L/gqnw78MfELx1418Q6XFr099pr21vaxylbq3VW84MASIPnVSNrOWdegBNLEfuvdhq5Qcl6pyVn6tWXzbatqUvf1lspJP0dnp6K9/wWpi6x8P/hx4I8H6FceNtZ8RyeJPFGjf25ZxaZbwNaWcEhdbdZfMYNKzmMltpXaCPvEclW8ZunDVpR9LtKVu+ia17vbQKdpJSls2156O1/vvZeW6NLTPgZo994p8LaA+t3ix6/4Gl8VyyBE3RzJb3MoiX1TMCjJ5wxp1f3cMRNf8u4przvGD/wDbn9wU/flTX8zt/wCTNfoP8S67qviT9l3Q7zW7kXU+n+Mp9OtpWjQPHbJYRFYgQASoJJ59aeL1rUZveUZt+fvRHS0hOK2Tj/7edFov7LMN94V0ia+l8QR6tr3h9tft9RjghGkWuY3khtpmZvMLOqAFxgK0ijDcmliv3CqW3gru/XRNpeidl3aewqP7xxvtJ29NbXfz/A+dqAPsDw/4U8M23h/4ay+K/CPgC28A6l4S+1eJNTv0srbUDOXuB5kMu5bt5fliChNwJ4x1oxWk6qlpaEeW2/N7NNaLe8t7q1ripXdOLjvzNO+1ub/K+2p5vpfwF8E302h+B5vEOtp428T+HG8Saewhh/s6JWhknhtpefMLtFEcupAVmAwwBNTXfslVS+Kkry83ZSkl6J6d7PYuCUpR/lk7LyV3FN/NamDpthp19+zl4hvNH8Q+IIG0rWtMfU9MmMJsbmeYXCxypgeYCqRkcnB3ewxWKXLGjJapyktej5Lt/OyXoKirua68t/VcySX43NLQPhf8FU+Hfhj4heOvGviHS4tenvtNe2t7WOUrdW6q3nBgCRB86qRtZyzr0AJpYj917sNXKDkvVOSs/Vqy+bbVtVS9/WWykk/R2enor3/BalrR/gL4Nvm0DwPd+IdZTxz4n8NHxJYlIYv7NiDQSTxW0mT5hZo4jlxgKWA2tgmjENUvaqO9JXlfropSS9E/nZ7DpLmcObaTsvLXlTfzX3FHVvDnwgtf2c/D/iqPStfXxFf6rqFmbpZItr3EUFudrg/8sAXJUD5uWyaMSnCpSUPtRb+6Vnfz7W076hS96M3Lo0vvTt/wTxemIKACgAoAKACgAoAKACgAoAKACgAoAKACgAoAKACgAoAKACgAoAKACgAoAKACgAoA9m0N/CGs/s4+Mza+AtKs9V0C60YHWGLTXtxJPNMJCHbiJNqIAiADglixPCxWkKU46Xna3/cNt373ettl26t0t5J6+63/AOTRtb5MNDfwhrP7OPjM2vgLSrPVdAutGB1hi017cSTzTCQh24iTaiAIgA4JYsTwYrSFKcdLztb/ALhtu/e71tsu3VlLeSevut/+TRtb5M0vhY9j4z+HnivTNR8N+CrtNJ8OXYstMs9Nhj16W6jRXW/W4ZfMdE+ZpF805VWCxY6LEN+xlU7OOq05VeKbdt01dO99WtlqFL+JGHe/zunZLzva3l3YfCx7Hxn8PPFemaj4b8FXaaT4cuxZaZZ6bDHr0t1Giut+twy+Y6J8zSL5pyqsFix0MQ37GVTs46rTlV4pt23TV0731a2WoUv4kYd7/O6dkvO9reXdkHgPV9O174Z+Lrjxh4E8KWXhfQ9AaxstQg0iOK9m1xsfZdl2QZ5JWbc8i7zGIwx2quKrENSpuW0m4qKWmzXN6rlve93drW7Qqek1HdK7fprb0d7Jf8Bnh1ABQAUAFABQAUAFABQAUAFABQAUAFABQAUAFABQAUAFABQAUAehaB8Y7nwvozWvh7wL4YsNbfTZdIPiCKG4F79mlUo+F87yBKyFlMvlb8E855pVV7WLhspJJpdUrafO2trX+8cHySUt2tV5P/gdLjvDvxjj8O+BNR+H8fww8IXtnq4hOoXVy2o/abl4WdopGMd2qKyGRsbEUHjINOt++io7W1Vujty31vrZvfTyFD3Hff8Ayunb8F5h4d+Mcfh3wJqPw/j+GHhC9s9XEJ1C6uW1H7TcvCztFIxju1RWQyNjYig8ZBorfvoqO1tVbo7ct9b62b308gh7jvv/AJXTt+C8xdJ+NF34f0iW18O+AvCel6xPpT6NLr1tb3C3rWzp5chCGY26yOm5WkWIMQx5B5oq/vYyhspWvbrazt5JtapWQQ9ySlu1t5f8N0uX9O/aF8Q6db6beJ4S8OTeJtH0r+xdP8SSx3Bvbe0ETRJhBMLdpEjYqsjRFgOuTzSqpVee+nOrS89EnvezaVm1ZsIXhy/3XdeWt/wequeV0wCgAoAKAPRLP45eLLHxd4f8ZxadpBvfDmgr4dtY2hl8p7ZbeSANIPMyZNkrHIIGQOMcF1H7X21/+Xqs/LRLT5Jb3CPu8lvsu6/8Ccvzf3ENz8XJ9V8LWHh7xJ4G8Na1d6TpzaTp+sXaXS3ltafNsQeVOkTmPcdjPGxX34wprnbktG7Xa62sl5Xskr21S1CPuq261/Hfz31K2sfFCXWfhvo/w1l8GeH4LbQ5pbi01GE3n2zzZinnM264MR3+WgI8vAx8oXJoqfvJxntyq3y1dvvbfr5aBD3Iyj3d/n/w2n/B1Lh+MV1feE9N8L+JfA/hnX5dFspdO0vVL+O5F3aWzlj5Y8qdI5NjMShkR9mTiir+8bls2km15aLyulpe224Q9yy3Sd7eu/3mro/7RPiLRrDSo4/B3he51TR9Dn8N2+r3EFy10NPkSRfL2rOItyiV8OIw2MAkjcGVZe2jOL050ou3VJJL52ivuHTfs3FrXld199/u3+/Q5vQ/iPdaZ4Bvvh/qXhTR9b0me+Oo273v2lJLG8aLyjLG0E0YJKL92QOuVBxwQSp+8UU91ez6pO1126LoKPuyb6O2npf59WXLn4uT6r4WsPD3iTwN4a1q70nTm0nT9Yu0ulvLa0+bYg8qdInMe47GeNivvxhzXO3JaN2u11tZLyvZJXtqlqEfdVt1r+O/nvqN/wCFBfHb/oivjz/wnLz/AON0AYvi3x1q3jKy8O2OqW9pFH4Z0lNHtDboyl4VkkkDSbmOXzI3IwMAcUpLmqOo93b/AMlSivwQ4vlgqa2Tb+93Ou079oLxPp2j2Nunh3QZdd0vR5NAsPEckU/9oWtg6uvlKBKISyo7IsjRlwpIz3oqr2ymn9tJS/vJW39Ukm1ZtbhB+zafZ3Xk9/z1V9LlHQvi/FoXgG/+HifDLwleWWqtDLfXVxJqX2m4mh8zyZSUvFRWTzWwFRVPG5TTrfvoqO3LqrdG1yt631a73XkEHyNve+nyve34Lz8ylrHxQl1n4b6P8NZfBnh+C20OaW4tNRhN59s82Yp5zNuuDEd/loCPLwMfKFyaKn7ycZ7cqt8tXb7236+Wgoe5GUe7v8/+G0/4Opt6d+0F4n07R7G3Tw7oMuu6Xo8mgWHiOSKf+0LWwdXXylAlEJZUdkWRoy4UkZ70qq9spp/bSUv7yVt/VJJtWbW44P2bT7O68nv+eqvpcxdF+KE2neBX+HuseENC1/TUu5r+xfUPtSTWNxLGsbvG0E0YbKop2uGXcoOOxdX96o30cU0n1SbvbtvrqhR9xvs7Nr0/Hr3OJoAKACgAoAKACgAoAKACgAoAKACgAoAKACgAoAKACgAoAKACgAoAKACgAoAKACgAoA9E8O/GOPw74E1H4fx/DDwhe2eriE6hdXLaj9puXhZ2ikYx3aorIZGxsRQeMg0Vv30VHa2qt0duW+t9bN76eQQ9x33/AMrp2/BeYeHfjHH4d8Caj8P4/hh4QvbPVxCdQurltR+03Lws7RSMY7tUVkMjY2IoPGQaK376KjtbVW6O3LfW+tm99PIIe477/wCV07fgvMXSfjRd+H9IltfDvgLwnpesT6U+jS69bW9wt61s6eXIQhmNusjpuVpFiDEMeQeaKv72MobKVr262s7eSbWqVkEPckpbtbeX/DdLhpPxou/D+kS2vh3wF4T0vWJ9KfRpdetre4W9a2dPLkIQzG3WR03K0ixBiGPIPNFX97GUNlK17dbWdvJNrVKyCHuSUt2tvL/hulyfUvjedX8EaV4E1L4XeDJbTRbF7OyuFGoxyxu4w9ztS7ETTscMzmM5IGQQAtKqvay59ntp0XZXv8+71eoQ9xW3V7+vr+S7I8zpgFABQAUAFABQAUAFABQAUAFABQAUAFABQAUAFABQAUAbGm6bpa6W+s6zJdGEz/ZoorbaHZwoZiWYEAAEdjnNAEGuaZBptxCbSd5ba7gW5gZ12uEYkYYDjIII49M0AesWnwA0WL4Waf8AEbXPGGqRLqlnNeRtp2gyX1nalCQIriZHzGzEYyVAU9ScVzVcQ6dR04rXTd2vfseQ8zm8S6EILR21lZvzSHeBv2ebLx94Fl8Q6RruvxalHp09+BceHZY9NLRbswC837WYheGAxzjGaWIxDw7baVlbrr8l5fiLEZpLDV/ZzirXt8Sv62INE0LTrj9nHxZqWieLY53sbvTbnVtOm0JBJFLJOY4hFdly23ALHC9scZOXXbjVpJrRt2d/7t3df13KnUkswhGcbXTSd+iV9Uen+Hvhx4dlsNHstW+EPhG10HUBplvqKnWZ5/EVkb91it7p3+VEDOwbywvTqByKzqNupKHM0/etZaXSbs++h5tTFVLylGrJyV7aJQfLq1/wTjPidZwR/Ae7tr3RNDi1Pwx8QX8MrfWOmRW001vb2cg/eMgyxLDcSTycZ6UQlz1adT+eDk10u2tjswbf11NN2lDms23q2jN8O/s56ZrFl4f0a98erZeNPFmkNrej6QdPZ4Gg2u8ayz7vkZ1jYj5TjBHPGbq4hw53GN1Df/Jeav8A1uaVc0lCUpqF6cXZu+t/JeRkL8HvB+g+D9G174j/ABHl8P6l4ktJL7TbGHR5LsJApIVpmVwV3kYAAOOp7gVOtLncKS5mknvbfZI1+vVatWUMPT5lF2bvbXy9DU8Dfs82Xj7wLL4h0jXdfi1KPTp78C48Oyx6aWi3ZgF5v2sxC8MBjnGM1OIxDw7baVlbrr8l5fiZYjNJYav7OcVa9viV/WweItRtvEn7Ltjrt14e0O11HT/GMOkR3VjpsVvLJbJp7sFkdAC5LHJJPJAJ6VU1y4qLT+KMm+1+ZDpQdHMXBSbThfVt68x2uqfBnwT8QPD3w30ix8RRaF4n1Dwb9qtrSHSA0d40SyStJPMrLgthlzhjxk54Bxq1p0Z1ZpXUVFvXb0OOGPrYapWk480FO177X00Rxvh39nPTNYsvD+jXvj1bLxp4s0htb0fSDp7PA0G13jWWfd8jOsbEfKcYI54zpVxDhzuMbqG/+S81f+tzrq5pKEpTUL04uzd9b+S8iO3/AGftHt/hdY/EPX/F2qw/2lZzXaf2foMl7aWhjJAiuJkfMbsRjJUBTnJOKKuIcKns4q+27te/YHmc5Yl0KcFo7ays35pE8vw4+Dafs92HjuXxLqUOtT6jLbtcrpzvvuFtt/2LZ5wQIG/5bYyfTFFWpVjXjCK0ab9dbX8u1hLFYt450eVcqW1+l99r/I8OrqPZPqfQPCXguX9l29vvBfgqLxpNIbC88QiHVJ01DT7xI74NIYEOEihBjKExssivIWztyixvuxhy6RV7S7Nxje//AG9dW00Sd9busNrJ31fbuuZWS9VrfvpbofLFMk/eCgD8H6ACgAoAKACgAoAKACgAoAKACgAoAKACgAoAKACgAoAKACgAoAKACgAoAKACgAoAKACgAoAKACgAoAKACgAoAKACgAoAKACgAoAKACgAoAKACgAoAKACgAoAKACgAoAKACgAoAKANHTNcuNNgltDbWt3bSsHaC5jLoHHAYYIIOOODQBBqep3WrXRurooCFCIiKFSNAMBVA6AUAet+Avj14c+HOgGLw38OJoddewksp7k69cGwundCpnmsyCrt/s7gPTFc1eg694uXuvy29H0PJxGW1MVUvUqe7e/wq68kza8P/tR6Tpdjoh1T4cT3upaPoP/AAjYmi12SC2a12ld624jKrKQcFsnp9MRWwrq+0UXZT30/Ly8jGpk8pyly1LJy5vhu7+t9jnPBfxh+Hnhj4e6l4B1H4SXWprrotjq1yviN4PtLwSM8TKghby8FuQCc1pXozrSTjK3Le2l7NqzOivga9Wuq8atuW9vdva/z1PQNA/aU+GFxdG+8T+G/Edrf6jFo0uqXNpLDNEZ9LkR4ViibaQkm1gxLZXK4B5NRUo1OZyha15NLzkrPXy6HDUynEpctOSaXNa99pb39Dz1PjZoOpaJ4o8N+M/AT61Ya74juPE9r5OqNaSWt3KrIdxCN5ihX6ccj34Fh5KEFGVpRjy3tfTTp6nc8BUjOFSlOzjFRel7pGjoH7R1po9joOqXfw+gvfGXhXSG0TR9bOoukcVvtdYzJbhSJGRXYD5hncTxxTq4d1OdRlZT3/X0bIqZU5ylFVLU5O7Vuvr5mWnxk8J614O0jw/8RfhkviPUvDtpJY6ZqK6xNaYgYkosyIv7zYTwQwyOD3JqdB87nSfK2knpfbaxp9Qq06sp0KnKpO7Vk9fL1Oo8P/tR6Tpdjoh1T4cT3upaPoP/AAjYmi12SC2a12ld624jKrKQcFsnp9MZ1sK6vtFF2U99Py8vI5qmTynKXLUsnLm+G7v632OF8IfFDw/pXw6v/ht4w8EPr+nTaoNZtHh1NrOS3uvJMOWIRt67TnHHPrnjatTlUkpwdmk130ev5nbXwlSeIWIpT5Xaz0vpe5u6J+0L/Y3iPwR4g/4RDzv+EN8PyaF5P9obfte+ORPN3eWfLx5mduG6deaiph/aRqxv8aS9LW+8wqZXz06kOf45c223luWdA/aOtNHsdB1S7+H0F74y8K6Q2iaPrZ1F0jit9rrGZLcKRIyK7AfMM7ieOKVXDupzqMrKe/6+jYqmVOcpRVS1OTu1br6+ZF4E+Pnh74eaEy+Hvh1PHr8thJZ3F02v3DWN27qVM81mQVduem4D0xRXw7rJwvaL6W29H0DEZbUxM71Knu3v8KuvJMw/CXxV8N6d8PJPhx428At4isIdTfVrF4dVeyeGdohGwfajb1wMgcc59eNK9KVSSnB2kk1ffRu+3qb1sFUlX+sUZ8ras9L6HmtbHoHvnwy+OHgH4bfDm/udD8GSweM4bqyEAfVZHtbqUWl7C140RjJG0TndF5oVmdCNoUqTEfvKSpw2akn5KSim162dr35XrrpZ0vdnzS6arztJNJ+nyulbzPA6BH7wUAfg/QAUAFABQAUAFABQAUAFABQAUAFABQAUAFABQAUAFABQAUAFABQAUAFABQAUAFABQAUAFABQAUAFABQAUAFABQAUAFABQAUAFABQAUAFABQAUAFABQAUAFABQAUAFABQAUAFABQAUAFABQAUAFABQAUAFABQAUAFABQAUAFABQAUAFABQAUAFABQAUAFABQAUAFABQAUAFABQAUAFABQAUAFABQAUAFABQAUAFABQAUAFABQAUAFABQAUAFABQAUAFABQAUAFABQAUAFABQAUAFABQAUAFABQAUAFABQAUAFABQAUAFABQAUAFABQAUAFABQAUAFABQAUAFABQAUAFABQAUAFABQAUAFABQAUAFABQAUAFABQAUAFABQAUAFABQAUAFABQAUAFABQAUAFABQAUAFABQAUAFABQAUAFABQAUAFABQAUAFABQAUAFABQAUAFABQAUAFABQAUAFABQAUAFABQAUAFABQAUAFABQAUAFABQAUAFABQAUAFABQAUAFABQAUAFABQAUAFABQAUAFABQAUAFABQAUAFABQAUAFABQAUAFABQAUAFABQAUAFABQAUAFABQAUAFABQAUAFABQAUAFABQAUAFABQAUAFABQAUAFABQAUAFABQAUAFABQAUAFABQAUAFABQAUAFABQAUAFABQB//9k=)"
   ]
  },
  {
   "cell_type": "markdown",
   "id": "MmHkN_fhSq33",
   "metadata": {
    "id": "MmHkN_fhSq33"
   },
   "source": [
    "#BONUS"
   ]
  },
  {
   "cell_type": "markdown",
   "id": "fPe4FFOcXHcW",
   "metadata": {
    "id": "fPe4FFOcXHcW"
   },
   "source": [
    "###"
   ]
  },
  {
   "cell_type": "markdown",
   "id": "n4CAXmJ_Su28",
   "metadata": {
    "id": "n4CAXmJ_Su28"
   },
   "source": [
    "#####Select one alternative library to Pandas (i.e., Dask, Polar, Vaex, Datatable, etc.), upload authors.json dataset, and filter authors with at least 100 reviews. Do the same using Pandas and compare performance in terms of milliseconds."
   ]
  },
  {
   "cell_type": "code",
   "execution_count": null,
   "id": "UV7C7_CIduJZ",
   "metadata": {
    "id": "UV7C7_CIduJZ"
   },
   "outputs": [],
   "source": [
    "import pandas as pd\n",
    "import dask.dataframe as dd\n",
    "import warnings\n",
    "import time\n",
    "warnings.filterwarnings(\"ignore\")"
   ]
  },
  {
   "cell_type": "code",
   "execution_count": null,
   "id": "2TvwU736SzXt",
   "metadata": {
    "id": "2TvwU736SzXt"
   },
   "outputs": [],
   "source": [
    "df_authors_bonus = pd.read_json('/home/ec2-user/lighter_authors.json', lines=True, nrows=100000)\n",
    "df_authors_bonus.head()"
   ]
  },
  {
   "cell_type": "code",
   "execution_count": null,
   "id": "fOosQA7YS4Mm",
   "metadata": {
    "id": "fOosQA7YS4Mm"
   },
   "outputs": [],
   "source": [
    "\n",
    "\n",
    "\n",
    "\n",
    "# Start measuring execution time\n",
    "start_time = time.time()\n",
    "\n",
    "# Filter authors with at least 100 reviews\n",
    "filtered_authors_pandas = df_authors_bonus[df_authors_bonus['text_reviews_count'] >= 100]\n",
    "\n",
    "# End measuring execution time\n",
    "end_time = time.time()\n",
    "\n",
    "# Calculate the execution time in milliseconds\n",
    "execution_time_pandas = (end_time - start_time) * 1000\n",
    "\n",
    "# Print the filtered DataFrame\n",
    "print(filtered_authors_pandas)\n",
    "\n",
    "# Print execution time in milliseconds\n",
    "print(f\"Pandas execution time: {execution_time_pandas:.2f} ms\")\n"
   ]
  },
  {
   "cell_type": "markdown",
   "id": "CaLDUw7wS68O",
   "metadata": {
    "id": "CaLDUw7wS68O"
   },
   "source": [
    "Pandas execution time: 167.77 ms"
   ]
  },
  {
   "cell_type": "code",
   "execution_count": null,
   "id": "7F_nYun-S-TK",
   "metadata": {
    "id": "7F_nYun-S-TK"
   },
   "outputs": [],
   "source": [
    "\n",
    "\n",
    "\n",
    "# Load data into a Dask DataFrame\n",
    "df_authors_bonus = dd.read_json('/home/ec2-user/lighter_authors.json', lines=True, nrows=100000)\n",
    "\n",
    "# Start measuring execution time\n",
    "start_time = time.time()\n",
    "\n",
    "# Filter authors with at least 100 reviews\n",
    "filtered_authors_dask = df_authors_bonus[df_authors_bonus['text_reviews_count'] >= 100]\n",
    "\n",
    "# End measuring execution time\n",
    "end_time = time.time()\n",
    "\n",
    "# Calculate the execution time in milliseconds\n",
    "execution_time_dask = (end_time - start_time) * 1000\n",
    "\n",
    "# Compute the result to execute the filtering\n",
    "filtered_authors_dask = filtered_authors_dask.compute()\n",
    "\n",
    "# Print the filtered DataFrame\n",
    "print(filtered_authors_dask)\n",
    "\n",
    "# Print execution time in milliseconds\n",
    "print(f\"Dask execution time: {execution_time_dask:.2f} ms\")\n"
   ]
  },
  {
   "cell_type": "markdown",
   "id": "x4TotqomS_uI",
   "metadata": {
    "id": "x4TotqomS_uI"
   },
   "source": [
    "Dask execution time: 139.79 ms"
   ]
  },
  {
   "cell_type": "markdown",
   "id": "1YiNDAjUTMRw",
   "metadata": {
    "id": "1YiNDAjUTMRw"
   },
   "source": [
    "#####Select one alternative library to Pandas (i.e., Dask, Polar, Vaex, Datatable, etc.), upload books.json, and join them with authors.json based on author_id. How many books don’t have a match for the author?"
   ]
  },
  {
   "cell_type": "code",
   "execution_count": null,
   "id": "LGNOdpvGTNut",
   "metadata": {
    "id": "LGNOdpvGTNut"
   },
   "outputs": [],
   "source": [
    "\n",
    "\n",
    "# Load the JSON datasets into Dask DataFrames\n",
    "books_dd_bonus = dd.read_json('/home/ec2-user/lighter_books.json', lines=True, nrows=100000)\n",
    "authors_dd_bonus = dd.read_json('/home/ec2-user/lighter_authors.json', lines=True, nrows=100000)\n",
    "\n",
    "# Perform the join operation, specifying the correct columns for the join\n",
    "merged_dd = dd.merge(books_dd_bonus, authors_dd_bonus, left_on='author_id', right_on='id', how='left')\n",
    "\n",
    "# Count the number of books without a matching author\n",
    "books_without_author = merged_dd[merged_dd['author_name'].isna()]\n",
    "num_books_without_author = len(books_without_author)\n",
    "\n",
    "print(\"Number of books without a matching author: \", num_books_without_author)\n"
   ]
  },
  {
   "cell_type": "markdown",
   "id": "Dfu9oyX5TRw5",
   "metadata": {
    "id": "Dfu9oyX5TRw5"
   },
   "source": [
    "#####Number of books without a matching author:  0"
   ]
  },
  {
   "cell_type": "markdown",
   "id": "_rbr59sXTUGO",
   "metadata": {
    "id": "_rbr59sXTUGO"
   },
   "source": [
    "###Every book should have a field named description, and any author should have a field named description. Choose one of the two and perform a text-mining analysis:"
   ]
  },
  {
   "cell_type": "markdown",
   "id": "SUsdXNQUTW-B",
   "metadata": {
    "id": "SUsdXNQUTW-B"
   },
   "source": [
    "#####If you choose to text-mine books.json ’ descriptions, try to find a way to group books in genres using whatever procedure you want, highlighting words that are triggers for these choices."
   ]
  },
  {
   "cell_type": "code",
   "execution_count": null,
   "id": "UVATJwXvTbcM",
   "metadata": {
    "id": "UVATJwXvTbcM"
   },
   "outputs": [],
   "source": [
    "\n",
    "from sklearn.feature_extraction.text import TfidfVectorizer\n",
    "from sklearn.cluster import KMeans\n",
    "import nltk\n",
    "\n",
    "nltk.download('punkt')\n",
    "from nltk.corpus import stopwords\n",
    "from nltk.stem import WordNetLemmatizer\n",
    "\n",
    "# Load the 'books.json' dataset into a Pandas DataFrame\n",
    "books_df = pd.read_json('/home/ec2-user/lighter_books.json', lines=True, nrows=100000)\n",
    "\n",
    "# Preprocess descriptions\n",
    "nltk.download('stopwords')\n",
    "nltk.download('wordnet')\n",
    "stop_words = set(stopwords.words('english'))\n",
    "lemmatizer = WordNetLemmatizer()\n",
    "\n",
    "def preprocess_description(text):\n",
    "    words = nltk.word_tokenize(text.lower())\n",
    "    words = [word for word in words if word.isalpha() and word not in stop_words]\n",
    "    words = [lemmatizer.lemmatize(word) for word in words]\n",
    "    return ' '.join(words)\n",
    "\n",
    "books_df['clean_description'] = books_df['description'].apply(preprocess_description)\n",
    "\n",
    "# Vectorize the text using TF-IDF\n",
    "tfidf_vectorizer = TfidfVectorizer()\n",
    "tfidf_matrix = tfidf_vectorizer.fit_transform(books_df['clean_description'])\n",
    "\n",
    "# Perform K-Means clustering (adjust the number of clusters as needed)\n",
    "num_clusters = 5\n",
    "kmeans = KMeans(n_clusters=num_clusters)\n",
    "kmeans.fit(tfidf_matrix)\n",
    "\n",
    "# Assign the cluster labels to the DataFrame\n",
    "books_df['cluster_label'] = kmeans.labels_\n",
    "\n",
    "# Analyze and explore the clusters to identify genres or themes\n",
    "for cluster_id in range(num_clusters):\n",
    "    cluster_books = books_df[books_df['cluster_label'] == cluster_id]\n",
    "    common_words = cluster_books['clean_description'].str.split(expand=True).stack().value_counts().head(10)\n",
    "    print(f\"Cluster {cluster_id} Common Words: {common_words}\")\n",
    "\n",
    "# Visualize the clusters or use the results for genre identification\n"
   ]
  },
  {
   "cell_type": "markdown",
   "id": "tR4xYkIGTk1c",
   "metadata": {
    "id": "tR4xYkIGTk1c"
   },
   "source": [
    "In our project, we managed to improve our book genre classification process by filtering out non-English books, eliminating common English words, and recalibrating the number of clusters. Initially, we filtered non-English books to ensure the accuracy of our analysis. Next, we eliminated common English words that didn't contribute to meaningful distinctions. Finally, by adjusting the number of clusters, we achieved better balance in our clustering results, ultimately enhancing the accuracy of our genre identification. These strategic adjustments led to more reliable and precise genre classification."
   ]
  },
  {
   "cell_type": "code",
   "execution_count": null,
   "id": "dKYBcy9UT6-W",
   "metadata": {
    "id": "dKYBcy9UT6-W"
   },
   "outputs": [],
   "source": [
    "from sklearn.feature_extraction.text import TfidfVectorizer\n",
    "from sklearn.cluster import KMeans\n",
    "import nltk\n",
    "import pandas as pd\n",
    "import numpy as np\n",
    "\n",
    "nltk.download('punkt')\n",
    "from nltk.corpus import stopwords\n",
    "from nltk.stem import WordNetLemmatizer\n",
    "\n",
    "# Load the 'books.json' dataset into a Pandas DataFrame\n",
    "books_df = pd.read_json('/home/ec2-user/lighter_books.json', lines=True, nrows=100000)\n",
    "\n",
    "# Preprocess descriptions\n",
    "nltk.download('stopwords')\n",
    "nltk.download('wordnet')\n",
    "stop_words = set(stopwords.words('english'))\n",
    "custom_stop_words = set([\"would\", \"could\", \"the\", \"a\", \"man\", \"woman\"])  # Add your custom stop words here\n",
    "stop_words = stop_words.union(custom_stop_words)  # Combine with custom stop words\n",
    "lemmatizer = WordNetLemmatizer()\n",
    "\n",
    "def is_english(text):\n",
    "    words = nltk.word_tokenize(text.lower())\n",
    "    english_word_count = sum(1 for word in words if word in stop_words)\n",
    "    return english_word_count >= len(words) / 2  # Simple heuristic for English text\n",
    "\n",
    "# Set a minimum description length threshold (e.g., 50 words)\n",
    "min_description_length = 50\n",
    "\n",
    "def preprocess_description(text):\n",
    "    if not is_english(text) or len(text.split()) < min_description_length:\n",
    "        return None  # Exclude non-English or short descriptions\n",
    "    words = nltk.word_tokenize(text.lower())\n",
    "    words = [word for word in words if word.isalpha() and word not in stop_words]\n",
    "    words = [lemmatizer.lemmatize(word) for word in words]\n",
    "    return ' '.join(words)\n",
    "\n",
    "books_df['clean_description'] = books_df['description'].apply(preprocess_description)\n",
    "\n",
    "# Drop rows with non-English books or short descriptions\n",
    "books_df = books_df.dropna()\n",
    "\n",
    "# Vectorize the text using TF-IDF with feature selection\n",
    "tfidf_vectorizer = TfidfVectorizer(max_features=1000)  # Limit features to the top 1000 most important\n",
    "tfidf_matrix = tfidf_vectorizer.fit_transform(books_df['clean_description'])\n",
    "\n",
    "# Perform K-Means clustering with a balanced cluster size\n",
    "num_clusters = 7\n",
    "kmeans = KMeans(n_clusters=num_clusters, n_init=30, random_state=42)\n",
    "cluster_labels = kmeans.fit_predict(tfidf_matrix)\n",
    "\n",
    "# Assign the cluster labels to the DataFrame\n",
    "books_df['cluster_label'] = cluster_labels\n",
    "\n",
    "# Analyze and explore the clusters\n",
    "cluster_words = []\n",
    "\n",
    "for cluster_id in range(num_clusters):\n",
    "    cluster_books = books_df[books_df['cluster_label'] == cluster_id]\n",
    "    common_words = cluster_books['clean_description'].str.split(expand=True).stack().value_counts()\n",
    "    cluster_words.append(common_words)\n",
    "\n",
    "# Print the common words in each cluster\n",
    "for cluster_id, common_words in enumerate(cluster_words):\n",
    "    print(f\"Cluster {cluster_id} Common Words:\")\n",
    "    print(common_words.head(10))\n",
    "\n",
    "# Visualize the clusters or use the results for genre identification\n"
   ]
  },
  {
   "cell_type": "markdown",
   "id": "M0JQJOFsUJNI",
   "metadata": {
    "id": "M0JQJOFsUJNI"
   },
   "source": [
    "In **Cluster 0**, the common words such as \"child\", \"house\", \"offred\", \"woman\" and \"handmaid\" suggest a theme related to a house or domestic setting, possibly indicating a genre related to **family or life.**\n",
    "\n",
    "**Cluster 1,** characterized by words like \"god\", \"life\", and \"journey\" seems to revolve around themes of spirituality and personal growth, possibly indicating a **religious or philosophical**  genres.\n",
    "\n",
    "**Cluster 2** contains words like \"speech\", \"world\" and \"socrates\" suggesting themes related to philosophical discourse and wisdom, pointing toward a  **philosophy or academic** genres.\n",
    "\n",
    "**Cluster 3,** with terms like \"war\", \"wolfriders\", \"ferocious\" and \"survive\" implies a theme of conflict and survival, possibly associated with **fantasy, action or war**  genres.\n",
    "\n",
    "**Cluster 4,** featuring words like \"murder\", \"law\" and \"justice\" hints at a genre centered on** crime, law, or justice-related** genres.\n",
    "\n",
    "**Cluster 5,** with terms such as \"see\", \"rock\", \"ship\" and \"wind\" suggests a genre involving **exploration, adventure, or travel**.\n",
    "\n",
    "**Cluster 6** stands out with words like \"bfg\", \"sophie\" and \"giant\" which are associated with the title and characters of \"The BFG\" by Roald Dahl, indicating a potential genre related to **children's literature and fantasy**.\n",
    "\n"
   ]
  },
  {
   "cell_type": "markdown",
   "id": "5pYnogXfVHxx",
   "metadata": {
    "id": "5pYnogXfVHxx"
   },
   "source": [
    "#####If you choose to text-mine authors.json’ about-field, try to find a way to group authors in genres using whatever procedure you want, highlighting words that are triggers for these choices."
   ]
  },
  {
   "cell_type": "code",
   "execution_count": null,
   "id": "uaRZddJ-WLfq",
   "metadata": {
    "id": "uaRZddJ-WLfq"
   },
   "outputs": [],
   "source": [
    "import pandas as pd\n",
    "import numpy as np\n",
    "import nltk\n",
    "from sklearn.feature_extraction.text import TfidfVectorizer\n",
    "from sklearn.cluster import KMeans\n",
    "\n",
    "# Load the 'authors.json' dataset into a Pandas DataFrame\n",
    "df_authors_bonus = pd.read_json('/home/ec2-user/lighter_authors.json', lines=True, nrows=100000)\n",
    "\n",
    "# Preprocess 'about' descriptions of authors\n",
    "nltk.download('punkt')\n",
    "from nltk.corpus import stopwords\n",
    "from nltk.stem import WordNetLemmatizer\n",
    "\n",
    "stop_words = set(stopwords.words('english'))\n",
    "lemmatizer = WordNetLemmatizer()\n",
    "\n",
    "def preprocess_about(text):\n",
    "    words = nltk.word_tokenize(text.lower())\n",
    "    words = [word for word in words if word.isalpha() and word not in stop_words]\n",
    "    words = [lemmatizer.lemmatize(word) for word in words]\n",
    "    return ' '.join(words)\n",
    "\n",
    "df_authors_bonus['clean_about'] = df_authors_bonus['about'].apply(preprocess_about)\n",
    "\n",
    "# Vectorize the text using TF-IDF with feature selection\n",
    "tfidf_vectorizer = TfidfVectorizer(max_features=1000)\n",
    "tfidf_matrix = tfidf_vectorizer.fit_transform(df_authors_bonus['clean_about'])\n",
    "\n",
    "# Perform K-Means clustering with a balanced cluster size\n",
    "num_clusters = 5  # Adjust as needed\n",
    "kmeans = KMeans(n_clusters=num_clusters, n_init=30, random_state=42)\n",
    "cluster_labels = kmeans.fit_predict(tfidf_matrix)\n",
    "\n",
    "# Assign the cluster labels to the DataFrame\n",
    "df_authors_bonus['cluster_label'] = cluster_labels\n",
    "\n",
    "# Analyze and explore the clusters\n",
    "cluster_words = []\n",
    "\n",
    "for cluster_id in range(num_clusters):\n",
    "    cluster_authors = df_authors_bonus[df_authors_bonus['cluster_label'] == cluster_id]\n",
    "    common_words = cluster_authors['clean_about'].str.split(expand=True).stack().value_counts()\n",
    "    cluster_words.append(common_words)\n",
    "\n",
    "# Print the common words in each cluster\n",
    "for cluster_id, common_words in enumerate(cluster_words):\n",
    "    print(f\"Cluster {cluster_id} Common Words:\")\n",
    "    print(common_words.head(10))\n",
    "\n",
    "# Visualize the clusters or use the results for author genre identification\n"
   ]
  },
  {
   "cell_type": "markdown",
   "id": "AzQp6kYaWR_q",
   "metadata": {
    "id": "AzQp6kYaWR_q"
   },
   "source": [
    "For the authors' procedure and \"about\" sections, we followed a similar process to enhance genre classification. We initiated by filtering out non-English authors to ensure analysis accuracy. Then, we removed common English words that didn't contribute to meaningful distinctions. Finally, by increasing the number of clusters, we achieved a more balanced and precise genre identification, resulting in improved accuracy for author genre classification. These steps mirrored the approach taken for book genres, enhancing the reliability and precision of our author genre identification."
   ]
  },
  {
   "cell_type": "code",
   "execution_count": null,
   "id": "BVFGhe84VLB7",
   "metadata": {
    "id": "BVFGhe84VLB7"
   },
   "outputs": [],
   "source": [
    "import pandas as pd\n",
    "import numpy as np\n",
    "import nltk\n",
    "from sklearn.feature_extraction.text import TfidfVectorizer\n",
    "from sklearn.cluster import KMeans\n",
    "\n",
    "# Load the 'authors.json' dataset into a Pandas DataFrame\n",
    "df_authors_bonus = pd.read_json('/home/ec2-user/lighter_authors.json', lines=True, nrows=100000)\n",
    "\n",
    "# Preprocess 'about' descriptions of authors\n",
    "nltk.download('punkt')\n",
    "from nltk.corpus import stopwords\n",
    "from nltk.stem import WordNetLemmatizer\n",
    "\n",
    "stop_words = set(stopwords.words('english'))\n",
    "custom_stop_words = set([\"would\", \"could\", \"the\", \"a\", \"much\", \"one\", \"two\", \"must\", \"shall\", \"going\", \"first\"])  # common words\n",
    "stop_words = stop_words.union(custom_stop_words)  # Combine with custom stop words\n",
    "lemmatizer = WordNetLemmatizer()\n",
    "\n",
    "def is_english(text):\n",
    "    words = nltk.word_tokenize(text.lower())\n",
    "    english_word_count = sum(1 for word in words if word in stop_words)\n",
    "    return english_word_count >= len(words) / 2\n",
    "\n",
    "# Set a minimum description length threshold so that we can remove noises\n",
    "min_description_length = 25\n",
    "\n",
    "def preprocess_about(text):\n",
    "    if not is_english(text) or len(text.split()) < min_description_length:\n",
    "        return None  # Exclude non-English or short about descriptions\n",
    "    words = nltk.word_tokenize(text.lower())\n",
    "    words = [word for word in words if word.isalpha() and word not in stop_words]\n",
    "    words = [lemmatizer.lemmatize(word) for word in words]\n",
    "    return ' '.join(words)\n",
    "\n",
    "df_authors_bonus['clean_about'] = df_authors_bonus['about'].apply(preprocess_about)\n",
    "\n",
    "# Drop rows with non-English authors or short about descriptions\n",
    "df_authors_bonus = df_authors_bonus.dropna()\n",
    "\n",
    "# Vectorize the text using TF-IDF with feature selection\n",
    "tfidf_vectorizer = TfidfVectorizer(max_features=1000)  # Limit features to the top 1000 most important\n",
    "tfidf_matrix = tfidf_vectorizer.fit_transform(df_authors_bonus['clean_about'])\n",
    "\n",
    "# Perform K-Means clustering with a balanced cluster size\n",
    "num_clusters = 5\n",
    "kmeans = KMeans(n_clusters=num_clusters, n_init=30, random_state=42)\n",
    "cluster_labels = kmeans.fit_predict(tfidf_matrix)\n",
    "\n",
    "# Assign the cluster labels to the DataFrame\n",
    "df_authors_bonus['cluster_label'] = cluster_labels\n",
    "\n",
    "# Analyze and explore the clusters\n",
    "cluster_words = []\n",
    "\n",
    "for cluster_id in range(num_clusters):\n",
    "    cluster_authors = df_authors_bonus[df_authors_bonus['cluster_label'] == cluster_id]\n",
    "    common_words = cluster_authors['clean_about'].str.split(expand=True).stack().value_counts()\n",
    "    cluster_words.append(common_words)\n",
    "\n",
    "# Print the common words in each cluster\n",
    "for cluster_id, common_words in enumerate(cluster_words):\n",
    "    print(f\"Cluster {cluster_id} Common Words:\")\n",
    "    print(common_words.head(10))\n",
    "\n",
    "# Visualize the clusters or use the results for author genre identification\n"
   ]
  },
  {
   "cell_type": "markdown",
   "id": "avz8GpEFVgqE",
   "metadata": {
    "id": "avz8GpEFVgqE"
   },
   "source": [
    "In **Cluster 0,** the common words such as \"love\" and \"life\" suggest a theme related to the **love and romance** genres.\n",
    "\n",
    "**Cluster 1,** characterized by words like \"history,\" \"study,\" and \"law,\" seems to revolve around themes of the **history and law** genres.\n",
    "\n",
    "**Cluster 2** contains words like \"christian\" and \"romance,\" suggesting themes related to the **religion and life-journey** genres.\n",
    "\n",
    "**Cluster 3,** with terms like \"child\" and \"love,\" implies **childhood and love** genres.\n",
    "\n",
    "**Cluster 4,** featuring words like \"life\" and \"world,\" hints at a genre centered on **life and adventure** genres."
   ]
  },
  {
   "cell_type": "markdown",
   "id": "LhdyE1u0V35M",
   "metadata": {
    "id": "LhdyE1u0V35M"
   },
   "source": [
    "#####If you feel comfortable and did both tasks, analyze the matching of the two procedures. You grouped books and authors in genres. Do these two procedures show correspondence?"
   ]
  },
  {
   "cell_type": "markdown",
   "id": "EiPx-9shWfjv",
   "metadata": {
    "id": "EiPx-9shWfjv"
   },
   "source": [
    "The procedures for books and authors share similarities in their clustering methods, employing clustering as a fundamental step to group items based on their textual data. However, they diverge in terms of the manner in which genre identification is approached.\n",
    "\n",
    "In the books procedure, clustering was conducted, and the most frequent terms within each cluster were scrutinized to imply potential genres. This process entailed an indirect genre identification approach, where the genre was inferred from the prevailing terms in each cluster. For example, the presence of words like \"war,\" \"ferocious,\" and \"survive\" hinted at a theme of conflict and survival, potentially linked with action, fantasy, or war genres.\n",
    "\n",
    "On the other hand, in the authors' procedure, genre classification was directly derived from recurring words within each cluster, eliminating the need for conjecture. This direct genre identification process allowed for a more straightforward and explicit assignment of genres to author clusters, based on common and recurring terms found within the authors' \"about\" sections.\n",
    "\n",
    "In conclusion, clustering played a central role in both procedures for categorizing items based on textual data. However, they differed in their approach to genre identification, with the books procedure involving indirect inference and the authors' procedure enabling direct genre assignment based on common terms."
   ]
  },
  {
   "cell_type": "markdown",
   "id": "e512d038-7627-4f77-99aa-be7fb09d1d2d",
   "metadata": {},
   "source": [
    "# AWS Question (AWSQ)\n",
    "### Script"
   ]
  },
  {
   "cell_type": "code",
   "execution_count": null,
   "id": "56c59733-c890-4ce4-b8b2-6f1e8b037498",
   "metadata": {},
   "outputs": [],
   "source": [
    "# #Import list.json\n",
    "# chunk_size = 10000 \n",
    "# chunks = []\n",
    "# for chunk in pd.read_json(r\"C:\\Users\\MMC\\Downloads\\list.json\", lines=True, chunksize=chunk_size):\n",
    "#     chunks.append(chunk)\n",
    "# listDf = pd.concat(chunks, ignore_index=True)\n",
    "\n",
    "# # Please report the top 5 most frequently used tags and the number of times they appear in the lists.\n",
    "# start_time = datetime.now()\n",
    "# tagCounts = {}\n",
    "# for tags in listDf['tags']:\n",
    "#     if isinstance(tags, list):\n",
    "#         for tag in tags:\n",
    "#             if tag in tagCounts:\n",
    "#                 tagCounts[tag] += 1\n",
    "#             else:\n",
    "#                 tagCounts[tag] = 1\n",
    "\n",
    "# tagValues = pd.DataFrame(list(tagCounts.items()), columns=['Tag', 'Count'])\n",
    "# tagValues = tagValues.sort_values('Count', ascending = False).reset_index()\n",
    "# end_time = datetime.now()\n",
    "\n",
    "# execution_time = end_time - start_time\n",
    "# execution_time = execution_time.total_seconds()\n",
    "# print(f\"Total time taken: {execution_time:.6f}\")\n",
    "# tagValues.head(5)"
   ]
  },
  {
   "attachments": {
    "ce463611-7ef6-4d8a-b454-0d564bd6aeaf.png": {
     "image/png": "[encoded data removed]"
    }
   },
   "cell_type": "markdown",
   "id": "c5f9de80-2475-421c-9199-5261c8e34cdc",
   "metadata": {},
   "source": [
    "This matches the dataframe provided in the question\n",
    "\n",
    "\n",
    "![Screenshot 2023-11-04 032055.png](attachment:ce463611-7ef6-4d8a-b454-0d564bd6aeaf.png)\n"
   ]
  },
  {
   "cell_type": "markdown",
   "id": "f1ae42fc-2354-4597-a585-ce415af9db15",
   "metadata": {
    "tags": []
   },
   "source": [
    "|                    | Time Taken |\n",
    "| ------------------ | ---------- |\n",
    "| Time taken by PC  | 1.52 s     |\n",
    "| Time taken by EC2 | 0.87 s     |\n"
   ]
  },
  {
   "cell_type": "markdown",
   "id": "0632e463-4ffb-4e26-bed6-16d81a22997b",
   "metadata": {},
   "source": [
    "## The information about the config of the EC2 instance\n",
    "\n",
    "### EC2 instance was configured using the following commands:\n",
    "sudo apt update\n",
    "\n",
    "sudo apt upgrade\n",
    "\n",
    "sudo apt install python3-pip\n",
    "\n",
    "### Installed AWSCLI\n",
    "\n",
    "msiexec.exe /i https://awscli.amazonaws.com/AWSCLIV2.msi\n",
    "\n",
    "### Connected to EC2 instance\n",
    "\n",
    "ssh -i \"teekeypair.pem\" ubuntu@ec2-54-80-115-100.compute-1.amazonaws.com\n",
    "\n",
    "### Copied dataset and script from s3 to EC2 instance\n",
    "aws s3 cp s3://teeadmbucket/HW2/list.json /home/ubuntu/\n",
    "\n",
    "aws s3 cp s3://teeadmbucket/HW2/awsquestion.py /home/ubuntu/\n",
    "\n",
    "### Ran using \n",
    "\n",
    "python3 awsquestion.py\n"
   ]
  },
  {
   "cell_type": "code",
   "execution_count": null,
   "id": "7f4afe51-2510-4861-94e5-83574b95bb26",
   "metadata": {},
   "outputs": [],
   "source": []
  }
 ],
 "metadata": {
  "colab": {
   "collapsed_sections": [
    "aHHnFsKF10Rw",
    "bKADYWBVKlrD",
    "nmakiAN8Mwg3"
   ],
   "provenance": []
  },
  "kernelspec": {
   "display_name": "conda_python3",
   "language": "python",
   "name": "conda_python3"
  },
  "language_info": {
   "codemirror_mode": {
    "name": "ipython",
    "version": 3
   },
   "file_extension": ".py",
   "mimetype": "text/x-python",
   "name": "python",
   "nbconvert_exporter": "python",
   "pygments_lexer": "ipython3",
   "version": "3.10.12"
  }
 },
 "nbformat": 4,
 "nbformat_minor": 5
}
